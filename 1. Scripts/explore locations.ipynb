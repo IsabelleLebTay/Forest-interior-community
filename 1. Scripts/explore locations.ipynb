{
 "cells": [
  {
   "cell_type": "markdown",
   "metadata": {},
   "source": [
    "# Interior points near harvest edge\n",
    "This script uses all the ARU locations deployed in Alberta, and applies filters to identify forests in which we can evaluate the edge avoidance of interior forest birds.\n",
    "\n",
    "All geographical files, layers, and rasters are reprojected in EPSG: 2400 (NAD83 10-TM)\n",
    "\n",
    "**Filters**\n",
    "1. Exclude points that are in harvest polygons (form the ABMI harvest regeneration gdb)\n",
    "2. Identify locations in the Boreal and Foothills ecoregions\n",
    "3. Identify the nearest harvest polygon for each site\n",
    "4. Keep sites where the nearest harvest was logged between 1980 and 2023\n",
    "5. Keep locations that have recordings\n",
    "6. Filter out locations not within breeding bird season or during dawn chant\n",
    "7. Exclude points that have more than 1 harvest edge within 500m\n",
    "8. Get the proportion of tree species within 150m radius for each point"
   ]
  },
  {
   "cell_type": "code",
   "execution_count": 2,
   "metadata": {},
   "outputs": [],
   "source": [
    "import os\n",
    "import csv\n",
    "import json\n",
    "import pandas as pd\n",
    "import matplotlib.pyplot as plt\n",
    "import seaborn as sns\n",
    "import fiona\n",
    "import geopandas as gpd\n",
    "from shapely.geometry import shape\n",
    "from shapely.ops import nearest_points\n",
    "import numpy as np\n",
    "import rasterio\n",
    "from rasterstats import zonal_stats\n",
    "from rasterio.features import shapes\n",
    "from shapely.geometry import shape\n",
    "\n",
    "# processed_path = \"C:/Users/ilebe/Documents/!Masters!/Chapter 3/Data synthesis/0. Data/Processed\"\n",
    "processed_path = r\"C:\\Users\\ilebe\\Documents\\!Masters!\\Forest interior community\\Forest-interior-community\\0. Data\\Processed\"\n",
    "raw_path = \"C:/Users/ilebe/Documents/!Masters!/Forest interior community/Forest-interior-community//0. Data/Raw\"\n",
    "output_path = r\"C:\\Users\\ilebe\\Documents\\!Masters!\\Forest interior community\\Forest-interior-community\\2. Output\"\n",
    "lead_tree_raster_path = r\"C:\\Users\\ilebe\\Documents\\!Masters!\\Alberta-GIS-Ecology-Tools-1\\Lead Tree Species\\CA_forest_lead_tree_species.tif\"\n",
    "harvest_shp_path = r\"C:\\Users\\ilebe\\Documents\\!Masters!\\Alberta-GIS-Ecology-Tools-1\\ABMI-Harvest Regeneration geodatabase\\Regen gdb\\ABMI_HarvestArea_SpectralRegeneration_2019_v1.shp\""
   ]
  },
  {
   "cell_type": "code",
   "execution_count": 2,
   "metadata": {},
   "outputs": [],
   "source": [
    "Harvest_polygons_gdf = gpd.read_file(harvest_shp_path)"
   ]
  },
  {
   "cell_type": "markdown",
   "metadata": {},
   "source": [
    "### A.1 Extract Harvest polygons from the Harvest Regeneration shapefile"
   ]
  },
  {
   "cell_type": "code",
   "execution_count": 3,
   "metadata": {},
   "outputs": [],
   "source": [
    "Harvest_AREAS_polygons_gdf = Harvest_polygons_gdf[Harvest_polygons_gdf['FEATURE_TY'] == 'HARVEST-AREA']"
   ]
  },
  {
   "cell_type": "code",
   "execution_count": 5,
   "metadata": {},
   "outputs": [],
   "source": [
    "# Load the CSV\n",
    "BU_all_points = pd.read_csv(os.path.join(raw_path, 'BU_locations_20240212.csv'))\n",
    "\n",
    "# Convert the DataFrame to a GeoDataFrame\n",
    "# longitude values are considered the x-coordinate, while latitude values are the y-coordinate.\n",
    "BU_points_geo = gpd.GeoDataFrame(BU_all_points, geometry=gpd.points_from_xy(BU_all_points.longitude, BU_all_points.latitude), crs=\"EPSG:4326\")"
   ]
  },
  {
   "cell_type": "code",
   "execution_count": 12,
   "metadata": {},
   "outputs": [
    {
     "data": {
      "text/plain": [
       "0        False\n",
       "1        False\n",
       "2        False\n",
       "3        False\n",
       "4        False\n",
       "         ...  \n",
       "20995    False\n",
       "20996    False\n",
       "20997    False\n",
       "20998    False\n",
       "20999    False\n",
       "Name: geometry, Length: 21000, dtype: bool"
      ]
     },
     "execution_count": 12,
     "metadata": {},
     "output_type": "execute_result"
    }
   ],
   "source": [
    "BU_points_geo.geometry.isna()"
   ]
  },
  {
   "cell_type": "code",
   "execution_count": 13,
   "metadata": {},
   "outputs": [
    {
     "data": {
      "text/html": [
       "<div>\n",
       "<style scoped>\n",
       "    .dataframe tbody tr th:only-of-type {\n",
       "        vertical-align: middle;\n",
       "    }\n",
       "\n",
       "    .dataframe tbody tr th {\n",
       "        vertical-align: top;\n",
       "    }\n",
       "\n",
       "    .dataframe thead th {\n",
       "        text-align: right;\n",
       "    }\n",
       "</style>\n",
       "<table border=\"1\" class=\"dataframe\">\n",
       "  <thead>\n",
       "    <tr style=\"text-align: right;\">\n",
       "      <th></th>\n",
       "      <th>location</th>\n",
       "      <th>latitude</th>\n",
       "      <th>longitude</th>\n",
       "      <th>elevationMeters</th>\n",
       "      <th>bufferRadiusMeters</th>\n",
       "      <th>isHidden</th>\n",
       "      <th>trueCoordinates</th>\n",
       "      <th>comments</th>\n",
       "      <th>internal_wildtrax_id</th>\n",
       "      <th>internal_update_ts</th>\n",
       "      <th>geometry</th>\n",
       "    </tr>\n",
       "  </thead>\n",
       "  <tbody>\n",
       "    <tr>\n",
       "      <th>0</th>\n",
       "      <td>BH3</td>\n",
       "      <td>52.52369</td>\n",
       "      <td>-116.37471</td>\n",
       "      <td>NaN</td>\n",
       "      <td>NaN</td>\n",
       "      <td>Visible</td>\n",
       "      <td>t</td>\n",
       "      <td>NaN</td>\n",
       "      <td>479111</td>\n",
       "      <td>2023-07-11 22:56:23</td>\n",
       "      <td>POINT (-116.37471 52.52369)</td>\n",
       "    </tr>\n",
       "    <tr>\n",
       "      <th>1</th>\n",
       "      <td>BH5</td>\n",
       "      <td>52.52123</td>\n",
       "      <td>-116.19895</td>\n",
       "      <td>NaN</td>\n",
       "      <td>NaN</td>\n",
       "      <td>Visible</td>\n",
       "      <td>t</td>\n",
       "      <td>NaN</td>\n",
       "      <td>479157</td>\n",
       "      <td>2023-07-14 15:38:18</td>\n",
       "      <td>POINT (-116.19895 52.52123)</td>\n",
       "    </tr>\n",
       "    <tr>\n",
       "      <th>2</th>\n",
       "      <td>BH6</td>\n",
       "      <td>52.50120</td>\n",
       "      <td>-116.14980</td>\n",
       "      <td>NaN</td>\n",
       "      <td>NaN</td>\n",
       "      <td>Visible</td>\n",
       "      <td>t</td>\n",
       "      <td>NaN</td>\n",
       "      <td>479158</td>\n",
       "      <td>2023-07-14 15:41:29</td>\n",
       "      <td>POINT (-116.14980 52.50120)</td>\n",
       "    </tr>\n",
       "    <tr>\n",
       "      <th>3</th>\n",
       "      <td>BH7</td>\n",
       "      <td>52.49458</td>\n",
       "      <td>-116.01662</td>\n",
       "      <td>NaN</td>\n",
       "      <td>NaN</td>\n",
       "      <td>Visible</td>\n",
       "      <td>t</td>\n",
       "      <td>NaN</td>\n",
       "      <td>479154</td>\n",
       "      <td>2023-07-14 15:33:14</td>\n",
       "      <td>POINT (-116.01662 52.49458)</td>\n",
       "    </tr>\n",
       "    <tr>\n",
       "      <th>4</th>\n",
       "      <td>BH8</td>\n",
       "      <td>52.51334</td>\n",
       "      <td>-115.94275</td>\n",
       "      <td>NaN</td>\n",
       "      <td>NaN</td>\n",
       "      <td>Visible</td>\n",
       "      <td>t</td>\n",
       "      <td>NaN</td>\n",
       "      <td>479153</td>\n",
       "      <td>2023-07-14 15:32:57</td>\n",
       "      <td>POINT (-115.94275 52.51334)</td>\n",
       "    </tr>\n",
       "    <tr>\n",
       "      <th>...</th>\n",
       "      <td>...</td>\n",
       "      <td>...</td>\n",
       "      <td>...</td>\n",
       "      <td>...</td>\n",
       "      <td>...</td>\n",
       "      <td>...</td>\n",
       "      <td>...</td>\n",
       "      <td>...</td>\n",
       "      <td>...</td>\n",
       "      <td>...</td>\n",
       "      <td>...</td>\n",
       "    </tr>\n",
       "    <tr>\n",
       "      <th>20972</th>\n",
       "      <td>OG-ABMI-926-41-SE</td>\n",
       "      <td>54.13707</td>\n",
       "      <td>-110.75700</td>\n",
       "      <td>NaN</td>\n",
       "      <td>NaN</td>\n",
       "      <td>Visible</td>\n",
       "      <td>t</td>\n",
       "      <td>NaN</td>\n",
       "      <td>54507</td>\n",
       "      <td>2021-03-24 09:39:18</td>\n",
       "      <td>POINT (-110.75700 54.13707)</td>\n",
       "    </tr>\n",
       "    <tr>\n",
       "      <th>20973</th>\n",
       "      <td>OG-ABMI-926-41-NE</td>\n",
       "      <td>54.13707</td>\n",
       "      <td>-110.75700</td>\n",
       "      <td>NaN</td>\n",
       "      <td>NaN</td>\n",
       "      <td>Visible</td>\n",
       "      <td>t</td>\n",
       "      <td>NaN</td>\n",
       "      <td>54505</td>\n",
       "      <td>2021-03-24 09:39:18</td>\n",
       "      <td>POINT (-110.75700 54.13707)</td>\n",
       "    </tr>\n",
       "    <tr>\n",
       "      <th>20974</th>\n",
       "      <td>OG-ABMI-926-41-SW</td>\n",
       "      <td>54.13707</td>\n",
       "      <td>-110.75700</td>\n",
       "      <td>NaN</td>\n",
       "      <td>NaN</td>\n",
       "      <td>Visible</td>\n",
       "      <td>t</td>\n",
       "      <td>NaN</td>\n",
       "      <td>54509</td>\n",
       "      <td>2021-03-24 09:39:18</td>\n",
       "      <td>POINT (-110.75700 54.13707)</td>\n",
       "    </tr>\n",
       "    <tr>\n",
       "      <th>20975</th>\n",
       "      <td>RP:84-07-W4-TRANS:4</td>\n",
       "      <td>56.30909</td>\n",
       "      <td>-110.98417</td>\n",
       "      <td>NaN</td>\n",
       "      <td>NaN</td>\n",
       "      <td>Visible</td>\n",
       "      <td>t</td>\n",
       "      <td>NaN</td>\n",
       "      <td>96236</td>\n",
       "      <td>2021-10-08 01:09:27</td>\n",
       "      <td>POINT (-110.98417 56.30909)</td>\n",
       "    </tr>\n",
       "    <tr>\n",
       "      <th>20976</th>\n",
       "      <td>TEMPLATEORIGINAL</td>\n",
       "      <td>53.54610</td>\n",
       "      <td>13.49370</td>\n",
       "      <td>NaN</td>\n",
       "      <td>NaN</td>\n",
       "      <td>Visible</td>\n",
       "      <td>t</td>\n",
       "      <td>NaN</td>\n",
       "      <td>483767</td>\n",
       "      <td>2023-09-14 18:08:46</td>\n",
       "      <td>POINT (13.49370 53.54610)</td>\n",
       "    </tr>\n",
       "  </tbody>\n",
       "</table>\n",
       "<p>20558 rows × 11 columns</p>\n",
       "</div>"
      ],
      "text/plain": [
       "                  location  latitude  longitude  elevationMeters  \\\n",
       "0                      BH3  52.52369 -116.37471              NaN   \n",
       "1                      BH5  52.52123 -116.19895              NaN   \n",
       "2                      BH6  52.50120 -116.14980              NaN   \n",
       "3                      BH7  52.49458 -116.01662              NaN   \n",
       "4                      BH8  52.51334 -115.94275              NaN   \n",
       "...                    ...       ...        ...              ...   \n",
       "20972    OG-ABMI-926-41-SE  54.13707 -110.75700              NaN   \n",
       "20973    OG-ABMI-926-41-NE  54.13707 -110.75700              NaN   \n",
       "20974    OG-ABMI-926-41-SW  54.13707 -110.75700              NaN   \n",
       "20975  RP:84-07-W4-TRANS:4  56.30909 -110.98417              NaN   \n",
       "20976     TEMPLATEORIGINAL  53.54610   13.49370              NaN   \n",
       "\n",
       "       bufferRadiusMeters isHidden trueCoordinates comments  \\\n",
       "0                     NaN  Visible               t      NaN   \n",
       "1                     NaN  Visible               t      NaN   \n",
       "2                     NaN  Visible               t      NaN   \n",
       "3                     NaN  Visible               t      NaN   \n",
       "4                     NaN  Visible               t      NaN   \n",
       "...                   ...      ...             ...      ...   \n",
       "20972                 NaN  Visible               t      NaN   \n",
       "20973                 NaN  Visible               t      NaN   \n",
       "20974                 NaN  Visible               t      NaN   \n",
       "20975                 NaN  Visible               t      NaN   \n",
       "20976                 NaN  Visible               t      NaN   \n",
       "\n",
       "       internal_wildtrax_id    internal_update_ts                     geometry  \n",
       "0                    479111   2023-07-11 22:56:23  POINT (-116.37471 52.52369)  \n",
       "1                    479157   2023-07-14 15:38:18  POINT (-116.19895 52.52123)  \n",
       "2                    479158   2023-07-14 15:41:29  POINT (-116.14980 52.50120)  \n",
       "3                    479154   2023-07-14 15:33:14  POINT (-116.01662 52.49458)  \n",
       "4                    479153   2023-07-14 15:32:57  POINT (-115.94275 52.51334)  \n",
       "...                     ...                   ...                          ...  \n",
       "20972                 54507   2021-03-24 09:39:18  POINT (-110.75700 54.13707)  \n",
       "20973                 54505   2021-03-24 09:39:18  POINT (-110.75700 54.13707)  \n",
       "20974                 54509   2021-03-24 09:39:18  POINT (-110.75700 54.13707)  \n",
       "20975                 96236   2021-10-08 01:09:27  POINT (-110.98417 56.30909)  \n",
       "20976                483767   2023-09-14 18:08:46    POINT (13.49370 53.54610)  \n",
       "\n",
       "[20558 rows x 11 columns]"
      ]
     },
     "execution_count": 13,
     "metadata": {},
     "output_type": "execute_result"
    }
   ],
   "source": [
    "mask = BU_points_geo['latitude'].isna()\n",
    "BU_points_geo_COORDS = BU_points_geo[~mask]"
   ]
  },
  {
   "cell_type": "markdown",
   "metadata": {},
   "source": [
    "### A.2 Reproject points to NAD 10Tm"
   ]
  },
  {
   "cell_type": "code",
   "execution_count": 14,
   "metadata": {},
   "outputs": [],
   "source": [
    "BU_points_geo_3400 = BU_points_geo_COORDS.to_crs(epsg=3400)"
   ]
  },
  {
   "cell_type": "code",
   "execution_count": 18,
   "metadata": {},
   "outputs": [
    {
     "name": "stderr",
     "output_type": "stream",
     "text": [
      "C:\\Users\\ilebe\\AppData\\Local\\Temp\\ipykernel_30048\\571243765.py:1: UserWarning: Column names longer than 10 characters will be truncated when saved to ESRI Shapefile.\n",
      "  BU_points_geo_3400.to_file(os.path.join(processed_path, \"BU_locations_3400.shp\"))\n"
     ]
    }
   ],
   "source": [
    "BU_points_geo_3400.to_file(os.path.join(processed_path, \"BU_locations_3400.shp\"))"
   ]
  },
  {
   "cell_type": "code",
   "execution_count": 16,
   "metadata": {},
   "outputs": [
    {
     "data": {
      "text/plain": [
       "<Projected CRS: EPSG:3400>\n",
       "Name: NAD83 / Alberta 10-TM (Forest)\n",
       "Axis Info [cartesian]:\n",
       "- E[east]: Easting (metre)\n",
       "- N[north]: Northing (metre)\n",
       "Area of Use:\n",
       "- name: Canada - Alberta.\n",
       "- bounds: (-120.0, 48.99, -109.98, 60.0)\n",
       "Coordinate Operation:\n",
       "- name: Alberta 10-degree TM (Forest)\n",
       "- method: Transverse Mercator\n",
       "Datum: North American Datum 1983\n",
       "- Ellipsoid: GRS 1980\n",
       "- Prime Meridian: Greenwich"
      ]
     },
     "execution_count": 16,
     "metadata": {},
     "output_type": "execute_result"
    }
   ],
   "source": [
    "BU_points_geo_3400.crs"
   ]
  },
  {
   "cell_type": "code",
   "execution_count": 4,
   "metadata": {},
   "outputs": [
    {
     "data": {
      "text/plain": [
       "<Projected CRS: EPSG:3400>\n",
       "Name: NAD83 / Alberta 10-TM (Forest)\n",
       "Axis Info [cartesian]:\n",
       "- [east]: Easting (metre)\n",
       "- [north]: Northing (metre)\n",
       "Area of Use:\n",
       "- undefined\n",
       "Coordinate Operation:\n",
       "- name: unnamed\n",
       "- method: Transverse Mercator\n",
       "Datum: North American Datum 1983\n",
       "- Ellipsoid: GRS 1980\n",
       "- Prime Meridian: Greenwich"
      ]
     },
     "execution_count": 4,
     "metadata": {},
     "output_type": "execute_result"
    }
   ],
   "source": [
    "Harvest_AREAS_polygons_gdf.crs"
   ]
  },
  {
   "cell_type": "markdown",
   "metadata": {},
   "source": [
    "### A.3 Identify points not in harvests"
   ]
  },
  {
   "cell_type": "code",
   "execution_count": 19,
   "metadata": {},
   "outputs": [],
   "source": [
    "# Perform a spatial join\n",
    "joined_gdf = gpd.sjoin(BU_points_geo_3400, Harvest_AREAS_polygons_gdf, how=\"left\", predicate='intersects')\n",
    "\n",
    "# Filter out points not within any polygon\n",
    "# Points not within polygons will have 'index_right' as NaN after the join\n",
    "BU_points_not_within_polygons = joined_gdf[joined_gdf.index_right.isna()]"
   ]
  },
  {
   "cell_type": "code",
   "execution_count": 48,
   "metadata": {},
   "outputs": [
    {
     "data": {
      "text/plain": [
       "16469    68682.0\n",
       "Name: index_right, dtype: float64"
      ]
     },
     "execution_count": 48,
     "metadata": {},
     "output_type": "execute_result"
    }
   ],
   "source": [
    "joined_gdf[joined_gdf['location'] == 'WCTHIN:S4:4'].index_right"
   ]
  },
  {
   "cell_type": "code",
   "execution_count": 53,
   "metadata": {},
   "outputs": [
    {
     "data": {
      "text/plain": [
       "0       NaN\n",
       "2       NaN\n",
       "3       NaN\n",
       "4       NaN\n",
       "5       NaN\n",
       "         ..\n",
       "20972   NaN\n",
       "20973   NaN\n",
       "20974   NaN\n",
       "20975   NaN\n",
       "20976   NaN\n",
       "Name: index_right, Length: 17303, dtype: float64"
      ]
     },
     "execution_count": 53,
     "metadata": {},
     "output_type": "execute_result"
    }
   ],
   "source": [
    "joined_gdf[joined_gdf.index_right.isna()][['location', 'index_right']]\n",
    "joined_gdf[joined_gdf.index_right.isna()]['index_right'].value_counts()\n",
    "joined_gdf[joined_gdf.index_right.isna()]['index_right']"
   ]
  },
  {
   "cell_type": "code",
   "execution_count": 23,
   "metadata": {},
   "outputs": [
    {
     "data": {
      "text/plain": [
       "(17303, 56)"
      ]
     },
     "execution_count": 23,
     "metadata": {},
     "output_type": "execute_result"
    }
   ],
   "source": [
    "BU_points_not_within_polygons.head()\n",
    "BU_points_not_within_polygons.shape"
   ]
  },
  {
   "cell_type": "code",
   "execution_count": 31,
   "metadata": {},
   "outputs": [
    {
     "name": "stderr",
     "output_type": "stream",
     "text": [
      "C:\\Users\\ilebe\\AppData\\Local\\Temp\\ipykernel_30048\\2459931805.py:1: UserWarning: Column names longer than 10 characters will be truncated when saved to ESRI Shapefile.\n",
      "  BU_points_not_within_polygons.to_file(os.path.join(processed_path, \"BU_locations_not_in_harvests_3400.shp\"))\n"
     ]
    }
   ],
   "source": [
    "BU_points_not_within_polygons.to_file(os.path.join(processed_path, \"BU_locations_not_in_harvests_3400.shp\"))"
   ]
  },
  {
   "cell_type": "code",
   "execution_count": 25,
   "metadata": {},
   "outputs": [
    {
     "data": {
      "text/plain": [
       "Index(['location', 'latitude', 'longitude', 'elevationMeters',\n",
       "       'bufferRadiusMeters', 'isHidden', 'trueCoordinates', 'comments',\n",
       "       'internal_wildtrax_id', 'internal_update_ts', 'geometry', 'index_right',\n",
       "       'OBJECTID', 'SOURCE', 'HFI_ID', 'FEATURE_TY', 'YEAR', 'SECTOR_HFI',\n",
       "       'Modifier_Y', 'Shape_Leng', 'Shape_Area', 'AnlysID', 'preNBR_m',\n",
       "       'preNBR_s', 'nbrDstb_m', 'nbrDstb_s', 'hrvYr_m', 'hrvYr_s', 'lnDstb_m',\n",
       "       'lnDstb_s', 'regStYr_m', 'regStYr_s', 'reg5yr_m', 'reg5yr_s',\n",
       "       'y2reg80_m', 'y2reg80_s', 'reg2019_m', 'reg2019_s', 'totPolyPix',\n",
       "       'perRelvPix', 'perNoHrv', 'perMltDstb', 'perOutRng', 'perNoRegn',\n",
       "       'confSz', 'confRelvPx', 'confCntgPx', 'confHrvYr', 'confLnDstb',\n",
       "       'confNBRchg', 'confRegn', 'confY2R80', 'conf5yReg', 'confTotSum',\n",
       "       'regnMetsYN', 'regnAnlyYN'],\n",
       "      dtype='object')"
      ]
     },
     "execution_count": 25,
     "metadata": {},
     "output_type": "execute_result"
    }
   ],
   "source": [
    "BU_points_not_within_polygons.columns"
   ]
  },
  {
   "cell_type": "markdown",
   "metadata": {},
   "source": [
    "# B. Target ARU locations near harvests.\n",
    "\n",
    "There are 17303 locations not within any harvests.<br>\n",
    "Next, let's look for locations in the boreal forest, with ARU data, which were sampled during the breeding bird survey, in upland spruce/deciduous/mixedwood."
   ]
  },
  {
   "cell_type": "code",
   "execution_count": 51,
   "metadata": {},
   "outputs": [],
   "source": [
    "ecoregions = gpd.read_file(r\"Z:\\BayneLabWorkSpace\\ILT_workspace\\GIS\\Natural_Regions_Subregions_of_Alberta\\Natural_Regions_Subregions_of_Alberta.shp\")"
   ]
  },
  {
   "cell_type": "code",
   "execution_count": 52,
   "metadata": {},
   "outputs": [
    {
     "data": {
      "text/plain": [
       "<Projected CRS: EPSG:3400>\n",
       "Name: NAD83 / Alberta 10-TM (Forest)\n",
       "Axis Info [cartesian]:\n",
       "- [east]: Easting (metre)\n",
       "- [north]: Northing (metre)\n",
       "Area of Use:\n",
       "- undefined\n",
       "Coordinate Operation:\n",
       "- name: unnamed\n",
       "- method: Transverse Mercator\n",
       "Datum: North American Datum 1983\n",
       "- Ellipsoid: GRS 1980\n",
       "- Prime Meridian: Greenwich"
      ]
     },
     "execution_count": 52,
     "metadata": {},
     "output_type": "execute_result"
    }
   ],
   "source": [
    "ecoregions.crs"
   ]
  },
  {
   "cell_type": "code",
   "execution_count": 55,
   "metadata": {},
   "outputs": [
    {
     "data": {
      "text/html": [
       "<div>\n",
       "<style scoped>\n",
       "    .dataframe tbody tr th:only-of-type {\n",
       "        vertical-align: middle;\n",
       "    }\n",
       "\n",
       "    .dataframe tbody tr th {\n",
       "        vertical-align: top;\n",
       "    }\n",
       "\n",
       "    .dataframe thead th {\n",
       "        text-align: right;\n",
       "    }\n",
       "</style>\n",
       "<table border=\"1\" class=\"dataframe\">\n",
       "  <thead>\n",
       "    <tr style=\"text-align: right;\">\n",
       "      <th></th>\n",
       "      <th>OBJECTID</th>\n",
       "      <th>NSRNAME</th>\n",
       "      <th>NSRCODE</th>\n",
       "      <th>NRNAME</th>\n",
       "      <th>Shape_STAr</th>\n",
       "      <th>Shape_STLe</th>\n",
       "      <th>geometry</th>\n",
       "    </tr>\n",
       "  </thead>\n",
       "  <tbody>\n",
       "    <tr>\n",
       "      <th>241</th>\n",
       "      <td>275</td>\n",
       "      <td>Athabasca Plain</td>\n",
       "      <td>AP</td>\n",
       "      <td>Boreal</td>\n",
       "      <td>1.352525e+10</td>\n",
       "      <td>1.145520e+06</td>\n",
       "      <td>POLYGON ((784426.707 6577413.161, 784486.963 6...</td>\n",
       "    </tr>\n",
       "    <tr>\n",
       "      <th>242</th>\n",
       "      <td>276</td>\n",
       "      <td>Boreal Subarctic</td>\n",
       "      <td>BSR</td>\n",
       "      <td>Boreal</td>\n",
       "      <td>1.178596e+08</td>\n",
       "      <td>5.413865e+04</td>\n",
       "      <td>POLYGON ((239295.055 6605786.338, 239530.084 6...</td>\n",
       "    </tr>\n",
       "    <tr>\n",
       "      <th>243</th>\n",
       "      <td>277</td>\n",
       "      <td>Boreal Subarctic</td>\n",
       "      <td>BSR</td>\n",
       "      <td>Boreal</td>\n",
       "      <td>2.014016e+08</td>\n",
       "      <td>9.886727e+04</td>\n",
       "      <td>POLYGON ((285374.191 6610642.913, 285463.233 6...</td>\n",
       "    </tr>\n",
       "    <tr>\n",
       "      <th>244</th>\n",
       "      <td>278</td>\n",
       "      <td>Boreal Subarctic</td>\n",
       "      <td>BSR</td>\n",
       "      <td>Boreal</td>\n",
       "      <td>9.525305e+09</td>\n",
       "      <td>7.227342e+05</td>\n",
       "      <td>POLYGON ((489495.040 6613706.354, 489971.902 6...</td>\n",
       "    </tr>\n",
       "    <tr>\n",
       "      <th>245</th>\n",
       "      <td>279</td>\n",
       "      <td>Boreal Subarctic</td>\n",
       "      <td>BSR</td>\n",
       "      <td>Boreal</td>\n",
       "      <td>1.978157e+09</td>\n",
       "      <td>2.280782e+05</td>\n",
       "      <td>POLYGON ((372128.615 6650123.074, 371872.088 6...</td>\n",
       "    </tr>\n",
       "  </tbody>\n",
       "</table>\n",
       "</div>"
      ],
      "text/plain": [
       "     OBJECTID           NSRNAME NSRCODE  NRNAME    Shape_STAr    Shape_STLe  \\\n",
       "241       275   Athabasca Plain      AP  Boreal  1.352525e+10  1.145520e+06   \n",
       "242       276  Boreal Subarctic     BSR  Boreal  1.178596e+08  5.413865e+04   \n",
       "243       277  Boreal Subarctic     BSR  Boreal  2.014016e+08  9.886727e+04   \n",
       "244       278  Boreal Subarctic     BSR  Boreal  9.525305e+09  7.227342e+05   \n",
       "245       279  Boreal Subarctic     BSR  Boreal  1.978157e+09  2.280782e+05   \n",
       "\n",
       "                                              geometry  \n",
       "241  POLYGON ((784426.707 6577413.161, 784486.963 6...  \n",
       "242  POLYGON ((239295.055 6605786.338, 239530.084 6...  \n",
       "243  POLYGON ((285374.191 6610642.913, 285463.233 6...  \n",
       "244  POLYGON ((489495.040 6613706.354, 489971.902 6...  \n",
       "245  POLYGON ((372128.615 6650123.074, 371872.088 6...  "
      ]
     },
     "execution_count": 55,
     "metadata": {},
     "output_type": "execute_result"
    }
   ],
   "source": [
    "ecoregions_boreal_foot = ecoregions[(ecoregions['NRNAME'] == 'Boreal') | (ecoregions['NRNAME'] == 'Foothills')]\n",
    "ecoregions_boreal_foot.head()"
   ]
  },
  {
   "cell_type": "code",
   "execution_count": 61,
   "metadata": {},
   "outputs": [
    {
     "data": {
      "text/plain": [
       "Index(['location', 'latitude', 'longitude', 'elevationMeters',\n",
       "       'bufferRadiusMeters', 'isHidden', 'trueCoordinates', 'comments',\n",
       "       'internal_wildtrax_id', 'internal_update_ts', 'geometry', 'OBJECTID',\n",
       "       'SOURCE', 'HFI_ID', 'FEATURE_TY', 'YEAR', 'SECTOR_HFI', 'Modifier_Y',\n",
       "       'Shape_Leng', 'Shape_Area', 'AnlysID', 'preNBR_m', 'preNBR_s',\n",
       "       'nbrDstb_m', 'nbrDstb_s', 'hrvYr_m', 'hrvYr_s', 'lnDstb_m', 'lnDstb_s',\n",
       "       'regStYr_m', 'regStYr_s', 'reg5yr_m', 'reg5yr_s', 'y2reg80_m',\n",
       "       'y2reg80_s', 'reg2019_m', 'reg2019_s', 'totPolyPix', 'perRelvPix',\n",
       "       'perNoHrv', 'perMltDstb', 'perOutRng', 'perNoRegn', 'confSz',\n",
       "       'confRelvPx', 'confCntgPx', 'confHrvYr', 'confLnDstb', 'confNBRchg',\n",
       "       'confRegn', 'confY2R80', 'conf5yReg', 'confTotSum', 'regnMetsYN',\n",
       "       'regnAnlyYN'],\n",
       "      dtype='object')"
      ]
     },
     "execution_count": 61,
     "metadata": {},
     "output_type": "execute_result"
    }
   ],
   "source": [
    "BU_points_not_within_polygons.columns"
   ]
  },
  {
   "cell_type": "code",
   "execution_count": 57,
   "metadata": {},
   "outputs": [
    {
     "name": "stderr",
     "output_type": "stream",
     "text": [
      "C:\\Users\\ilebe\\AppData\\Local\\Temp\\ipykernel_30048\\2204457680.py:1: SettingWithCopyWarning: \n",
      "A value is trying to be set on a copy of a slice from a DataFrame\n",
      "\n",
      "See the caveats in the documentation: https://pandas.pydata.org/pandas-docs/stable/user_guide/indexing.html#returning-a-view-versus-a-copy\n",
      "  BU_points_not_within_polygons.drop(labels=\"index_right\", axis = 1, inplace=True)\n"
     ]
    }
   ],
   "source": [
    "BU_points_not_within_polygons.drop(labels=\"index_right\", axis = 1, inplace=True)\n",
    "BU_ecoregion_joined = gpd.sjoin(BU_points_not_within_polygons, ecoregions_boreal_foot, how=\"left\", predicate='intersects')\n",
    "\n",
    "# Filter out points not within any polygon\n",
    "# Points not within polygons will have 'index_right' as NaN after the join\n",
    "BU_points_out_harvest_boreal_foothills = BU_ecoregion_joined[BU_ecoregion_joined.index_right.notnull()]"
   ]
  },
  {
   "cell_type": "code",
   "execution_count": 58,
   "metadata": {},
   "outputs": [
    {
     "data": {
      "text/html": [
       "<div>\n",
       "<style scoped>\n",
       "    .dataframe tbody tr th:only-of-type {\n",
       "        vertical-align: middle;\n",
       "    }\n",
       "\n",
       "    .dataframe tbody tr th {\n",
       "        vertical-align: top;\n",
       "    }\n",
       "\n",
       "    .dataframe thead th {\n",
       "        text-align: right;\n",
       "    }\n",
       "</style>\n",
       "<table border=\"1\" class=\"dataframe\">\n",
       "  <thead>\n",
       "    <tr style=\"text-align: right;\">\n",
       "      <th></th>\n",
       "      <th>location</th>\n",
       "      <th>latitude</th>\n",
       "      <th>longitude</th>\n",
       "      <th>elevationMeters</th>\n",
       "      <th>bufferRadiusMeters</th>\n",
       "      <th>isHidden</th>\n",
       "      <th>trueCoordinates</th>\n",
       "      <th>comments</th>\n",
       "      <th>internal_wildtrax_id</th>\n",
       "      <th>internal_update_ts</th>\n",
       "      <th>...</th>\n",
       "      <th>confTotSum</th>\n",
       "      <th>regnMetsYN</th>\n",
       "      <th>regnAnlyYN</th>\n",
       "      <th>index_right</th>\n",
       "      <th>OBJECTID_right</th>\n",
       "      <th>NSRNAME</th>\n",
       "      <th>NSRCODE</th>\n",
       "      <th>NRNAME</th>\n",
       "      <th>Shape_STAr</th>\n",
       "      <th>Shape_STLe</th>\n",
       "    </tr>\n",
       "  </thead>\n",
       "  <tbody>\n",
       "    <tr>\n",
       "      <th>0</th>\n",
       "      <td>BH3</td>\n",
       "      <td>52.52369</td>\n",
       "      <td>-116.37471</td>\n",
       "      <td>NaN</td>\n",
       "      <td>NaN</td>\n",
       "      <td>Visible</td>\n",
       "      <td>t</td>\n",
       "      <td>NaN</td>\n",
       "      <td>479111</td>\n",
       "      <td>2023-07-11 22:56:23</td>\n",
       "      <td>...</td>\n",
       "      <td>NaN</td>\n",
       "      <td>NaN</td>\n",
       "      <td>NaN</td>\n",
       "      <td>368.0</td>\n",
       "      <td>411.0</td>\n",
       "      <td>Upper Foothills</td>\n",
       "      <td>UF</td>\n",
       "      <td>Foothills</td>\n",
       "      <td>5.471505e+09</td>\n",
       "      <td>1.911567e+06</td>\n",
       "    </tr>\n",
       "    <tr>\n",
       "      <th>2</th>\n",
       "      <td>BH6</td>\n",
       "      <td>52.50120</td>\n",
       "      <td>-116.14980</td>\n",
       "      <td>NaN</td>\n",
       "      <td>NaN</td>\n",
       "      <td>Visible</td>\n",
       "      <td>t</td>\n",
       "      <td>NaN</td>\n",
       "      <td>479158</td>\n",
       "      <td>2023-07-14 15:41:29</td>\n",
       "      <td>...</td>\n",
       "      <td>NaN</td>\n",
       "      <td>NaN</td>\n",
       "      <td>NaN</td>\n",
       "      <td>368.0</td>\n",
       "      <td>411.0</td>\n",
       "      <td>Upper Foothills</td>\n",
       "      <td>UF</td>\n",
       "      <td>Foothills</td>\n",
       "      <td>5.471505e+09</td>\n",
       "      <td>1.911567e+06</td>\n",
       "    </tr>\n",
       "    <tr>\n",
       "      <th>3</th>\n",
       "      <td>BH7</td>\n",
       "      <td>52.49458</td>\n",
       "      <td>-116.01662</td>\n",
       "      <td>NaN</td>\n",
       "      <td>NaN</td>\n",
       "      <td>Visible</td>\n",
       "      <td>t</td>\n",
       "      <td>NaN</td>\n",
       "      <td>479154</td>\n",
       "      <td>2023-07-14 15:33:14</td>\n",
       "      <td>...</td>\n",
       "      <td>NaN</td>\n",
       "      <td>NaN</td>\n",
       "      <td>NaN</td>\n",
       "      <td>368.0</td>\n",
       "      <td>411.0</td>\n",
       "      <td>Upper Foothills</td>\n",
       "      <td>UF</td>\n",
       "      <td>Foothills</td>\n",
       "      <td>5.471505e+09</td>\n",
       "      <td>1.911567e+06</td>\n",
       "    </tr>\n",
       "    <tr>\n",
       "      <th>4</th>\n",
       "      <td>BH8</td>\n",
       "      <td>52.51334</td>\n",
       "      <td>-115.94275</td>\n",
       "      <td>NaN</td>\n",
       "      <td>NaN</td>\n",
       "      <td>Visible</td>\n",
       "      <td>t</td>\n",
       "      <td>NaN</td>\n",
       "      <td>479153</td>\n",
       "      <td>2023-07-14 15:32:57</td>\n",
       "      <td>...</td>\n",
       "      <td>NaN</td>\n",
       "      <td>NaN</td>\n",
       "      <td>NaN</td>\n",
       "      <td>368.0</td>\n",
       "      <td>411.0</td>\n",
       "      <td>Upper Foothills</td>\n",
       "      <td>UF</td>\n",
       "      <td>Foothills</td>\n",
       "      <td>5.471505e+09</td>\n",
       "      <td>1.911567e+06</td>\n",
       "    </tr>\n",
       "    <tr>\n",
       "      <th>5</th>\n",
       "      <td>BH9</td>\n",
       "      <td>52.49078</td>\n",
       "      <td>-115.83571</td>\n",
       "      <td>NaN</td>\n",
       "      <td>NaN</td>\n",
       "      <td>Visible</td>\n",
       "      <td>t</td>\n",
       "      <td>NaN</td>\n",
       "      <td>479156</td>\n",
       "      <td>2023-07-14 15:37:29</td>\n",
       "      <td>...</td>\n",
       "      <td>NaN</td>\n",
       "      <td>NaN</td>\n",
       "      <td>NaN</td>\n",
       "      <td>368.0</td>\n",
       "      <td>411.0</td>\n",
       "      <td>Upper Foothills</td>\n",
       "      <td>UF</td>\n",
       "      <td>Foothills</td>\n",
       "      <td>5.471505e+09</td>\n",
       "      <td>1.911567e+06</td>\n",
       "    </tr>\n",
       "  </tbody>\n",
       "</table>\n",
       "<p>5 rows × 62 columns</p>\n",
       "</div>"
      ],
      "text/plain": [
       "  location  latitude  longitude  elevationMeters  bufferRadiusMeters isHidden  \\\n",
       "0      BH3  52.52369 -116.37471              NaN                 NaN  Visible   \n",
       "2      BH6  52.50120 -116.14980              NaN                 NaN  Visible   \n",
       "3      BH7  52.49458 -116.01662              NaN                 NaN  Visible   \n",
       "4      BH8  52.51334 -115.94275              NaN                 NaN  Visible   \n",
       "5      BH9  52.49078 -115.83571              NaN                 NaN  Visible   \n",
       "\n",
       "  trueCoordinates comments  internal_wildtrax_id    internal_update_ts  ...  \\\n",
       "0               t      NaN                479111   2023-07-11 22:56:23  ...   \n",
       "2               t      NaN                479158   2023-07-14 15:41:29  ...   \n",
       "3               t      NaN                479154   2023-07-14 15:33:14  ...   \n",
       "4               t      NaN                479153   2023-07-14 15:32:57  ...   \n",
       "5               t      NaN                479156   2023-07-14 15:37:29  ...   \n",
       "\n",
       "  confTotSum  regnMetsYN regnAnlyYN index_right OBJECTID_right  \\\n",
       "0        NaN         NaN        NaN       368.0          411.0   \n",
       "2        NaN         NaN        NaN       368.0          411.0   \n",
       "3        NaN         NaN        NaN       368.0          411.0   \n",
       "4        NaN         NaN        NaN       368.0          411.0   \n",
       "5        NaN         NaN        NaN       368.0          411.0   \n",
       "\n",
       "           NSRNAME NSRCODE     NRNAME    Shape_STAr    Shape_STLe  \n",
       "0  Upper Foothills      UF  Foothills  5.471505e+09  1.911567e+06  \n",
       "2  Upper Foothills      UF  Foothills  5.471505e+09  1.911567e+06  \n",
       "3  Upper Foothills      UF  Foothills  5.471505e+09  1.911567e+06  \n",
       "4  Upper Foothills      UF  Foothills  5.471505e+09  1.911567e+06  \n",
       "5  Upper Foothills      UF  Foothills  5.471505e+09  1.911567e+06  \n",
       "\n",
       "[5 rows x 62 columns]"
      ]
     },
     "execution_count": 58,
     "metadata": {},
     "output_type": "execute_result"
    }
   ],
   "source": [
    "BU_points_out_harvest_boreal_foothills.head()"
   ]
  },
  {
   "cell_type": "code",
   "execution_count": 59,
   "metadata": {},
   "outputs": [
    {
     "data": {
      "text/plain": [
       "<AxesSubplot:>"
      ]
     },
     "execution_count": 59,
     "metadata": {},
     "output_type": "execute_result"
    },
    {
     "data": {
      "image/png": "[encoded data removed]",
      "text/plain": [
       "<Figure size 1200x800 with 1 Axes>"
      ]
     },
     "metadata": {},
     "output_type": "display_data"
    }
   ],
   "source": [
    "# Plot the data\n",
    "fig, ax = plt.subplots(figsize=(12, 8))\n",
    "\n",
    "BU_points_out_harvest_boreal_foothills.plot(ax=ax, facecolor = 'white', edgecolor = 'black')"
   ]
  },
  {
   "cell_type": "markdown",
   "metadata": {},
   "source": [
    "Get the nearest harvest polygon"
   ]
  },
  {
   "cell_type": "code",
   "execution_count": 60,
   "metadata": {},
   "outputs": [
    {
     "name": "stderr",
     "output_type": "stream",
     "text": [
      "C:\\Users\\ilebe\\AppData\\Local\\Temp\\ipykernel_30048\\2453187274.py:1: UserWarning: Column names longer than 10 characters will be truncated when saved to ESRI Shapefile.\n",
      "  BU_points_out_harvest_boreal_foothills.to_file(os.path.join(processed_path, \"BU_locations_not_in_harv_boreal_foot_3400.shp\"))\n"
     ]
    }
   ],
   "source": [
    "BU_points_out_harvest_boreal_foothills.to_file(os.path.join(processed_path, \"BU_locations_not_in_harv_boreal_foot_3400.shp\"))"
   ]
  },
  {
   "cell_type": "code",
   "execution_count": 71,
   "metadata": {},
   "outputs": [],
   "source": [
    "BU_points_out_harvest_boreal_foothills.columns\n",
    "BU_points_out_harvest_boreal_foothills_trim = BU_points_out_harvest_boreal_foothills[['location', 'latitude', 'longitude','geometry', 'NSRNAME', 'NSRCODE', 'NRNAME']]"
   ]
  },
  {
   "cell_type": "markdown",
   "metadata": {},
   "source": [
    "# C. Get the nearest harvest polygon info"
   ]
  },
  {
   "cell_type": "code",
   "execution_count": 78,
   "metadata": {},
   "outputs": [
    {
     "name": "stderr",
     "output_type": "stream",
     "text": [
      "c:\\Users\\ilebe\\anaconda3\\lib\\site-packages\\geopandas\\geodataframe.py:1538: SettingWithCopyWarning: \n",
      "A value is trying to be set on a copy of a slice from a DataFrame.\n",
      "Try using .loc[row_indexer,col_indexer] = value instead\n",
      "\n",
      "See the caveats in the documentation: https://pandas.pydata.org/pandas-docs/stable/user_guide/indexing.html#returning-a-view-versus-a-copy\n",
      "  super().__setitem__(key, value)\n"
     ]
    }
   ],
   "source": [
    "BU_points_out_harvest_boreal_foothills = gpd.read_file(os.path.join(processed_path, \"BU_locations_not_in_harv_boreal_foot_3400.shp\"))\n",
    "BU_points_out_harvest_boreal_foothills_trim = BU_points_out_harvest_boreal_foothills[['location', 'latitude', 'longitude','geometry', 'NSRNAME', 'NSRCODE', 'NRNAME']]\n",
    "# Prepare columns for nearest polygon details and distance (initialize with NaNs)\n",
    "\n",
    "# BU_points_out_harvest_boreal_foothills_trim['nearest_poly_id'] = np.nan\n",
    "BU_points_out_harvest_boreal_foothills_trim['distance_to_nearest_harv'] = np.nan\n",
    "\n",
    "# Spatial index for the polygons GeoDataFrame\n",
    "poly_sindex = Harvest_AREAS_polygons_gdf.sindex\n",
    "\n",
    "for index, point in BU_points_out_harvest_boreal_foothills_trim.iterrows():\n",
    "    # Buffer the point by 500 meters to consider only nearby polygons\n",
    "    buffered_point = point.geometry.buffer(500)\n",
    "    \n",
    "    # Use spatial index to find polygons within 500m buffer\n",
    "    possible_matches_index = list(poly_sindex.intersection(buffered_point.bounds))\n",
    "    possible_matches = Harvest_AREAS_polygons_gdf.iloc[possible_matches_index]\n",
    "    \n",
    "    # Skip if no matches\n",
    "    if possible_matches.empty:\n",
    "        continue\n",
    "    \n",
    "    # Calculate distance from point to each candidate polygon's edge, not center\n",
    "    point_to_poly_distances = possible_matches.distance(point.geometry)\n",
    "    \n",
    "    # Find the nearest polygon and its distance\n",
    "    nearest_poly_id = point_to_poly_distances.idxmin()\n",
    "    distance_to_nearest_poly = point_to_poly_distances.min()\n",
    "    \n",
    "    # Update the points GeoDataFrame with the nearest polygon details\n",
    "    if distance_to_nearest_poly <= 500:  # Ensure the nearest polygon is within 500 meters\n",
    "        nearest_poly = Harvest_AREAS_polygons_gdf.loc[nearest_poly_id]\n",
    "        # BU_points_out_harvest_boreal_foothills_trim.at[index, 'nearest_poly_id'] = nearest_poly_id\n",
    "        BU_points_out_harvest_boreal_foothills_trim.at[index, 'distance_to_nearest_harv'] = distance_to_nearest_poly\n",
    "        BU_points_out_harvest_boreal_foothills_trim.at[index, 'nearest_poly_year'] = nearest_poly['YEAR'] "
   ]
  },
  {
   "cell_type": "code",
   "execution_count": 81,
   "metadata": {},
   "outputs": [
    {
     "name": "stderr",
     "output_type": "stream",
     "text": [
      "C:\\Users\\ilebe\\AppData\\Local\\Temp\\ipykernel_30048\\1796810873.py:1: UserWarning: Column names longer than 10 characters will be truncated when saved to ESRI Shapefile.\n",
      "  BU_points_out_harvest_boreal_foothills_trim.to_file(os.path.join(processed_path, \"shapefiles\", \"BU_locations_within500m_of_harvest_3400.shp\"))\n"
     ]
    }
   ],
   "source": [
    "BU_points_out_harvest_boreal_foothills_trim.to_file(os.path.join(processed_path, \"shapefiles\", \"BU_locations_within500m_of_harvest_3400.shp\"))"
   ]
  },
  {
   "cell_type": "code",
   "execution_count": 88,
   "metadata": {},
   "outputs": [],
   "source": [
    "BU_points_out_harvest_boreal_foothills_trim = gpd.read_file(os.path.join(processed_path, \"shapefiles\", \"BU_locations_within500m_of_harvest_3400.shp\"))"
   ]
  },
  {
   "cell_type": "code",
   "execution_count": 94,
   "metadata": {},
   "outputs": [],
   "source": [
    "BU_points_out_harvest_boreal_foothills_trim.rename(axis = 1, mapper = {'distance_t': \"distance_to_nearest_harv\", \"nearest__1\": \"nearest_poly_year\"}, inplace = True)"
   ]
  },
  {
   "cell_type": "code",
   "execution_count": 96,
   "metadata": {},
   "outputs": [],
   "source": [
    "BU_points_out_harvest_boreal_foothills_trim.drop(axis = 1, columns=\"distance_1\", inplace = True)"
   ]
  },
  {
   "cell_type": "code",
   "execution_count": 98,
   "metadata": {},
   "outputs": [],
   "source": [
    "BU_points_within_500m = BU_points_out_harvest_boreal_foothills_trim[BU_points_out_harvest_boreal_foothills_trim['nearest_poly_year'].notnull()]"
   ]
  },
  {
   "cell_type": "code",
   "execution_count": 93,
   "metadata": {},
   "outputs": [],
   "source": [
    "BU_points_within_500m_post_1980 = BU_points_within_500m[BU_points_within_500m['nearest_poly_year']>= 1980]"
   ]
  },
  {
   "cell_type": "code",
   "execution_count": 103,
   "metadata": {},
   "outputs": [
    {
     "data": {
      "image/png": "[encoded data removed]",
      "text/plain": [
       "<Figure size 500x300 with 1 Axes>"
      ]
     },
     "metadata": {},
     "output_type": "display_data"
    }
   ],
   "source": [
    "\n",
    "# Plot histogram\n",
    "plt.figure(figsize=(5, 3))\n",
    "sns.histplot(BU_points_within_500m['nearest_poly_year'], bins=30, kde=False, color = \"gray\")\n",
    "plt.xlabel('Age of nearest harvest')\n",
    "plt.ylabel('Frequency')\n",
    "plt.grid(False)\n",
    "plt.title(\"Interior points next to harvests 1920-2020\")\n",
    "plt.tight_layout()\n",
    "plt.savefig(os.path.join(output_path, \"Points all ages no filtering\"))"
   ]
  },
  {
   "cell_type": "code",
   "execution_count": 95,
   "metadata": {},
   "outputs": [
    {
     "data": {
      "image/png": "[encoded data removed]",
      "text/plain": [
       "<Figure size 600x300 with 1 Axes>"
      ]
     },
     "metadata": {},
     "output_type": "display_data"
    }
   ],
   "source": [
    "plt.figure(figsize=(6, 3))\n",
    "plt.hist(BU_points_within_500m_post_1980['distance_to_nearest_harv'], bins=30, alpha=0.75, edgecolor='black')\n",
    "plt.xlabel('Distance to Nearest Harvest (m)')\n",
    "plt.ylabel('Frequency')\n",
    "plt.grid(False)\n",
    "plt.show()"
   ]
  },
  {
   "cell_type": "code",
   "execution_count": 96,
   "metadata": {},
   "outputs": [
    {
     "name": "stderr",
     "output_type": "stream",
     "text": [
      "C:\\Users\\ilebe\\AppData\\Local\\Temp\\ipykernel_30048\\3443820703.py:1: UserWarning: Column names longer than 10 characters will be truncated when saved to ESRI Shapefile.\n",
      "  BU_points_within_500m_post_1980.to_file(os.path.join(processed_path, \"shapefiles\", \"BU_locations_within500m_post_1980_harvest_3400.shp\"))\n"
     ]
    }
   ],
   "source": [
    "BU_points_within_500m_post_1980.to_file(os.path.join(processed_path, \"shapefiles\", \"BU_locations_within500m_post_1980_harvest_3400.shp\"))"
   ]
  },
  {
   "cell_type": "code",
   "execution_count": 104,
   "metadata": {},
   "outputs": [
    {
     "name": "stderr",
     "output_type": "stream",
     "text": [
      "C:\\Users\\ilebe\\AppData\\Local\\Temp\\ipykernel_30048\\657049649.py:1: SettingWithCopyWarning: \n",
      "A value is trying to be set on a copy of a slice from a DataFrame\n",
      "\n",
      "See the caveats in the documentation: https://pandas.pydata.org/pandas-docs/stable/user_guide/indexing.html#returning-a-view-versus-a-copy\n",
      "  BU_points_within_500m_post_1980.drop(labels='distance_to_poly', axis = 1, inplace=True)\n"
     ]
    }
   ],
   "source": [
    "BU_points_within_500m_post_1980.drop(labels='distance_to_poly', axis = 1, inplace=True)"
   ]
  },
  {
   "cell_type": "markdown",
   "metadata": {},
   "source": [
    "# D. Get the locations that are recordings.\n",
    "Scour the BUPublic server."
   ]
  },
  {
   "cell_type": "code",
   "execution_count": 8,
   "metadata": {},
   "outputs": [],
   "source": [
    "import datetime as dt"
   ]
  },
  {
   "cell_type": "code",
   "execution_count": 2,
   "metadata": {},
   "outputs": [],
   "source": [
    "\n",
    "def find_files(start_path, extensions, skip_folders):\n",
    "    # List to store file info dictionaries\n",
    "    files_info = []\n",
    "\n",
    "    # Convert skip_folders to a set for faster lookup\n",
    "    skip_folders_set = set(skip_folders)\n",
    "\n",
    "    # Walk through the directory structure\n",
    "    for root, dirs, files in os.walk(start_path):\n",
    "        # Extract the immediate directory name under start_path\n",
    "        immediate_directory = os.path.relpath(root, start_path).split(os.sep)[0]\n",
    "\n",
    "        # Skip the directories in skip_folders\n",
    "        if immediate_directory in skip_folders_set:\n",
    "            continue\n",
    "\n",
    "        for file in files:\n",
    "            # Check if the file has one of the desired extensions\n",
    "            if file.endswith(tuple(extensions)):\n",
    "                # Extract the last directory name\n",
    "                last_directory_name = os.path.basename(root)\n",
    "                # Construct the full path to the file\n",
    "                full_path = os.path.join(root, file)\n",
    "                # Add the file info to the list\n",
    "                files_info.append({\n",
    "                    'location': last_directory_name,\n",
    "                    'recording': file,\n",
    "                    'filepath': full_path\n",
    "                })\n",
    "\n",
    "    # Convert the list of dictionaries to a DataFrame\n",
    "    df = pd.DataFrame(files_info)\n",
    "    return df\n",
    "\n",
    "# Specify the starting directory, e.g., '/path/to/start/directory'\n",
    "start_directory = r\"X:\\BU\\ARU\"\n",
    "# Specify the file extensions you're interested in\n",
    "extensions = ['.flac', '.wav', '.wac']\n",
    "# Specify the folders to skip (relative to start_directory)\n",
    "skip_folders = [\"BAT\", \"BATPAIRED\", \"ELE\", \"CONI\", \"RETN\", \"Y\", \"WLNP\"]\n",
    "\n",
    "# Find the files and get the DataFrame\n",
    "df_files = find_files(start_directory, extensions, skip_folders)"
   ]
  },
  {
   "cell_type": "code",
   "execution_count": 3,
   "metadata": {},
   "outputs": [],
   "source": [
    "df_files.to_csv(os.path.join(processed_path, \"BU_public_df.csv\"))"
   ]
  },
  {
   "cell_type": "code",
   "execution_count": 6,
   "metadata": {},
   "outputs": [],
   "source": [
    "df_files.head()\n",
    "BU_public = df_files.copy(deep=True)"
   ]
  },
  {
   "cell_type": "code",
   "execution_count": 7,
   "metadata": {},
   "outputs": [
    {
     "data": {
      "text/html": [
       "<div>\n",
       "<style scoped>\n",
       "    .dataframe tbody tr th:only-of-type {\n",
       "        vertical-align: middle;\n",
       "    }\n",
       "\n",
       "    .dataframe tbody tr th {\n",
       "        vertical-align: top;\n",
       "    }\n",
       "\n",
       "    .dataframe thead th {\n",
       "        text-align: right;\n",
       "    }\n",
       "</style>\n",
       "<table border=\"1\" class=\"dataframe\">\n",
       "  <thead>\n",
       "    <tr style=\"text-align: right;\">\n",
       "      <th></th>\n",
       "      <th>location</th>\n",
       "      <th>recording</th>\n",
       "      <th>filepath</th>\n",
       "    </tr>\n",
       "  </thead>\n",
       "  <tbody>\n",
       "    <tr>\n",
       "      <th>0</th>\n",
       "      <td>AIEES-5BN-152</td>\n",
       "      <td>AIEES-5BN-152_20140525_125827.wav</td>\n",
       "      <td>X:\\BU\\ARU\\AIEES\\2014\\AIEES-5BN\\AIEES-5BN-152\\A...</td>\n",
       "    </tr>\n",
       "    <tr>\n",
       "      <th>1</th>\n",
       "      <td>AIEES-5BN-152</td>\n",
       "      <td>AIEES-5BN-152_20140525_140000.wav</td>\n",
       "      <td>X:\\BU\\ARU\\AIEES\\2014\\AIEES-5BN\\AIEES-5BN-152\\A...</td>\n",
       "    </tr>\n",
       "    <tr>\n",
       "      <th>2</th>\n",
       "      <td>AIEES-5BN-152</td>\n",
       "      <td>AIEES-5BN-152_20140525_150000.wav</td>\n",
       "      <td>X:\\BU\\ARU\\AIEES\\2014\\AIEES-5BN\\AIEES-5BN-152\\A...</td>\n",
       "    </tr>\n",
       "    <tr>\n",
       "      <th>3</th>\n",
       "      <td>AIEES-5BN-152</td>\n",
       "      <td>AIEES-5BN-152_20140525_160000.wav</td>\n",
       "      <td>X:\\BU\\ARU\\AIEES\\2014\\AIEES-5BN\\AIEES-5BN-152\\A...</td>\n",
       "    </tr>\n",
       "    <tr>\n",
       "      <th>4</th>\n",
       "      <td>AIEES-5BN-152</td>\n",
       "      <td>AIEES-5BN-152_20140525_170000.wav</td>\n",
       "      <td>X:\\BU\\ARU\\AIEES\\2014\\AIEES-5BN\\AIEES-5BN-152\\A...</td>\n",
       "    </tr>\n",
       "  </tbody>\n",
       "</table>\n",
       "</div>"
      ],
      "text/plain": [
       "        location                          recording  \\\n",
       "0  AIEES-5BN-152  AIEES-5BN-152_20140525_125827.wav   \n",
       "1  AIEES-5BN-152  AIEES-5BN-152_20140525_140000.wav   \n",
       "2  AIEES-5BN-152  AIEES-5BN-152_20140525_150000.wav   \n",
       "3  AIEES-5BN-152  AIEES-5BN-152_20140525_160000.wav   \n",
       "4  AIEES-5BN-152  AIEES-5BN-152_20140525_170000.wav   \n",
       "\n",
       "                                            filepath  \n",
       "0  X:\\BU\\ARU\\AIEES\\2014\\AIEES-5BN\\AIEES-5BN-152\\A...  \n",
       "1  X:\\BU\\ARU\\AIEES\\2014\\AIEES-5BN\\AIEES-5BN-152\\A...  \n",
       "2  X:\\BU\\ARU\\AIEES\\2014\\AIEES-5BN\\AIEES-5BN-152\\A...  \n",
       "3  X:\\BU\\ARU\\AIEES\\2014\\AIEES-5BN\\AIEES-5BN-152\\A...  \n",
       "4  X:\\BU\\ARU\\AIEES\\2014\\AIEES-5BN\\AIEES-5BN-152\\A...  "
      ]
     },
     "execution_count": 7,
     "metadata": {},
     "output_type": "execute_result"
    }
   ],
   "source": [
    "BU_public.head()"
   ]
  },
  {
   "cell_type": "markdown",
   "metadata": {},
   "source": [
    "### Omit the locations not in the shapefile"
   ]
  },
  {
   "cell_type": "code",
   "execution_count": 12,
   "metadata": {},
   "outputs": [],
   "source": [
    "BU_points =  gpd.read_file(os.path.join(processed_path, \"shapefiles\", \"BU_locations_within500m_post_1980_harvest_3400.shp\"))"
   ]
  },
  {
   "cell_type": "code",
   "execution_count": 14,
   "metadata": {},
   "outputs": [],
   "source": [
    "BU_points_list = BU_points.location.to_list()"
   ]
  },
  {
   "cell_type": "code",
   "execution_count": 15,
   "metadata": {},
   "outputs": [],
   "source": [
    "BU_public_correct_points = BU_public[BU_public['location'].isin(BU_points_list)]"
   ]
  },
  {
   "cell_type": "code",
   "execution_count": 17,
   "metadata": {},
   "outputs": [
    {
     "name": "stdout",
     "output_type": "stream",
     "text": [
      "(1391183, 5)\n",
      "(5275714, 5)\n"
     ]
    }
   ],
   "source": [
    "print(BU_public_correct_points.shape)\n",
    "print(BU_public.shape)"
   ]
  },
  {
   "cell_type": "code",
   "execution_count": 18,
   "metadata": {},
   "outputs": [],
   "source": [
    "BU_public_correct_points.to_csv(os.path.join(processed_path, \"BU_public_correct_points_df.csv\"))"
   ]
  },
  {
   "cell_type": "code",
   "execution_count": 25,
   "metadata": {},
   "outputs": [],
   "source": [
    "BU_public_correct_points = pd.read_csv(os.path.join(processed_path, \"BU_public_correct_points_df.csv\"))"
   ]
  },
  {
   "cell_type": "code",
   "execution_count": 22,
   "metadata": {},
   "outputs": [
    {
     "data": {
      "text/plain": [
       "'H-P15-5-8_20210624T180000'"
      ]
     },
     "execution_count": 22,
     "metadata": {},
     "output_type": "execute_result"
    }
   ],
   "source": [
    "bad = str(\"H-P15-5-8_20210624T180000-0600_REC [+51.4947-115.1875]\")\n",
    "bad.split(\"-0600_REC\")[0]"
   ]
  },
  {
   "cell_type": "code",
   "execution_count": 27,
   "metadata": {},
   "outputs": [
    {
     "name": "stdout",
     "output_type": "stream",
     "text": [
      "Error processing row with value 'R-E0-19-61_20210601_050000 (2)': time data '0601_050000 (2)' does not match format '%Y%m%d_%H%M%S'\n",
      "Error processing row with value 'R-E0-7-51_REC [+52.7931-115.0986]': time data '.7931-115.0986]' does not match format '%Y%m%d_%H%M%S'\n"
     ]
    }
   ],
   "source": [
    "def extract_datetime(x):\n",
    "    try:\n",
    "        # Your original processing and datetime extraction\n",
    "        formatted_x = str(x).split(\"-0600_REC\")[0].split(\"+0000\")[0][-15:].replace('T', \"_\").replace('$', \"_\")\n",
    "        return dt.datetime.strptime(formatted_x, \"%Y%m%d_%H%M%S\")\n",
    "    except ValueError as e:\n",
    "        # Print out the problematic value and the error\n",
    "        print(f\"Error processing row with value '{x}': {e}\")\n",
    "        return None  # Or return pd.NaT if you prefer to use pandas' NaT for missing timestamp data\n",
    "\n",
    "# Apply the function to the 'Temp_column' to extract datetime\n",
    "BU_public_correct_points['RecordingDate'] = BU_public_correct_points['Temp_column'].apply(extract_datetime)"
   ]
  },
  {
   "cell_type": "code",
   "execution_count": 32,
   "metadata": {},
   "outputs": [
    {
     "data": {
      "text/html": [
       "<div>\n",
       "<style scoped>\n",
       "    .dataframe tbody tr th:only-of-type {\n",
       "        vertical-align: middle;\n",
       "    }\n",
       "\n",
       "    .dataframe tbody tr th {\n",
       "        vertical-align: top;\n",
       "    }\n",
       "\n",
       "    .dataframe thead th {\n",
       "        text-align: right;\n",
       "    }\n",
       "</style>\n",
       "<table border=\"1\" class=\"dataframe\">\n",
       "  <thead>\n",
       "    <tr style=\"text-align: right;\">\n",
       "      <th></th>\n",
       "      <th>Unnamed: 0</th>\n",
       "      <th>location</th>\n",
       "      <th>recording</th>\n",
       "      <th>filepath</th>\n",
       "      <th>Temp_column</th>\n",
       "      <th>RecordingDate</th>\n",
       "    </tr>\n",
       "  </thead>\n",
       "  <tbody>\n",
       "    <tr>\n",
       "      <th>563137</th>\n",
       "      <td>2040881</td>\n",
       "      <td>R-E0-19-61</td>\n",
       "      <td>R-E0-19-61_20210601_050000 (2).wac</td>\n",
       "      <td>X:\\BU\\ARU\\EDGEROAD\\2021\\V1\\R-19B\\R-E0-19-61\\R-...</td>\n",
       "      <td>R-E0-19-61_20210601_050000 (2)</td>\n",
       "      <td>2021-06-01 05:00:00</td>\n",
       "    </tr>\n",
       "  </tbody>\n",
       "</table>\n",
       "</div>"
      ],
      "text/plain": [
       "        Unnamed: 0    location                           recording  \\\n",
       "563137     2040881  R-E0-19-61  R-E0-19-61_20210601_050000 (2).wac   \n",
       "\n",
       "                                                 filepath  \\\n",
       "563137  X:\\BU\\ARU\\EDGEROAD\\2021\\V1\\R-19B\\R-E0-19-61\\R-...   \n",
       "\n",
       "                           Temp_column       RecordingDate  \n",
       "563137  R-E0-19-61_20210601_050000 (2) 2021-06-01 05:00:00  "
      ]
     },
     "execution_count": 32,
     "metadata": {},
     "output_type": "execute_result"
    }
   ],
   "source": [
    "BU_public_correct_points.loc[BU_public_correct_points['Temp_column'] == 'R-E0-19-61_20210601_050000 (2)']"
   ]
  },
  {
   "cell_type": "code",
   "execution_count": 31,
   "metadata": {},
   "outputs": [],
   "source": [
    "BU_public_correct_points.loc[BU_public_correct_points['Temp_column'] == 'R-E0-19-61_20210601_050000 (2)', 'RecordingDate'] = dt.datetime(2021, 6, 1, 5, 0, 0)"
   ]
  },
  {
   "cell_type": "code",
   "execution_count": 35,
   "metadata": {},
   "outputs": [
    {
     "name": "stdout",
     "output_type": "stream",
     "text": [
      "0\n"
     ]
    }
   ],
   "source": [
    "BU_public_correct_points['RecordingDate'].isna().sum()\n",
    "BU_public_correct_points.dropna(subset = 'RecordingDate', inplace=True)\n",
    "print(BU_public_correct_points['RecordingDate'].isna().sum())"
   ]
  },
  {
   "cell_type": "markdown",
   "metadata": {},
   "source": [
    "### D.2 Recording at dawn during Breeding Season"
   ]
  },
  {
   "cell_type": "code",
   "execution_count": 37,
   "metadata": {},
   "outputs": [
    {
     "data": {
      "image/png": "[encoded data removed]",
      "text/plain": [
       "<Figure size 1000x600 with 1 Axes>"
      ]
     },
     "metadata": {},
     "output_type": "display_data"
    }
   ],
   "source": [
    "import calendar\n",
    "\n",
    "\n",
    "# Extract the month from each date in the RecordingDate column and convert to month names\n",
    "month_names = BU_public_correct_points['RecordingDate'].dt.month.apply(lambda x: calendar.month_name[x] if not pd.isna(x) else None)\n",
    "\n",
    "# Count the frequency of each month name\n",
    "month_counts = month_names.value_counts()\n",
    "\n",
    "# Sort the month_counts by month order\n",
    "month_order = [calendar.month_name[i] for i in range(1, 13)]\n",
    "month_counts = month_counts.reindex(month_order)\n",
    "\n",
    "# Plot a bar chart of the month frequencies\n",
    "plt.figure(figsize=(10, 6))  # Set the figure size for better readability\n",
    "month_counts.plot(kind='bar', alpha=0.75, edgecolor='black')\n",
    "plt.title('Distribution of Recording Dates by Month')\n",
    "plt.xlabel('Month')\n",
    "plt.ylabel('Frequency')\n",
    "plt.xticks(rotation=45)  # Rotate the month names for better readability\n",
    "plt.grid(axis='y', alpha=0.75)  # Enable horizontal grid lines for better readability\n",
    "plt.show()"
   ]
  },
  {
   "cell_type": "code",
   "execution_count": 38,
   "metadata": {},
   "outputs": [],
   "source": [
    "# Function to check if a date falls between May 26 and July 6\n",
    "def is_date_within_range(date):\n",
    "    if pd.isna(date):\n",
    "        return False\n",
    "    # Extract month and day\n",
    "    month_day = (date.month, date.day)\n",
    "    # Define the start (May 26) and end (July 6) of the range as month-day tuples\n",
    "    range_start = (5, 26)\n",
    "    range_end = (7, 6)\n",
    "    # Check if the date falls within the range\n",
    "    return range_start <= month_day <= range_end\n",
    "\n",
    "# Apply the function to the RecordingDate column to filter the DataFrame\n",
    "BU_public_spring_points = BU_public_correct_points[BU_public_correct_points['RecordingDate'].apply(is_date_within_range)]\n"
   ]
  },
  {
   "cell_type": "code",
   "execution_count": 40,
   "metadata": {},
   "outputs": [
    {
     "name": "stderr",
     "output_type": "stream",
     "text": [
      "C:\\Users\\ilebe\\AppData\\Local\\Temp\\ipykernel_1584\\2561007590.py:1: SettingWithCopyWarning: \n",
      "A value is trying to be set on a copy of a slice from a DataFrame\n",
      "\n",
      "See the caveats in the documentation: https://pandas.pydata.org/pandas-docs/stable/user_guide/indexing.html#returning-a-view-versus-a-copy\n",
      "  BU_public_spring_points.drop(labels=['Unnamed: 0', 'Temp_column'], axis = 1, inplace=True)\n"
     ]
    }
   ],
   "source": [
    "BU_public_spring_points.drop(labels=['Unnamed: 0', 'Temp_column'], axis = 1, inplace=True)"
   ]
  },
  {
   "cell_type": "code",
   "execution_count": 46,
   "metadata": {},
   "outputs": [
    {
     "data": {
      "text/plain": [
       "1789"
      ]
     },
     "execution_count": 46,
     "metadata": {},
     "output_type": "execute_result"
    }
   ],
   "source": [
    "len(BU_public_spring_points.location.unique())"
   ]
  },
  {
   "cell_type": "code",
   "execution_count": 47,
   "metadata": {},
   "outputs": [],
   "source": [
    "# Function to check if a datetime's time is between 04:00 and 09:00\n",
    "def is_time_within_range(datetime):\n",
    "    if pd.isna(datetime):\n",
    "        return False\n",
    "    # Extract time\n",
    "    time = datetime.time()\n",
    "    # Define start and end times\n",
    "    start_time = dt.time(4, 0)\n",
    "    end_time = dt.time(9, 0)\n",
    "    # Check if the time falls within the range\n",
    "    return start_time <= time <= end_time\n",
    "\n",
    "# Apply the function to filter the DataFrame further\n",
    "BU_public_spring_dawn_points = BU_public_spring_points[BU_public_spring_points['RecordingDate'].apply(is_time_within_range)]"
   ]
  },
  {
   "cell_type": "code",
   "execution_count": 49,
   "metadata": {},
   "outputs": [
    {
     "name": "stdout",
     "output_type": "stream",
     "text": [
      "(130452, 4)\n"
     ]
    }
   ],
   "source": [
    "len(BU_public_spring_dawn_points.location.unique())\n",
    "print(BU_public_spring_dawn_points.shape)"
   ]
  },
  {
   "cell_type": "code",
   "execution_count": 50,
   "metadata": {},
   "outputs": [],
   "source": [
    "BU_public_spring_dawn_points.to_csv(os.path.join(processed_path, \"BU_public_spring_dawn_points_near_harv.csv\"))"
   ]
  },
  {
   "cell_type": "markdown",
   "metadata": {},
   "source": [
    "# E. Habitat around each point"
   ]
  },
  {
   "cell_type": "markdown",
   "metadata": {},
   "source": [
    "Now that we have sites that are within 500m of the nearest harvest, and where the harvests are 1980-2019, we can omit sites that are in anything other than white spruce (17), aspen (29), and pine jack (23), lodgepole(23). <br>\n",
    "First, calculate the area within 150m and the proportion of each raset pixel type. Then we can filter out the sites where there are too many undesirble tree species."
   ]
  },
  {
   "cell_type": "code",
   "execution_count": 53,
   "metadata": {},
   "outputs": [
    {
     "name": "stdout",
     "output_type": "stream",
     "text": [
      "Raster width: 193936\n",
      "Raster height: 128340\n",
      "Number of bands: 1\n",
      "Coordinate Reference System (CRS): PROJCS[\"Lambert_Conformal_Conic_2SP\",GEOGCS[\"NAD83\",DATUM[\"North American Datum 1983\",SPHEROID[\"GRS 1980\",6378137,298.257222101004]],PRIMEM[\"Greenwich\",0],UNIT[\"degree\",0.0174532925199433,AUTHORITY[\"EPSG\",\"9122\"]]],PROJECTION[\"Lambert_Conformal_Conic_2SP\"],PARAMETER[\"latitude_of_origin\",49],PARAMETER[\"central_meridian\",-95],PARAMETER[\"standard_parallel_1\",49],PARAMETER[\"standard_parallel_2\",77],PARAMETER[\"false_easting\",0],PARAMETER[\"false_northing\",0],UNIT[\"metre\",1,AUTHORITY[\"EPSG\",\"9001\"]],AXIS[\"Easting\",EAST],AXIS[\"Northing\",NORTH]]\n",
      "Raster transform: | 30.00, 0.00,-2660910.52|\n",
      "| 0.00,-30.00, 2998848.11|\n",
      "| 0.00, 0.00, 1.00|\n",
      "Pixel size: (30.0, 30.0)\n"
     ]
    }
   ],
   "source": [
    "with rasterio.open(lead_tree_rater_path) as src:\n",
    "    # Print basic metadata about the raster\n",
    "    print(f\"Raster width: {src.width}\")\n",
    "    print(f\"Raster height: {src.height}\")\n",
    "    print(f\"Number of bands: {src.count}\")\n",
    "    print(f\"Coordinate Reference System (CRS): {src.crs}\")\n",
    "    print(f\"Raster transform: {src.transform}\")\n",
    "    print(f\"Pixel size: {src.res}\")"
   ]
  },
  {
   "cell_type": "markdown",
   "metadata": {},
   "source": [
    "Filter out the sites for which we don't have recordings in the correct time frame."
   ]
  },
  {
   "cell_type": "code",
   "execution_count": 56,
   "metadata": {},
   "outputs": [],
   "source": [
    "BU_points_within_500m_post_1980 = gpd.read_file(os.path.join(processed_path, \"shapefiles\", \"BU_locations_within500m_post_1980_harvest_3400.shp\"))"
   ]
  },
  {
   "cell_type": "code",
   "execution_count": 58,
   "metadata": {},
   "outputs": [],
   "source": [
    "these_are_good_sites = list(BU_public_spring_dawn_points.location.unique())"
   ]
  },
  {
   "cell_type": "code",
   "execution_count": 60,
   "metadata": {},
   "outputs": [
    {
     "data": {
      "text/plain": [
       "(1751, 11)"
      ]
     },
     "execution_count": 60,
     "metadata": {},
     "output_type": "execute_result"
    }
   ],
   "source": [
    "BU_points_within_500m_post_1980_good_sites = BU_points_within_500m_post_1980[BU_points_within_500m_post_1980['location'].isin(these_are_good_sites)]\n",
    "BU_points_within_500m_post_1980_good_sites.shape"
   ]
  },
  {
   "cell_type": "code",
   "execution_count": 62,
   "metadata": {},
   "outputs": [
    {
     "data": {
      "text/plain": [
       "<AxesSubplot:>"
      ]
     },
     "execution_count": 62,
     "metadata": {},
     "output_type": "execute_result"
    },
    {
     "data": {
      "image/png": "[encoded data removed]",
      "text/plain": [
       "<Figure size 1200x800 with 1 Axes>"
      ]
     },
     "metadata": {},
     "output_type": "display_data"
    }
   ],
   "source": [
    "\n",
    "# Plot the data\n",
    "fig, ax = plt.subplots(figsize=(12, 8))\n",
    "\n",
    "BU_points_within_500m_post_1980_good_sites.plot(ax=ax, facecolor = 'white', edgecolor = 'black')"
   ]
  },
  {
   "cell_type": "code",
   "execution_count": 68,
   "metadata": {},
   "outputs": [],
   "source": [
    "BU_points_within_500m_post_1980_good_sites = BU_points_within_500m_post_1980_good_sites.drop(labels=\"geometry_150m\", axis=1)"
   ]
  },
  {
   "cell_type": "code",
   "execution_count": 69,
   "metadata": {},
   "outputs": [],
   "source": [
    "BU_points_within_500m_post_1980_good_sites.to_file(os.path.join(processed_path, 'shapefiles', 'BU_points_within_500m_post_1980_good_sites.shp'))"
   ]
  },
  {
   "cell_type": "markdown",
   "metadata": {},
   "source": [
    "## E.2 Select points where the only harvest within 500 m is the nearest harvest.\n",
    "\n",
    "In the BU_points gdf, nearest_po refers to the index of the harvest polygon in the Harvest gdf"
   ]
  },
  {
   "cell_type": "code",
   "execution_count": 4,
   "metadata": {},
   "outputs": [],
   "source": [
    "BU_points = gpd.read_file(os.path.join(processed_path, 'shapefiles', 'BU_points_within_500m_post_1980_good_sites.shp'))"
   ]
  },
  {
   "cell_type": "markdown",
   "metadata": {},
   "source": [
    "This code gives us the distance and the age of all the harvests within a 500m radius of each point.\n",
    "That's within 0.7854 ${km^2}$"
   ]
  },
  {
   "cell_type": "code",
   "execution_count": 85,
   "metadata": {},
   "outputs": [
    {
     "name": "stderr",
     "output_type": "stream",
     "text": [
      "C:\\Users\\ilebe\\AppData\\Local\\Temp\\ipykernel_1604\\3560070421.py:28: FutureWarning: iteritems is deprecated and will be removed in a future version. Use .items instead.\n",
      "  for pid, dist in nearby_polygons.iteritems()]\n"
     ]
    }
   ],
   "source": [
    "\n",
    "# Assuming BU_points_out_harvest_boreal_foothills_trim is your points GeoDataFrame\n",
    "# Initialize columns to hold distances and years for ALL nearby polygons (within 500m)\n",
    "BU_points['harvest_poly_details'] = np.nan\n",
    "\n",
    "# Spatial index for the polygons GeoDataFrame\n",
    "poly_sindex = Harvest_AREAS_polygons_gdf.sindex\n",
    "\n",
    "for index, point in BU_points.iterrows():\n",
    "    # Buffer the point by 500 meters to consider only nearby polygons\n",
    "    buffered_point = point.geometry.buffer(500)\n",
    "    \n",
    "    # Use spatial index to find polygons within 500m buffer\n",
    "    possible_matches_index = list(poly_sindex.intersection(buffered_point.bounds))\n",
    "    possible_matches = Harvest_AREAS_polygons_gdf.iloc[possible_matches_index]\n",
    "    \n",
    "    # Skip if no matches\n",
    "    if possible_matches.empty:\n",
    "        continue\n",
    "    \n",
    "    # Calculate distance from point to each candidate polygon's edge\n",
    "    point_to_poly_distances = possible_matches.distance(point.geometry)\n",
    "    \n",
    "    # Filter out polygons more than 500 meters away\n",
    "    nearby_polygons = point_to_poly_distances[point_to_poly_distances <= 500]\n",
    "    \n",
    "    # Store details of each nearby polygon\n",
    "    poly_details = [{'poly_id': pid, 'distance': dist, 'year': Harvest_AREAS_polygons_gdf.at[pid, 'YEAR']} \n",
    "                    for pid, dist in nearby_polygons.iteritems()]\n",
    "    \n",
    "    # Update the points GeoDataFrame with details of all nearby harvest polygons\n",
    "    if poly_details:  # Check if the list is not empty\n",
    "        BU_points.at[index, 'harvest_poly_details'] = str(poly_details)"
   ]
  },
  {
   "cell_type": "code",
   "execution_count": 92,
   "metadata": {},
   "outputs": [
    {
     "data": {
      "text/plain": [
       "\"[{'poly_id': 125267, 'distance': 232.70497446046176, 'year': 2010}, {'poly_id': 125137, 'distance': 245.15823643277795, 'year': 2001}]\""
      ]
     },
     "execution_count": 92,
     "metadata": {},
     "output_type": "execute_result"
    }
   ],
   "source": [
    "dict_BAM96 = BU_points[BU_points['location'] == \"BAM-96\"][\"harvest_poly_details\"][0]\n",
    "dict_BAM96"
   ]
  },
  {
   "cell_type": "code",
   "execution_count": 98,
   "metadata": {},
   "outputs": [],
   "source": [
    "BU_points.set_geometry(col = 'geometry', inplace=True)\n"
   ]
  },
  {
   "cell_type": "code",
   "execution_count": 107,
   "metadata": {},
   "outputs": [],
   "source": [
    "# BU_points.rename(columns={'nearest__1': 'YEAR', \"distance_t\": \"distance_nearest_harv\"}, inplace=True)\n",
    "# BU_points.rename(columns={\"distance_t\": \"distance_nearest_harv\"}, inplace=True)\n",
    "BU_points.rename(columns={\"nearest_po\": \"nearest_harv_index\", \"YEAR\": \"YEAR_nearest_harv\"}, inplace=True)"
   ]
  },
  {
   "cell_type": "code",
   "execution_count": 109,
   "metadata": {},
   "outputs": [
    {
     "data": {
      "text/html": [
       "<div>\n",
       "<style scoped>\n",
       "    .dataframe tbody tr th:only-of-type {\n",
       "        vertical-align: middle;\n",
       "    }\n",
       "\n",
       "    .dataframe tbody tr th {\n",
       "        vertical-align: top;\n",
       "    }\n",
       "\n",
       "    .dataframe thead th {\n",
       "        text-align: right;\n",
       "    }\n",
       "</style>\n",
       "<table border=\"1\" class=\"dataframe\">\n",
       "  <thead>\n",
       "    <tr style=\"text-align: right;\">\n",
       "      <th></th>\n",
       "      <th>location</th>\n",
       "      <th>latitude</th>\n",
       "      <th>longitude</th>\n",
       "      <th>NSRNAME</th>\n",
       "      <th>NSRCODE</th>\n",
       "      <th>NRNAME</th>\n",
       "      <th>nearest_harv_index</th>\n",
       "      <th>distance_nearest_harv</th>\n",
       "      <th>distance_1</th>\n",
       "      <th>YEAR_nearest_harv</th>\n",
       "      <th>geometry</th>\n",
       "      <th>buffer</th>\n",
       "      <th>harvest_poly_details</th>\n",
       "    </tr>\n",
       "  </thead>\n",
       "  <tbody>\n",
       "    <tr>\n",
       "      <th>0</th>\n",
       "      <td>BAM-96</td>\n",
       "      <td>57.127584</td>\n",
       "      <td>-117.766145</td>\n",
       "      <td>Dry Mixedwood</td>\n",
       "      <td>DMW</td>\n",
       "      <td>Boreal</td>\n",
       "      <td>125267.0</td>\n",
       "      <td>232.704974</td>\n",
       "      <td>232.704974</td>\n",
       "      <td>2010.0</td>\n",
       "      <td>POINT (332631.731 6332448.753)</td>\n",
       "      <td>POLYGON ((337296.708 6332653.366, 337296.769 6...</td>\n",
       "      <td>[{'poly_id': 125267, 'distance': 232.704974460...</td>\n",
       "    </tr>\n",
       "    <tr>\n",
       "      <th>1</th>\n",
       "      <td>BAM-97</td>\n",
       "      <td>57.129393</td>\n",
       "      <td>-117.782274</td>\n",
       "      <td>Dry Mixedwood</td>\n",
       "      <td>DMW</td>\n",
       "      <td>Boreal</td>\n",
       "      <td>125137.0</td>\n",
       "      <td>214.962532</td>\n",
       "      <td>214.962532</td>\n",
       "      <td>2001.0</td>\n",
       "      <td>POINT (331664.357 6332689.653)</td>\n",
       "      <td>POLYGON ((336329.334 6332894.266, 336329.395 6...</td>\n",
       "      <td>[{'poly_id': 125137, 'distance': 214.962531838...</td>\n",
       "    </tr>\n",
       "    <tr>\n",
       "      <th>2</th>\n",
       "      <td>BG-1-6</td>\n",
       "      <td>56.248017</td>\n",
       "      <td>-111.022350</td>\n",
       "      <td>Central Mixedwood</td>\n",
       "      <td>CM</td>\n",
       "      <td>Boreal</td>\n",
       "      <td>216513.0</td>\n",
       "      <td>66.243893</td>\n",
       "      <td>66.243893</td>\n",
       "      <td>1995.0</td>\n",
       "      <td>POINT (746311.911 6238302.718)</td>\n",
       "      <td>POLYGON ((750976.888 6238507.330, 750976.949 6...</td>\n",
       "      <td>[{'poly_id': 216513, 'distance': 66.2438932476...</td>\n",
       "    </tr>\n",
       "  </tbody>\n",
       "</table>\n",
       "</div>"
      ],
      "text/plain": [
       "  location   latitude   longitude            NSRNAME NSRCODE  NRNAME  \\\n",
       "0   BAM-96  57.127584 -117.766145      Dry Mixedwood     DMW  Boreal   \n",
       "1   BAM-97  57.129393 -117.782274      Dry Mixedwood     DMW  Boreal   \n",
       "2   BG-1-6  56.248017 -111.022350  Central Mixedwood      CM  Boreal   \n",
       "\n",
       "   nearest_harv_index  distance_nearest_harv  distance_1  YEAR_nearest_harv  \\\n",
       "0            125267.0             232.704974  232.704974             2010.0   \n",
       "1            125137.0             214.962532  214.962532             2001.0   \n",
       "2            216513.0              66.243893   66.243893             1995.0   \n",
       "\n",
       "                         geometry  \\\n",
       "0  POINT (332631.731 6332448.753)   \n",
       "1  POINT (331664.357 6332689.653)   \n",
       "2  POINT (746311.911 6238302.718)   \n",
       "\n",
       "                                              buffer  \\\n",
       "0  POLYGON ((337296.708 6332653.366, 337296.769 6...   \n",
       "1  POLYGON ((336329.334 6332894.266, 336329.395 6...   \n",
       "2  POLYGON ((750976.888 6238507.330, 750976.949 6...   \n",
       "\n",
       "                                harvest_poly_details  \n",
       "0  [{'poly_id': 125267, 'distance': 232.704974460...  \n",
       "1  [{'poly_id': 125137, 'distance': 214.962531838...  \n",
       "2  [{'poly_id': 216513, 'distance': 66.2438932476...  "
      ]
     },
     "execution_count": 109,
     "metadata": {},
     "output_type": "execute_result"
    }
   ],
   "source": [
    "BU_points.head(3)"
   ]
  },
  {
   "cell_type": "code",
   "execution_count": 110,
   "metadata": {},
   "outputs": [
    {
     "name": "stderr",
     "output_type": "stream",
     "text": [
      "C:\\Users\\ilebe\\AppData\\Local\\Temp\\ipykernel_1604\\187623932.py:1: UserWarning: Column names longer than 10 characters will be truncated when saved to ESRI Shapefile.\n",
      "  BU_points[['location', 'latitude', 'longitude', 'NSRNAME', 'NSRCODE', 'NRNAME',\n"
     ]
    }
   ],
   "source": [
    "BU_points[['location', 'latitude', 'longitude', 'NSRNAME', 'NSRCODE', 'NRNAME',\n",
    "       'nearest_harv_index', 'distance_nearest_harv', 'YEAR_nearest_harv', 'geometry', 'harvest_poly_details']].to_file(os.path.join(processed_path, \"shapefiles\", \"BU_points_all_harv_within_500m_4300.shp\"))"
   ]
  },
  {
   "cell_type": "code",
   "execution_count": 13,
   "metadata": {},
   "outputs": [
    {
     "data": {
      "text/html": [
       "<div>\n",
       "<style scoped>\n",
       "    .dataframe tbody tr th:only-of-type {\n",
       "        vertical-align: middle;\n",
       "    }\n",
       "\n",
       "    .dataframe tbody tr th {\n",
       "        vertical-align: top;\n",
       "    }\n",
       "\n",
       "    .dataframe thead th {\n",
       "        text-align: right;\n",
       "    }\n",
       "</style>\n",
       "<table border=\"1\" class=\"dataframe\">\n",
       "  <thead>\n",
       "    <tr style=\"text-align: right;\">\n",
       "      <th></th>\n",
       "      <th>OBJECTID</th>\n",
       "      <th>SOURCE</th>\n",
       "      <th>HFI_ID</th>\n",
       "      <th>FEATURE_TY</th>\n",
       "      <th>YEAR</th>\n",
       "      <th>SECTOR_HFI</th>\n",
       "      <th>Modifier_Y</th>\n",
       "      <th>Shape_Leng</th>\n",
       "      <th>Shape_Area</th>\n",
       "      <th>AnlysID</th>\n",
       "      <th>...</th>\n",
       "      <th>confHrvYr</th>\n",
       "      <th>confLnDstb</th>\n",
       "      <th>confNBRchg</th>\n",
       "      <th>confRegn</th>\n",
       "      <th>confY2R80</th>\n",
       "      <th>conf5yReg</th>\n",
       "      <th>confTotSum</th>\n",
       "      <th>regnMetsYN</th>\n",
       "      <th>regnAnlyYN</th>\n",
       "      <th>geometry</th>\n",
       "    </tr>\n",
       "  </thead>\n",
       "  <tbody>\n",
       "    <tr>\n",
       "      <th>125267</th>\n",
       "      <td>125368</td>\n",
       "      <td>ABMI</td>\n",
       "      <td>{46CA0B1C-B314-486B-BA01-4CA0CD4ED0BE}</td>\n",
       "      <td>HARVEST-AREA</td>\n",
       "      <td>2010</td>\n",
       "      <td>FORESTRY</td>\n",
       "      <td>0</td>\n",
       "      <td>965.781507</td>\n",
       "      <td>52350.698277</td>\n",
       "      <td>125368</td>\n",
       "      <td>...</td>\n",
       "      <td>-9999</td>\n",
       "      <td>-9999</td>\n",
       "      <td>-9999</td>\n",
       "      <td>-9999</td>\n",
       "      <td>-9999</td>\n",
       "      <td>-9999</td>\n",
       "      <td>-9999</td>\n",
       "      <td>N</td>\n",
       "      <td>Y</td>\n",
       "      <td>POLYGON ((332770.563 6332653.188, 332764.988 6...</td>\n",
       "    </tr>\n",
       "  </tbody>\n",
       "</table>\n",
       "<p>1 rows × 45 columns</p>\n",
       "</div>"
      ],
      "text/plain": [
       "        OBJECTID SOURCE                                  HFI_ID    FEATURE_TY  \\\n",
       "125267    125368   ABMI  {46CA0B1C-B314-486B-BA01-4CA0CD4ED0BE}  HARVEST-AREA   \n",
       "\n",
       "        YEAR SECTOR_HFI  Modifier_Y  Shape_Leng    Shape_Area  AnlysID  ...  \\\n",
       "125267  2010   FORESTRY           0  965.781507  52350.698277   125368  ...   \n",
       "\n",
       "        confHrvYr  confLnDstb  confNBRchg  confRegn  confY2R80  conf5yReg  \\\n",
       "125267      -9999       -9999       -9999     -9999      -9999      -9999   \n",
       "\n",
       "        confTotSum  regnMetsYN  regnAnlyYN  \\\n",
       "125267       -9999           N           Y   \n",
       "\n",
       "                                                 geometry  \n",
       "125267  POLYGON ((332770.563 6332653.188, 332764.988 6...  \n",
       "\n",
       "[1 rows x 45 columns]"
      ]
     },
     "execution_count": 13,
     "metadata": {},
     "output_type": "execute_result"
    }
   ],
   "source": [
    "Harvest_AREAS_polygons_gdf.loc[Harvest_AREAS_polygons_gdf.index == 125267]"
   ]
  },
  {
   "cell_type": "markdown",
   "metadata": {},
   "source": [
    "## E.2 Dealing with confounding harvests nearby\n",
    "\n",
    "Many sites have several harvests within 500m. However, if we delete all the sites that have more than 1 harvest within 500m, we will end up with nothing. There are 3 things to consider:\n",
    "1. How close are the other harvests? I don't want to include confounding edge effects from other harvests. If I expect that edge effects will occur within a certian ditsance if the harvest is of a certain age, then I should omit sites where those edge effects could be at play.\n",
    "    - All of the harvests here are younger than 1980.\n",
    "2. I don't need to worry about the harvests that were logged AFTER the survey date. I have the survey date from the BU_public_spring_dawn_points_near_harv.csv file.\n",
    "3. "
   ]
  },
  {
   "cell_type": "code",
   "execution_count": 111,
   "metadata": {},
   "outputs": [],
   "source": [
    "BU_public_spring_dawn_points = pd.read_csv(os.path.join(processed_path, \"BU_public_spring_dawn_points_near_harv.csv\"))"
   ]
  },
  {
   "cell_type": "code",
   "execution_count": 126,
   "metadata": {},
   "outputs": [],
   "source": [
    "BU_public_spring_dawn_points['RecordingDate'] = pd.to_datetime(BU_public_spring_dawn_points['RecordingDate'])\n",
    "BU_public_spring_dawn_points.dtypes\n",
    "BU_public_spring_dawn_points.drop(labels = ['Unnamed: 0', 'RecordingDate '], inplace=True, axis=1)"
   ]
  },
  {
   "cell_type": "code",
   "execution_count": 129,
   "metadata": {},
   "outputs": [
    {
     "data": {
      "text/html": [
       "<div>\n",
       "<style scoped>\n",
       "    .dataframe tbody tr th:only-of-type {\n",
       "        vertical-align: middle;\n",
       "    }\n",
       "\n",
       "    .dataframe tbody tr th {\n",
       "        vertical-align: top;\n",
       "    }\n",
       "\n",
       "    .dataframe thead th {\n",
       "        text-align: right;\n",
       "    }\n",
       "</style>\n",
       "<table border=\"1\" class=\"dataframe\">\n",
       "  <thead>\n",
       "    <tr style=\"text-align: right;\">\n",
       "      <th></th>\n",
       "      <th>location</th>\n",
       "      <th>recording</th>\n",
       "      <th>filepath</th>\n",
       "      <th>RecordingDate</th>\n",
       "      <th>SurveyYear</th>\n",
       "    </tr>\n",
       "  </thead>\n",
       "  <tbody>\n",
       "    <tr>\n",
       "      <th>0</th>\n",
       "      <td>AM-420-CT</td>\n",
       "      <td>AM-420-CT_20140526_060000.wac</td>\n",
       "      <td>X:\\BU\\ARU\\AM\\2014\\V1\\AM-420\\AM-420-CT\\AM-420-C...</td>\n",
       "      <td>2014-05-26 06:00:00</td>\n",
       "      <td>2014</td>\n",
       "    </tr>\n",
       "  </tbody>\n",
       "</table>\n",
       "</div>"
      ],
      "text/plain": [
       "    location                      recording  \\\n",
       "0  AM-420-CT  AM-420-CT_20140526_060000.wac   \n",
       "\n",
       "                                            filepath       RecordingDate  \\\n",
       "0  X:\\BU\\ARU\\AM\\2014\\V1\\AM-420\\AM-420-CT\\AM-420-C... 2014-05-26 06:00:00   \n",
       "\n",
       "   SurveyYear  \n",
       "0        2014  "
      ]
     },
     "execution_count": 129,
     "metadata": {},
     "output_type": "execute_result"
    }
   ],
   "source": [
    "BU_public_spring_dawn_points.head(1)"
   ]
  },
  {
   "cell_type": "code",
   "execution_count": 128,
   "metadata": {},
   "outputs": [],
   "source": [
    "BU_public_spring_dawn_points['SurveyYear'] = BU_public_spring_dawn_points['RecordingDate'].dt.year"
   ]
  },
  {
   "cell_type": "code",
   "execution_count": 132,
   "metadata": {},
   "outputs": [],
   "source": [
    "BU_public_spring_dawn_points[['location', 'SurveyYear']].to_csv(os.path.join(processed_path, \"BU_public_good_points_survey_year.csv\"), index = False)"
   ]
  },
  {
   "cell_type": "code",
   "execution_count": 130,
   "metadata": {},
   "outputs": [
    {
     "data": {
      "text/plain": [
       "{'AM-420-CT': 2015,\n",
       " 'AM-420-NE': 2015,\n",
       " 'AM-420-NW': 2015,\n",
       " 'AM-420-SE': 2015,\n",
       " 'AM-422-CT': 2014,\n",
       " 'AM-422-NE': 2014,\n",
       " 'AM-422-NW': 2014,\n",
       " 'AM-422-SW': 2014,\n",
       " 'AM-424-CT': 2022,\n",
       " 'AM-424-NE': 2022,\n",
       " 'AM-426-CT': 2017,\n",
       " 'AM-426-NE': 2017,\n",
       " 'AM-426-SE': 2016,\n",
       " 'AM-426-SW': 2016,\n",
       " 'AM-427-CT': 2015,\n",
       " 'AM-427-NE': 2015,\n",
       " 'AM-427-NW': 2015,\n",
       " 'AM-427-SE': 2015,\n",
       " 'AM-427-SW': 2015,\n",
       " 'AM-432-SW': 2014,\n",
       " 'AM-433-SE': 2017,\n",
       " 'AM-435-NW': 2014,\n",
       " 'AM-435-SW': 2014,\n",
       " 'AM-439-SW': 2022,\n",
       " 'AM-441-CT': 2017,\n",
       " 'AM-441-NW': 2017,\n",
       " 'AM-441-SW': 2017,\n",
       " 'AM-414-SW': 2019,\n",
       " 'AM-420-SW': 2015,\n",
       " 'AM-442-CT': 2021,\n",
       " 'AM-442-NE': 2018,\n",
       " 'AM-442-SE': 2018,\n",
       " 'AM-442-SW': 2021,\n",
       " 'AM-423-CT': 2017,\n",
       " 'AM-423-NE': 2017,\n",
       " 'AM-423-NW': 2017,\n",
       " 'AM-423-SE': 2017,\n",
       " 'AM-423-SW': 2017,\n",
       " 'ARTI-1-NE': 2018,\n",
       " 'ARTI-1-SE': 2018,\n",
       " 'ARTI-4-NW': 2018,\n",
       " 'ARTI-9-NE': 2018,\n",
       " 'ARTI-9-NW': 2018,\n",
       " 'ARTI-9-SE': 2018,\n",
       " 'ARTI-9-SW': 2018,\n",
       " 'BAM-2-5': 2019,\n",
       " 'BAM-4-28': 2019,\n",
       " 'BAM-4-29': 2019,\n",
       " 'BAM-6-32': 2019,\n",
       " 'BAM-6-33': 2019,\n",
       " 'BAM-6-34': 2019,\n",
       " 'BAM-104': 2020,\n",
       " 'BAM-105': 2020,\n",
       " 'BAM-106': 2020,\n",
       " 'BAM-111': 2020,\n",
       " 'BAM-112': 2020,\n",
       " 'BAM-113': 2020,\n",
       " 'BAM-118': 2020,\n",
       " 'BAM-128': 2020,\n",
       " 'BAM-129': 2020,\n",
       " 'BAM-130': 2020,\n",
       " 'BAM-131': 2020,\n",
       " 'BAM-135': 2020,\n",
       " 'BAM-136': 2020,\n",
       " 'BAM-236': 2020,\n",
       " 'BAM-245': 2020,\n",
       " 'BAM-96': 2020,\n",
       " 'BAM-97': 2020,\n",
       " 'BAM-22-100': 2023,\n",
       " 'BAM-22-102': 2022,\n",
       " 'BAM-22-105': 2022,\n",
       " 'BAM-22-106N': 2022,\n",
       " 'BAM-22-107N': 2022,\n",
       " 'BAM-22-118': 2022,\n",
       " 'BAM-22-12': 2023,\n",
       " 'BAM-22-126': 2023,\n",
       " 'BAM-22-129': 2022,\n",
       " 'BAM-22-13': 2023,\n",
       " 'BAM-22-133': 2023,\n",
       " 'BAM-22-134': 2023,\n",
       " 'BAM-22-137': 2023,\n",
       " 'BAM-22-139N': 2023,\n",
       " 'BAM-22-14': 2022,\n",
       " 'BAM-22-142': 2022,\n",
       " 'BAM-22-143': 2023,\n",
       " 'BAM-22-147': 2023,\n",
       " 'BAM-22-149': 2022,\n",
       " 'BAM-22-164': 2022,\n",
       " 'BAM-22-166': 2022,\n",
       " 'BAM-22-17': 2022,\n",
       " 'BAM-22-177': 2022,\n",
       " 'BAM-22-18': 2022,\n",
       " 'BAM-22-181': 2023,\n",
       " 'BAM-22-182': 2023,\n",
       " 'BAM-22-184': 2022,\n",
       " 'BAM-22-185': 2023,\n",
       " 'BAM-22-189N': 2023,\n",
       " 'BAM-22-19': 2022,\n",
       " 'BAM-22-191': 2023,\n",
       " 'BAM-22-196': 2022,\n",
       " 'BAM-22-2': 2022,\n",
       " 'BAM-22-201': 2022,\n",
       " 'BAM-22-207': 2023,\n",
       " 'BAM-22-214N': 2023,\n",
       " 'BAM-22-217': 2023,\n",
       " 'BAM-22-218': 2022,\n",
       " 'BAM-22-219': 2022,\n",
       " 'BAM-22-21N': 2022,\n",
       " 'BAM-22-222': 2022,\n",
       " 'BAM-22-229': 2023,\n",
       " 'BAM-22-232': 2023,\n",
       " 'BAM-22-235': 2022,\n",
       " 'BAM-22-236': 2023,\n",
       " 'BAM-22-240': 2023,\n",
       " 'BAM-22-251': 2022,\n",
       " 'BAM-22-255': 2022,\n",
       " 'BAM-22-256': 2022,\n",
       " 'BAM-22-260': 2023,\n",
       " 'BAM-22-263': 2022,\n",
       " 'BAM-22-265': 2023,\n",
       " 'BAM-22-273': 2022,\n",
       " 'BAM-22-274': 2022,\n",
       " 'BAM-22-278': 2023,\n",
       " 'BAM-22-279': 2023,\n",
       " 'BAM-22-281': 2023,\n",
       " 'BAM-22-286': 2022,\n",
       " 'BAM-22-288': 2022,\n",
       " 'BAM-22-289': 2022,\n",
       " 'BAM-22-290': 2022,\n",
       " 'BAM-22-3': 2022,\n",
       " 'BAM-22-39': 2023,\n",
       " 'BAM-22-4-1N': 2022,\n",
       " 'BAM-22-46N': 2023,\n",
       " 'BAM-22-47N': 2023,\n",
       " 'BAM-22-53N': 2023,\n",
       " 'BAM-22-5N': 2022,\n",
       " 'BAM-22-68': 2022,\n",
       " 'BAM-22-69': 2022,\n",
       " 'BAM-22-7': 2022,\n",
       " 'BAM-22-70': 2023,\n",
       " 'BAM-22-71': 2022,\n",
       " 'BAM-22-73': 2022,\n",
       " 'BAM-22-74': 2022,\n",
       " 'BAM-22-78': 2023,\n",
       " 'BAM-22-79': 2022,\n",
       " 'BAM-22-82': 2022,\n",
       " 'BAM-22-84': 2022,\n",
       " 'BAM-22-85': 2023,\n",
       " 'BAM-22-86': 2023,\n",
       " 'BAM-22-87': 2023,\n",
       " 'BAM-22-88': 2022,\n",
       " 'BAM-22-90': 2023,\n",
       " 'BAM-22-91N': 2023,\n",
       " 'BAM-22-92': 2023,\n",
       " 'BAM-22-94': 2022,\n",
       " 'BAM-22-95': 2023,\n",
       " 'BAM-22-96': 2023,\n",
       " 'BAM-22-97': 2022,\n",
       " 'BAM-22-98': 2023,\n",
       " 'BAM-22-99': 2023,\n",
       " 'BG-1-10': 2014,\n",
       " 'BG-1-104': 2014,\n",
       " 'BG-1-105': 2014,\n",
       " 'BG-1-109': 2014,\n",
       " 'BG-1-113': 2014,\n",
       " 'BG-1-114': 2014,\n",
       " 'BG-1-115': 2014,\n",
       " 'BG-1-117': 2014,\n",
       " 'BG-1-118': 2014,\n",
       " 'BG-1-119': 2014,\n",
       " 'BG-1-12': 2014,\n",
       " 'BG-1-128': 2014,\n",
       " 'BG-1-129': 2014,\n",
       " 'BG-1-130': 2014,\n",
       " 'BG-1-134': 2014,\n",
       " 'BG-1-144': 2014,\n",
       " 'BG-1-146': 2014,\n",
       " 'BG-1-147': 2014,\n",
       " 'BG-1-149': 2014,\n",
       " 'BG-1-150': 2014,\n",
       " 'BG-1-24': 2014,\n",
       " 'BG-1-28': 2014,\n",
       " 'BG-1-29': 2014,\n",
       " 'BG-1-36': 2014,\n",
       " 'BG-1-37': 2014,\n",
       " 'BG-1-38': 2014,\n",
       " 'BG-1-39': 2014,\n",
       " 'BG-1-40': 2014,\n",
       " 'BG-1-44': 2014,\n",
       " 'BG-1-45': 2014,\n",
       " 'BG-1-51': 2014,\n",
       " 'BG-1-53': 2014,\n",
       " 'BG-1-56': 2014,\n",
       " 'BG-1-57': 2014,\n",
       " 'BG-1-58': 2014,\n",
       " 'BG-1-6': 2014,\n",
       " 'BG-1-69': 2014,\n",
       " 'BG-1-7': 2014,\n",
       " 'BG-1-71': 2014,\n",
       " 'BG-1-74': 2014,\n",
       " 'BG-1-8': 2014,\n",
       " 'BG-1-81': 2014,\n",
       " 'BG-1-82': 2014,\n",
       " 'BG-1-83': 2014,\n",
       " 'BG-1-84': 2014,\n",
       " 'BG-1-88': 2014,\n",
       " 'BG-1-89': 2014,\n",
       " 'BG-1-9': 2014,\n",
       " 'BG-1-90': 2014,\n",
       " 'BG-1-96': 2014,\n",
       " 'BG-1-98': 2014,\n",
       " 'BG-2-13': 2015,\n",
       " 'BG-2-15': 2015,\n",
       " 'BG-2-16': 2015,\n",
       " 'BG-2-17': 2015,\n",
       " 'BG-2-18': 2015,\n",
       " 'BG-2-19': 2015,\n",
       " 'BG-2-28': 2015,\n",
       " 'BG-2-29': 2015,\n",
       " 'BG-2-3': 2015,\n",
       " 'BG-2-33': 2015,\n",
       " 'BG-2-34': 2015,\n",
       " 'BG-2-35': 2015,\n",
       " 'BG-2-39': 2015,\n",
       " 'BG-2-4': 2015,\n",
       " 'BG-2-42': 2015,\n",
       " 'BG-2-44': 2015,\n",
       " 'BG-2-46': 2015,\n",
       " 'BG-2-47': 2015,\n",
       " 'BG-2-5': 2015,\n",
       " 'BG-2-50': 2015,\n",
       " 'BG-2-52': 2015,\n",
       " 'BG-2-54': 2015,\n",
       " 'BG-2-55': 2015,\n",
       " 'BG-2-57': 2015,\n",
       " 'BG-2-60': 2015,\n",
       " 'BG-2-62': 2015,\n",
       " 'BG-2-63': 2015,\n",
       " 'BG-2-64': 2015,\n",
       " 'BG-2-65': 2015,\n",
       " 'BG-2-66': 2015,\n",
       " 'BG-2-67': 2015,\n",
       " 'BG-2-7': 2015,\n",
       " 'BG-2-70': 2015,\n",
       " 'BG-2-71': 2015,\n",
       " 'BG-2-72': 2015,\n",
       " 'BG-2-76': 2015,\n",
       " 'BG-2-78': 2015,\n",
       " 'BG-2-8': 2015,\n",
       " 'BG-2-81': 2015,\n",
       " 'BG-2-82': 2015,\n",
       " 'BG-2-83': 2015,\n",
       " 'BG-2-84': 2015,\n",
       " 'BG-2-85': 2015,\n",
       " 'BG-2-87': 2015,\n",
       " 'BG-2-91': 2015,\n",
       " 'BG-2-92': 2015,\n",
       " 'BG-2-93': 2015,\n",
       " 'BG-3-10': 2015,\n",
       " 'BG-3-100': 2015,\n",
       " 'BG-3-12': 2015,\n",
       " 'BG-3-13': 2015,\n",
       " 'BG-3-14': 2015,\n",
       " 'BG-3-16': 2015,\n",
       " 'BG-3-17': 2015,\n",
       " 'BG-3-20': 2015,\n",
       " 'BG-3-22': 2015,\n",
       " 'BG-3-26': 2015,\n",
       " 'BG-3-29': 2015,\n",
       " 'BG-3-30': 2015,\n",
       " 'BG-3-36': 2015,\n",
       " 'BG-3-38': 2015,\n",
       " 'BG-3-39': 2015,\n",
       " 'BG-3-46': 2015,\n",
       " 'BG-3-47': 2015,\n",
       " 'BG-3-48': 2015,\n",
       " 'BG-3-49': 2015,\n",
       " 'BG-3-50': 2015,\n",
       " 'BG-3-56': 2015,\n",
       " 'BG-3-58': 2015,\n",
       " 'BG-3-59': 2015,\n",
       " 'BG-3-67': 2015,\n",
       " 'BG-3-68': 2015,\n",
       " 'BG-3-69': 2015,\n",
       " 'BG-3-70': 2015,\n",
       " 'BG-3-73': 2015,\n",
       " 'BG-3-74': 2015,\n",
       " 'BG-3-75': 2015,\n",
       " 'BG-3-79': 2015,\n",
       " 'BG-3-80': 2015,\n",
       " 'BG-3-82': 2015,\n",
       " 'BG-3-83': 2015,\n",
       " 'BG-3-85': 2015,\n",
       " 'BG-3-86': 2015,\n",
       " 'BG-3-87': 2015,\n",
       " 'BG-3-89': 2015,\n",
       " 'BG-3-90': 2015,\n",
       " 'BG-3-93': 2015,\n",
       " 'BG-3-95': 2015,\n",
       " 'BG-3-97': 2015,\n",
       " 'BG-6-10': 2016,\n",
       " 'BG-6-12': 2016,\n",
       " 'BG-6-13': 2016,\n",
       " 'BG-6-14': 2016,\n",
       " 'BG-6-15': 2016,\n",
       " 'BG-6-16': 2016,\n",
       " 'BG-6-17': 2022,\n",
       " 'BG-6-18': 2022,\n",
       " 'BG-6-19': 2016,\n",
       " 'BG-6-21': 2016,\n",
       " 'BG-6-22': 2022,\n",
       " 'BG-6-23': 2022,\n",
       " 'BG-6-24': 2016,\n",
       " 'BG-6-25': 2016,\n",
       " 'BG-6-27': 2022,\n",
       " 'BG-6-28': 2016,\n",
       " 'BG-6-29': 2016,\n",
       " 'BG-6-3': 2016,\n",
       " 'BG-6-31': 2022,\n",
       " 'BG-6-32': 2016,\n",
       " 'BG-6-33': 2022,\n",
       " 'BG-6-34': 2016,\n",
       " 'BG-6-35': 2016,\n",
       " 'BG-6-37': 2016,\n",
       " 'BG-6-38': 2016,\n",
       " 'BG-6-4': 2022,\n",
       " 'BG-6-40': 2016,\n",
       " 'BG-6-41': 2016,\n",
       " 'BG-6-42': 2016,\n",
       " 'BG-6-43': 2016,\n",
       " 'BG-6-44': 2016,\n",
       " 'BG-6-45': 2016,\n",
       " 'BG-6-46': 2016,\n",
       " 'BG-6-47': 2016,\n",
       " 'BG-6-48': 2016,\n",
       " 'BG-6-49': 2016,\n",
       " 'BG-6-52': 2016,\n",
       " 'BG-6-53': 2016,\n",
       " 'BG-6-56': 2016,\n",
       " 'BG-6-57': 2016,\n",
       " 'BG-6-58': 2016,\n",
       " 'BG-6-59': 2016,\n",
       " 'BG-6-61': 2016,\n",
       " 'BG-6-62': 2016,\n",
       " 'BG-6-63': 2016,\n",
       " 'BG-6-64': 2016,\n",
       " 'BG-6-66': 2016,\n",
       " 'BG-6-67': 2016,\n",
       " 'BG-6-68': 2016,\n",
       " 'BG-6-69': 2016,\n",
       " 'BG-6-73': 2016,\n",
       " 'BG-6-74': 2016,\n",
       " 'BG-6-76': 2016,\n",
       " 'BG-6-77': 2016,\n",
       " 'BG-6-78': 2016,\n",
       " 'BG-6-83': 2016,\n",
       " 'BG-6-84': 2016,\n",
       " 'BG-6-85': 2016,\n",
       " 'BG-6-87': 2016,\n",
       " 'BG-6-88': 2016,\n",
       " 'BG-6-90': 2016,\n",
       " 'BG-6-93': 2016,\n",
       " 'BG-6-96': 2016,\n",
       " 'BG-6-97': 2016,\n",
       " 'BG-7-51': 2016,\n",
       " 'BG-7-52': 2016,\n",
       " 'BG-7-57': 2016,\n",
       " 'BG-7-61': 2016,\n",
       " 'BG-7-62': 2016,\n",
       " 'BG-7-63': 2016,\n",
       " 'BG-7-64': 2016,\n",
       " 'BG-7-71': 2016,\n",
       " 'BG-7-73': 2016,\n",
       " 'BG-7-75': 2016,\n",
       " 'BG-7-76': 2016,\n",
       " 'BG-7-81': 2016,\n",
       " 'BG-7-82': 2016,\n",
       " 'BG-7-83': 2016,\n",
       " 'BG-7-84': 2016,\n",
       " 'BG-7-85': 2016,\n",
       " 'BG-7-86': 2016,\n",
       " 'BG-7-88': 2016,\n",
       " 'BG-7-91': 2016,\n",
       " 'BG-7-93': 2016,\n",
       " 'BG-7-95': 2016,\n",
       " 'BG-7-97': 2016,\n",
       " 'BG-9-55': 2016,\n",
       " 'BG-9-56': 2016,\n",
       " 'BG-9-57': 2016,\n",
       " 'BG-9-6': 2016,\n",
       " 'BG-9-64': 2016,\n",
       " 'BG-9-65': 2016,\n",
       " 'BG-9-66': 2016,\n",
       " 'BG-9-74': 2016,\n",
       " 'BG-9-75': 2016,\n",
       " 'BG-9-91': 2016,\n",
       " 'BG-9-92': 2016,\n",
       " 'BG-9-95': 2016,\n",
       " 'BG-11-1': 2017,\n",
       " 'BG-11-10': 2017,\n",
       " 'BG-11-100': 2017,\n",
       " 'BG-11-11': 2017,\n",
       " 'BG-11-13': 2017,\n",
       " 'BG-11-14': 2017,\n",
       " 'BG-11-15': 2017,\n",
       " 'BG-11-16': 2017,\n",
       " 'BG-11-18': 2017,\n",
       " 'BG-11-2': 2017,\n",
       " 'BG-11-20': 2017,\n",
       " 'BG-11-21': 2017,\n",
       " 'BG-11-22': 2017,\n",
       " 'BG-11-23': 2017,\n",
       " 'BG-11-26': 2017,\n",
       " 'BG-11-29': 2017,\n",
       " 'BG-11-30': 2017,\n",
       " 'BG-11-32': 2017,\n",
       " 'BG-11-33': 2017,\n",
       " 'BG-11-35': 2017,\n",
       " 'BG-11-36': 2017,\n",
       " 'BG-11-39': 2017,\n",
       " 'BG-11-40': 2017,\n",
       " 'BG-11-43': 2017,\n",
       " 'BG-11-44': 2017,\n",
       " 'BG-11-45': 2022,\n",
       " 'BG-11-50': 2017,\n",
       " 'BG-11-53': 2017,\n",
       " 'BG-11-54': 2022,\n",
       " 'BG-11-55': 2017,\n",
       " 'BG-11-56': 2017,\n",
       " 'BG-11-57': 2017,\n",
       " 'BG-11-6': 2017,\n",
       " 'BG-11-60': 2017,\n",
       " 'BG-11-64': 2022,\n",
       " 'BG-11-66': 2017,\n",
       " 'BG-11-68': 2017,\n",
       " 'BG-11-69': 2017,\n",
       " 'BG-11-7': 2017,\n",
       " 'BG-11-70': 2017,\n",
       " 'BG-11-74': 2017,\n",
       " 'BG-11-75': 2017,\n",
       " 'BG-11-77': 2017,\n",
       " 'BG-11-78': 2017,\n",
       " 'BG-11-79': 2017,\n",
       " 'BG-11-80': 2022,\n",
       " 'BG-11-83': 2017,\n",
       " 'BG-11-85': 2017,\n",
       " 'BG-11-86': 2017,\n",
       " 'BG-11-87': 2022,\n",
       " 'BG-11-88': 2017,\n",
       " 'BG-11-9': 2017,\n",
       " 'BG-11-90': 2017,\n",
       " 'BG-11-92': 2017,\n",
       " 'BG-11-94': 2022,\n",
       " 'BG-11-96': 2022,\n",
       " 'BG-11-97': 2017,\n",
       " 'BG-11-98': 2017,\n",
       " 'BG-12-100': 2017,\n",
       " 'BG-13-10': 2017,\n",
       " 'BG-13-16': 2017,\n",
       " 'BG-13-17': 2017,\n",
       " 'BG-13-18': 2017,\n",
       " 'BG-13-19': 2017,\n",
       " 'BG-13-20': 2017,\n",
       " 'BG-13-24': 2017,\n",
       " 'BG-13-25': 2017,\n",
       " 'BG-13-28': 2017,\n",
       " 'BG-13-33': 2017,\n",
       " 'BG-13-4': 2017,\n",
       " 'BG-13-40': 2017,\n",
       " 'BG-13-43': 2017,\n",
       " 'BG-13-44': 2017,\n",
       " 'BG-13-47': 2017,\n",
       " 'BG-13-50': 2017,\n",
       " 'BG-13-54': 2017,\n",
       " 'BG-13-55': 2017,\n",
       " 'BG-13-56': 2017,\n",
       " 'BG-13-57': 2017,\n",
       " 'BG-13-58': 2017,\n",
       " 'BG-13-59': 2017,\n",
       " 'BG-13-64': 2017,\n",
       " 'BG-13-67': 2017,\n",
       " 'BG-13-68': 2017,\n",
       " 'BG-13-7': 2017,\n",
       " 'BG-13-70': 2017,\n",
       " 'BG-13-73': 2017,\n",
       " 'BG-13-74': 2017,\n",
       " 'BG-13-75': 2017,\n",
       " 'BG-13-76': 2017,\n",
       " 'BG-13-83': 2017,\n",
       " 'BG-13-85': 2017,\n",
       " 'BG-13-86': 2017,\n",
       " 'BG-13-92': 2017,\n",
       " 'BG-13-96': 2017,\n",
       " 'BG-15-100': 2018,\n",
       " 'BG-15-60': 2018,\n",
       " 'BG-15-69': 2018,\n",
       " 'BG-15-70': 2018,\n",
       " 'BG-15-80': 2018,\n",
       " 'BG-15-82': 2018,\n",
       " 'BG-15-90': 2018,\n",
       " 'BG-15-91': 2018,\n",
       " 'BG-15-92': 2018,\n",
       " 'BG-15-93': 2018,\n",
       " 'BG-15-99': 2018,\n",
       " 'BG-16-1': 2018,\n",
       " 'BG-16-10': 2018,\n",
       " 'BG-16-100': 2018,\n",
       " 'BG-16-15': 2018,\n",
       " 'BG-16-16': 2018,\n",
       " 'BG-16-19': 2018,\n",
       " 'BG-16-20': 2018,\n",
       " 'BG-16-23': 2018,\n",
       " 'BG-16-27': 2018,\n",
       " 'BG-16-33': 2018,\n",
       " 'BG-16-34': 2018,\n",
       " 'BG-16-37': 2018,\n",
       " 'BG-16-38': 2018,\n",
       " 'BG-16-45': 2018,\n",
       " 'BG-16-46': 2018,\n",
       " 'BG-16-49': 2018,\n",
       " 'BG-16-5': 2018,\n",
       " 'BG-16-50': 2018,\n",
       " 'BG-16-55': 2018,\n",
       " 'BG-16-56': 2018,\n",
       " 'BG-16-59': 2018,\n",
       " 'BG-16-6': 2018,\n",
       " 'BG-16-60': 2018,\n",
       " 'BG-16-63': 2018,\n",
       " 'BG-16-64': 2018,\n",
       " 'BG-16-67': 2018,\n",
       " 'BG-16-73': 2018,\n",
       " 'BG-16-74': 2018,\n",
       " 'BG-16-77': 2018,\n",
       " 'BG-16-78': 2018,\n",
       " 'BG-16-85': 2018,\n",
       " 'BG-16-86': 2018,\n",
       " 'BG-16-9': 2018,\n",
       " 'BG-16-90': 2018,\n",
       " 'BG-16-92': 2018,\n",
       " 'BG-16-95': 2018,\n",
       " 'BG-17-10': 2018,\n",
       " 'BG-17-11': 2018,\n",
       " 'BG-17-19': 2018,\n",
       " 'BG-17-2': 2018,\n",
       " 'BG-17-20': 2018,\n",
       " 'BG-17-24': 2018,\n",
       " 'BG-17-27': 2018,\n",
       " 'BG-17-38': 2018,\n",
       " 'BG-17-42': 2018,\n",
       " 'BG-17-45': 2018,\n",
       " 'BG-17-46': 2018,\n",
       " 'BG-17-5': 2018,\n",
       " 'BG-17-51': 2018,\n",
       " 'BG-17-59': 2018,\n",
       " 'BG-17-64': 2018,\n",
       " 'BG-17-65': 2018,\n",
       " 'BG-17-66': 2018,\n",
       " 'BG-17-68': 2018,\n",
       " 'BG-17-7': 2018,\n",
       " 'BG-17-73': 2018,\n",
       " 'BG-17-74': 2018,\n",
       " 'BG-17-76': 2019,\n",
       " 'BG-17-77': 2018,\n",
       " 'BG-17-78': 2018,\n",
       " 'BG-17-85': 2018,\n",
       " 'BG-17-86': 2018,\n",
       " 'BG-17-89': 2018,\n",
       " 'BG-17-9': 2018,\n",
       " 'BG-17-91': 2018,\n",
       " 'BG-17-92': 2018,\n",
       " 'BG-17-99': 2018,\n",
       " 'BG-18-100': 2020,\n",
       " 'BG-18-15': 2018,\n",
       " 'BG-18-16': 2018,\n",
       " 'BG-18-17': 2018,\n",
       " 'BG-18-18': 2018,\n",
       " 'BG-18-2': 2018,\n",
       " 'BG-18-23': 2018,\n",
       " 'BG-18-24': 2018,\n",
       " 'BG-18-25': 2018,\n",
       " 'BG-18-26': 2018,\n",
       " 'BG-18-29': 2018,\n",
       " 'BG-18-3': 2018,\n",
       " 'BG-18-34': 2018,\n",
       " 'BG-18-38': 2018,\n",
       " 'BG-18-45': 2018,\n",
       " 'BG-18-47': 2018,\n",
       " 'BG-18-5': 2018,\n",
       " 'BG-18-56': 2018,\n",
       " 'BG-18-6': 2018,\n",
       " 'BG-18-66': 2018,\n",
       " 'BG-18-68': 2018,\n",
       " 'BG-18-7': 2018,\n",
       " 'BG-18-75': 2018,\n",
       " 'BG-18-79': 2018,\n",
       " 'BG-18-8': 2018,\n",
       " 'BG-18-81': 2018,\n",
       " 'BG-18-86': 2018,\n",
       " 'BG-18-93': 2020,\n",
       " 'BG-18-94': 2020,\n",
       " 'BG-18-95': 2018,\n",
       " 'BG-18-96': 2018,\n",
       " 'BG-18-98': 2020,\n",
       " 'BG-18-99': 2020,\n",
       " 'BG-16-13': 2019,\n",
       " 'BG-16-14': 2019,\n",
       " 'BG-16-17': 2019,\n",
       " 'BG-16-18': 2019,\n",
       " 'BG-16-22': 2019,\n",
       " 'BG-16-25': 2019,\n",
       " 'BG-16-26': 2019,\n",
       " 'BG-16-3': 2019,\n",
       " 'BG-16-30': 2019,\n",
       " 'BG-16-32': 2019,\n",
       " 'BG-16-35': 2019,\n",
       " 'BG-16-4': 2019,\n",
       " 'BG-16-40': 2019,\n",
       " 'BG-16-47': 2019,\n",
       " 'BG-16-48': 2019,\n",
       " 'BG-16-54': 2019,\n",
       " 'BG-16-57': 2019,\n",
       " 'BG-16-65': 2019,\n",
       " 'BG-16-66': 2019,\n",
       " 'BG-16-69': 2019,\n",
       " 'BG-16-7': 2019,\n",
       " 'BG-16-75': 2019,\n",
       " 'BG-16-76': 2019,\n",
       " 'BG-16-79': 2019,\n",
       " 'BG-16-80': 2019,\n",
       " 'BG-16-84': 2019,\n",
       " 'BG-16-88': 2019,\n",
       " 'BG-16-93': 2019,\n",
       " 'BG-16-94': 2019,\n",
       " 'BG-16-97': 2019,\n",
       " 'BG-16-98': 2019,\n",
       " 'BG-17-21': 2019,\n",
       " 'BG-17-29': 2019,\n",
       " 'BG-17-30': 2019,\n",
       " 'BG-17-31': 2019,\n",
       " 'BG-17-32': 2019,\n",
       " 'BG-17-39': 2019,\n",
       " 'BG-17-40': 2019,\n",
       " 'BG-17-47': 2019,\n",
       " 'BG-17-54': 2019,\n",
       " 'BG-17-57': 2019,\n",
       " 'BG-17-58': 2019,\n",
       " 'BG-17-69': 2019,\n",
       " 'BG-17-70': 2019,\n",
       " 'BG-17-71': 2019,\n",
       " 'BG-17-80': 2019,\n",
       " 'BG-17-81': 2019,\n",
       " 'BG-17-83': 2019,\n",
       " 'BG-17-84': 2019,\n",
       " 'BG-17-93': 2019,\n",
       " 'BG-17-97': 2019,\n",
       " 'BG-17-98': 2019,\n",
       " 'BG-18-54': 2019,\n",
       " 'BG-16-10-E': 2020,\n",
       " 'BG-16-10-I': 2020,\n",
       " 'BG-16-15-E': 2020,\n",
       " 'BG-16-15-I': 2020,\n",
       " 'BG-16-16-E': 2020,\n",
       " 'BG-16-16-I': 2020,\n",
       " 'BG-16-18-E': 2020,\n",
       " 'BG-16-18-I': 2020,\n",
       " 'BG-16-20-E': 2020,\n",
       " 'BG-16-20-I': 2020,\n",
       " 'BG-16-46-E': 2020,\n",
       " 'BG-16-46-I': 2020,\n",
       " 'BG-16-56-E': 2020,\n",
       " 'BG-16-56-I': 2020,\n",
       " 'BG-16-6-I': 2020,\n",
       " 'BG-16-65-E': 2020,\n",
       " 'BG-16-67-E': 2020,\n",
       " 'BG-16-67-I': 2020,\n",
       " 'BG-16-74-E': 2020,\n",
       " 'BG-16-74-I': 2020,\n",
       " 'BG-16-75-E': 2020,\n",
       " 'BG-16-75-I': 2020,\n",
       " 'BG-16-76-E': 2020,\n",
       " 'BG-16-76-I': 2020,\n",
       " 'BG-16-77-E': 2020,\n",
       " 'BG-16-77-I': 2020,\n",
       " 'BG-17-14-E': 2020,\n",
       " 'BG-17-18-I': 2020,\n",
       " 'BG-17-2-E': 2020,\n",
       " 'BG-17-2-I': 2020,\n",
       " 'BG-17-32-E': 2020,\n",
       " 'BG-17-32-I': 2020,\n",
       " 'BG-17-55-E': 2020,\n",
       " 'BG-17-6-E': 2020,\n",
       " 'BG-17-7-I': 2020,\n",
       " 'BG-17-71-E': 2020,\n",
       " 'BG-17-71-I': 2020,\n",
       " 'BG-17-73-E': 2020,\n",
       " 'BTNW-1267-NE': 2023,\n",
       " 'BTNW-1295-SW': 2023,\n",
       " 'BTNW-489-SW': 2023,\n",
       " 'BTNW-842-1': 2023,\n",
       " 'BUM-1-14': 2017,\n",
       " 'BUM-11-16': 2017,\n",
       " 'BUM-11-17': 2017,\n",
       " 'BUM-11-2': 2017,\n",
       " 'BUM-11-20': 2017,\n",
       " 'BUM-11-24': 2017,\n",
       " 'BUM-11-3': 2017,\n",
       " 'BUM-12-11': 2017,\n",
       " 'BUM-12-15': 2017,\n",
       " 'BUM-12-18': 2017,\n",
       " 'BUM-12-19': 2017,\n",
       " 'BUM-12-20': 2017,\n",
       " 'BUM-12-22': 2017,\n",
       " 'BUM-13-12': 2017,\n",
       " 'BUM-13-17': 2017,\n",
       " 'BUM-13-23': 2017,\n",
       " 'BUM-13-25': 2017,\n",
       " 'BUM-13-28': 2017,\n",
       " 'BUM-13-29': 2017,\n",
       " 'BUM-14-8': 2017,\n",
       " 'BUM-14-9': 2017,\n",
       " 'BUM-16-12': 2017,\n",
       " 'BUM-17-41': 2017,\n",
       " 'BUM-19-10': 2017,\n",
       " 'BUM-19-11': 2017,\n",
       " 'BUM-19-17': 2017,\n",
       " 'BUM-19-19': 2017,\n",
       " 'BUM-19-21': 2017,\n",
       " 'BUM-19-29': 2017,\n",
       " 'BUM-19-30': 2017,\n",
       " 'BUM-22-28': 2017,\n",
       " 'BUM-22-30': 2017,\n",
       " 'BUM-22-31': 2017,\n",
       " 'BUM-22-33': 2017,\n",
       " 'BUM-22-43': 2017,\n",
       " 'BUM-24-12': 2017,\n",
       " 'BUM-24-13': 2017,\n",
       " 'BUM-24-14': 2017,\n",
       " 'BUM-24-16': 2017,\n",
       " 'BUM-24-17': 2017,\n",
       " 'BUM-28-20': 2017,\n",
       " 'BUM-28-44': 2017,\n",
       " 'BUM-28-45': 2017,\n",
       " 'BUM-28-46': 2017,\n",
       " 'BUM-28-48': 2017,\n",
       " 'BUM-28-49': 2017,\n",
       " 'BUM-28-50': 2017,\n",
       " 'BUM-28-51': 2017,\n",
       " 'BUM-3-5': 2017,\n",
       " 'BUM-3-6': 2017,\n",
       " 'BUM-30-1': 2017,\n",
       " 'BUM-30-12': 2017,\n",
       " 'BUM-30-14': 2017,\n",
       " 'BUM-30-2': 2017,\n",
       " 'BUM-30-21': 2017,\n",
       " 'BUM-30-22': 2017,\n",
       " 'BUM-30-23': 2017,\n",
       " 'BUM-30-24': 2017,\n",
       " 'BUM-30-39': 2017,\n",
       " 'BUM-30-6': 2017,\n",
       " 'BUM-31-15': 2017,\n",
       " 'BUM-31-19': 2017,\n",
       " 'BUM-31-40': 2017,\n",
       " 'BUM-31-41': 2017,\n",
       " 'BUM-31-42': 2017,\n",
       " 'BUM-31-43': 2017,\n",
       " 'BUM-31-44': 2017,\n",
       " 'BUM-31-45': 2017,\n",
       " 'BUM-31-46': 2017,\n",
       " 'BUM-32-12': 2017,\n",
       " 'BUM-32-15': 2017,\n",
       " 'BUM-32-16': 2017,\n",
       " 'BUM-32-24': 2017,\n",
       " 'BUM-32-25': 2017,\n",
       " 'BUM-32-26': 2017,\n",
       " 'BUM-32-28': 2017,\n",
       " 'BUM-32-30': 2017,\n",
       " 'BUM-32-31': 2017,\n",
       " 'BUM-32-32': 2017,\n",
       " 'BUM-32-33': 2017,\n",
       " 'BUM-32-4': 2017,\n",
       " 'BUM-32-5': 2017,\n",
       " 'BUM-32-6': 2017,\n",
       " 'BUM-32-8': 2017,\n",
       " 'BUM-6-22': 2017,\n",
       " 'BUM-6-23': 2017,\n",
       " 'BUM-6-35': 2017,\n",
       " 'BUM-6-5': 2017,\n",
       " 'CL-C13-1': 2014,\n",
       " 'CL-C403-11': 2014,\n",
       " 'CL-C403-12': 2014,\n",
       " 'CL-C403-13': 2014,\n",
       " 'CL-C403-21': 2014,\n",
       " 'CL-C403-22': 2014,\n",
       " 'CL-C403-23': 2014,\n",
       " 'CL-C403-24': 2014,\n",
       " 'CL-F1003-11': 2014,\n",
       " 'CL-C12-1': 2014,\n",
       " 'DUP-1-1': 2016,\n",
       " 'DUP-1-2': 2016,\n",
       " 'DUP-1-4': 2016,\n",
       " 'F-E0-19-101': 2021,\n",
       " 'F-P10-19-110': 2021,\n",
       " 'F-P15-19-114': 2021,\n",
       " 'F-P5-19-104': 2021,\n",
       " 'F-P5-26-3': 2021,\n",
       " 'H-E0-12-18': 2021,\n",
       " 'H-P10-12-20': 2021,\n",
       " 'H-P15-12-21': 2021,\n",
       " 'H-P5-12-19': 2021,\n",
       " 'H-E0-19-102': 2021,\n",
       " 'H-P10-19-107': 2021,\n",
       " 'H-P15-19-113': 2021,\n",
       " 'H-P5-19-105': 2021,\n",
       " 'H-P10-21-46': 2021,\n",
       " 'H-P15-21-45': 2021,\n",
       " 'H-P5-21-47': 2021,\n",
       " 'H-P10-21-23': 2021,\n",
       " 'H-P15-21-22': 2021,\n",
       " 'H-P5-21-24': 2021,\n",
       " 'H-E0-22-41': 2021,\n",
       " 'H-P10-22-39': 2021,\n",
       " 'H-P15-22-37': 2021,\n",
       " 'H-P5-22-40': 2021,\n",
       " 'H-P10-26-11': 2021,\n",
       " 'H-P15-26-12': 2021,\n",
       " 'H-P5-26-10': 2021,\n",
       " 'H-P10-27-34': 2021,\n",
       " 'H-P15-27-36': 2021,\n",
       " 'H-P5-27-35': 2021,\n",
       " 'H-P10-29-10': 2021,\n",
       " 'H-P15-29-14': 2021,\n",
       " 'H-P5-29-9': 2021,\n",
       " 'H-N10-29-39': 2021,\n",
       " 'H-N5-29-40': 2021,\n",
       " 'H-P15-29-45': 2021,\n",
       " 'H-P10-30-22': 2021,\n",
       " 'H-P5-30-21': 2021,\n",
       " 'H-E0-30-46': 2021,\n",
       " 'H-P10-30-48': 2021,\n",
       " 'H-P15-30-49': 2021,\n",
       " 'H-P5-30-47': 2021,\n",
       " 'H-E0-31-27': 2021,\n",
       " 'H-P10-31-24': 2021,\n",
       " 'H-P10-31-48': 2021,\n",
       " 'H-P15-31-47': 2021,\n",
       " 'H-P5-31-49': 2021,\n",
       " 'H-P10-31-33': 2021,\n",
       " 'H-P15-31-32': 2021,\n",
       " 'H-E0-32-14': 2021,\n",
       " 'H-P10-32-16': 2021,\n",
       " 'H-P15-32-17': 2021,\n",
       " 'H-P5-32-15': 2021,\n",
       " 'H-P10-32-47': 2021,\n",
       " 'H-P15-32-49': 2021,\n",
       " 'H-P5-32-46': 2021,\n",
       " 'H-E0-33-23': 2021,\n",
       " 'H-P10-33-20': 2021,\n",
       " 'H-P15-33-18': 2021,\n",
       " 'H-P5-33-22': 2021,\n",
       " 'H-P10-5-52': 2021,\n",
       " 'H-P15-5-53': 2021,\n",
       " 'H-P10-6-59': 2021,\n",
       " 'H-P15-6-60': 2021,\n",
       " 'H-P5-6-58': 2021,\n",
       " 'H-P10-6-25': 2021,\n",
       " 'H-P15-6-26': 2021,\n",
       " 'H-P5-6-24': 2021,\n",
       " 'H-P10-7-7': 2021,\n",
       " 'H-P15-7-8': 2021,\n",
       " 'H-P5-7-6': 2021,\n",
       " 'H-E0-7-29': 2021,\n",
       " 'H-P10-7-31': 2021,\n",
       " 'H-P15-7-32': 2021,\n",
       " 'H-P5-7-30': 2021,\n",
       " 'H-E0-7-57': 2021,\n",
       " 'H-P10-7-59': 2021,\n",
       " 'H-P15-7-60': 2021,\n",
       " 'H-P5-7-58': 2021,\n",
       " 'H-P10-22118': 2022,\n",
       " 'H-P15-22118': 2022,\n",
       " 'H-P5-22118': 2022,\n",
       " 'H-P10-22146N': 2022,\n",
       " 'H-P15-22146': 2022,\n",
       " 'H-P5-22146N': 2022,\n",
       " 'H-P10-22147': 2022,\n",
       " 'H-P15-22147': 2022,\n",
       " 'H-P5-22147': 2022,\n",
       " 'H-P10-22155': 2022,\n",
       " 'H-P5-22155': 2022,\n",
       " 'H-P10-22157': 2022,\n",
       " 'H-P5-22157': 2022,\n",
       " 'H-E0-M1': 2023,\n",
       " 'H-E0-M12': 2023,\n",
       " 'H-E0-M123': 2023,\n",
       " 'H-E0-M127': 2023,\n",
       " 'H-E0-M128': 2023,\n",
       " 'H-E0-M173': 2023,\n",
       " 'H-E0-M174': 2023,\n",
       " 'H-E0-M19': 2023,\n",
       " 'H-E0-M20': 2023,\n",
       " 'H-E0-M553': 2023,\n",
       " 'H-E0-M564': 2023,\n",
       " 'H-E0-M7': 2023,\n",
       " 'CVME-SB-10L13-2-68-E': 2020,\n",
       " 'CVME-SB-10L13-2-68-I': 2020,\n",
       " 'CVME-SB-10LQ2-5-69-E': 2020,\n",
       " 'CVME-SB-10LQ2-5-69-I': 2020,\n",
       " 'CVME-SB-10X4-5-65-E': 2020,\n",
       " 'CVME-WXA-10L1-7-2-E': 2020,\n",
       " 'CVME-WXB-10F8-2-26-E': 2020,\n",
       " 'CVME-WXB-10F8-2-26-I': 2020,\n",
       " 'CVME-WXB-10L3-6-27-I': 2020,\n",
       " 'CVME-WXB-10L3-6-28-E': 2020,\n",
       " 'CVME-WXB-10L3-6-28-I': 2020,\n",
       " 'GP-PB10-1-E': 2020,\n",
       " 'GP-PB11-1-E': 2020,\n",
       " 'GP-PB11-1-I': 2020,\n",
       " 'GP-PB12-2-E': 2020,\n",
       " 'GP-PB13-1-E': 2020,\n",
       " 'GP-PB13-1-I': 2020,\n",
       " 'GP-PB14-1-E': 2020,\n",
       " 'GP-PB14-1-I': 2020,\n",
       " 'GP-PB16-2-E': 2020,\n",
       " 'GP-PB19-1-E': 2020,\n",
       " 'GP-PB19-1-I': 2020,\n",
       " 'GP-PB19-2-E': 2020,\n",
       " 'GP-PB19-2-I': 2020,\n",
       " 'GP-PB24-2-E': 2020,\n",
       " 'GP-PB25-1-E': 2020,\n",
       " 'GP-PB25-1-I': 2020,\n",
       " 'GP-PB31-1-E': 2020,\n",
       " 'GP-PB6-1-E': 2020,\n",
       " 'MC-10-10-E': 2020,\n",
       " 'MC-10-10-I': 2020,\n",
       " 'MC-103-103-E': 2020,\n",
       " 'MC-103-103-I': 2020,\n",
       " 'MC-27-27-I': 2020,\n",
       " 'MC-56-56-E': 2020,\n",
       " 'MC-6-6-E': 2020,\n",
       " 'MC-6-6-I': 2020,\n",
       " 'MC-86-86-E': 2020,\n",
       " 'MC-86-86-I': 2020,\n",
       " 'WF-GRB-1L-I': 2020,\n",
       " 'WH-10B-6-E': 2020,\n",
       " 'WH-10B-6-I': 2020,\n",
       " 'WH-13B-1-E': 2020,\n",
       " 'WH-13B-1-I': 2020,\n",
       " 'WH-13B-10-I': 2020,\n",
       " 'WH-1A-10-E': 2020,\n",
       " 'WH-1A-10-I': 2020,\n",
       " 'WH-1A-7-E': 2020,\n",
       " 'WH-20A-1-E': 2020,\n",
       " 'WH-20A-6-E': 2020,\n",
       " 'WH-20A-6-I': 2020,\n",
       " 'WH-20A-8-E': 2020,\n",
       " 'WH-20A-8-I': 2020,\n",
       " 'WH-20B-2-E': 2020,\n",
       " 'WH-20B-3-E': 2020,\n",
       " 'WH-20B-3-I': 2020,\n",
       " 'WH-20B-4-E': 2020,\n",
       " 'WH-23A-3-I': 2020,\n",
       " 'WH-23A-5-E': 2020,\n",
       " 'WH-23A-7-E': 2020,\n",
       " 'WH-23A-7-I': 2020,\n",
       " 'WH-23A-8-I': 2020,\n",
       " 'WH-3A-1-E': 2020,\n",
       " 'WH-3A-1-I': 2020,\n",
       " 'WH-3A-8-E': 2020,\n",
       " 'WH-3A-9-E': 2020,\n",
       " 'WH-5A-1-E': 2020,\n",
       " 'WH-5A-1-I': 2020,\n",
       " 'WH-5B-11-E': 2020,\n",
       " 'WH-5B-4-E': 2020,\n",
       " 'WH-5B-4-I': 2020,\n",
       " 'WH-5B-6-E': 2020,\n",
       " 'WH-5B-6-I': 2020,\n",
       " 'WH-5B-9-E': 2020,\n",
       " 'WH-6A-4-E': 2020,\n",
       " 'WH-6A-4-I': 2020,\n",
       " 'WH-6A-6-E': 2020,\n",
       " 'WH-6A-6-I': 2020,\n",
       " 'WH-9B-11-E': 2020,\n",
       " 'P-E0-16-60': 2021,\n",
       " 'P-P10-16-58': 2021,\n",
       " 'P-P15-16-57': 2021,\n",
       " 'P-P5-16-59': 2021,\n",
       " 'P-E0-21-1': 2021,\n",
       " 'P-P10-21-3': 2021,\n",
       " 'P-P15-21-4': 2021,\n",
       " 'P-P5-21-2': 2021,\n",
       " 'P-E0-23-9': 2021,\n",
       " 'P-P10-23-7': 2021,\n",
       " 'P-P5-23-8': 2021,\n",
       " 'P-P15-23-25': 2021,\n",
       " 'P-E0-23-62': 2021,\n",
       " 'P-P10-23-64': 2021,\n",
       " 'P-P15-23-65': 2021,\n",
       " 'P-P5-23-63': 2021,\n",
       " 'P-P10-CL-J23': 2021,\n",
       " 'P-E0-29-5': 2021,\n",
       " ...}"
      ]
     },
     "execution_count": 130,
     "metadata": {},
     "output_type": "execute_result"
    }
   ],
   "source": [
    "location_survey_year = dict(zip(BU_public_spring_dawn_points['location'], BU_public_spring_dawn_points['SurveyYear']))\n",
    "location_survey_year"
   ]
  },
  {
   "cell_type": "code",
   "execution_count": 161,
   "metadata": {},
   "outputs": [
    {
     "data": {
      "text/html": [
       "<div>\n",
       "<style scoped>\n",
       "    .dataframe tbody tr th:only-of-type {\n",
       "        vertical-align: middle;\n",
       "    }\n",
       "\n",
       "    .dataframe tbody tr th {\n",
       "        vertical-align: top;\n",
       "    }\n",
       "\n",
       "    .dataframe thead th {\n",
       "        text-align: right;\n",
       "    }\n",
       "</style>\n",
       "<table border=\"1\" class=\"dataframe\">\n",
       "  <thead>\n",
       "    <tr style=\"text-align: right;\">\n",
       "      <th></th>\n",
       "      <th>location</th>\n",
       "      <th>latitude</th>\n",
       "      <th>longitude</th>\n",
       "      <th>NSRNAME</th>\n",
       "      <th>NSRCODE</th>\n",
       "      <th>NRNAME</th>\n",
       "      <th>nearest_harv_index</th>\n",
       "      <th>distance_nearest_harv</th>\n",
       "      <th>distance_1</th>\n",
       "      <th>YEAR_nearest_harv</th>\n",
       "      <th>geometry</th>\n",
       "      <th>buffer</th>\n",
       "      <th>harvest_poly_details</th>\n",
       "      <th>Harvest_dict</th>\n",
       "    </tr>\n",
       "  </thead>\n",
       "  <tbody>\n",
       "    <tr>\n",
       "      <th>0</th>\n",
       "      <td>BAM-96</td>\n",
       "      <td>57.127584</td>\n",
       "      <td>-117.766145</td>\n",
       "      <td>Dry Mixedwood</td>\n",
       "      <td>DMW</td>\n",
       "      <td>Boreal</td>\n",
       "      <td>125267.0</td>\n",
       "      <td>232.704974</td>\n",
       "      <td>232.704974</td>\n",
       "      <td>2010.0</td>\n",
       "      <td>POINT (332631.731 6332448.753)</td>\n",
       "      <td>POLYGON ((337296.708 6332653.366, 337296.769 6...</td>\n",
       "      <td>[{'poly_id': 125267, 'distance': 232.704974460...</td>\n",
       "      <td>{'poly_id': 125267, 'distance': 232.7049744604...</td>\n",
       "    </tr>\n",
       "  </tbody>\n",
       "</table>\n",
       "</div>"
      ],
      "text/plain": [
       "  location   latitude   longitude        NSRNAME NSRCODE  NRNAME  \\\n",
       "0   BAM-96  57.127584 -117.766145  Dry Mixedwood     DMW  Boreal   \n",
       "\n",
       "   nearest_harv_index  distance_nearest_harv  distance_1  YEAR_nearest_harv  \\\n",
       "0            125267.0             232.704974  232.704974             2010.0   \n",
       "\n",
       "                         geometry  \\\n",
       "0  POINT (332631.731 6332448.753)   \n",
       "\n",
       "                                              buffer  \\\n",
       "0  POLYGON ((337296.708 6332653.366, 337296.769 6...   \n",
       "\n",
       "                                harvest_poly_details  \\\n",
       "0  [{'poly_id': 125267, 'distance': 232.704974460...   \n",
       "\n",
       "                                        Harvest_dict  \n",
       "0  {'poly_id': 125267, 'distance': 232.7049744604...  "
      ]
     },
     "execution_count": 161,
     "metadata": {},
     "output_type": "execute_result"
    }
   ],
   "source": [
    "import ast\n",
    "BU_points['Harvest_dict'] = BU_points['harvest_poly_details'].apply(lambda x: ast.literal_eval(x)[0] if x else None)\n",
    "BU_points.head(1)"
   ]
  },
  {
   "cell_type": "code",
   "execution_count": 232,
   "metadata": {},
   "outputs": [],
   "source": [
    "BU_points_harv_year = BU_points.merge(right = BU_public_spring_dawn_points[['location', 'SurveyYear']], how = \"left\", on= 'location')"
   ]
  },
  {
   "cell_type": "code",
   "execution_count": 170,
   "metadata": {},
   "outputs": [
    {
     "data": {
      "text/plain": [
       "Index(['location', 'latitude', 'longitude', 'NSRNAME', 'NSRCODE', 'NRNAME',\n",
       "       'nearest_harv_index', 'distance_nearest_harv', 'distance_1',\n",
       "       'YEAR_nearest_harv', 'geometry', 'buffer', 'harvest_poly_details',\n",
       "       'Harvest_dict'],\n",
       "      dtype='object')"
      ]
     },
     "execution_count": 170,
     "metadata": {},
     "output_type": "execute_result"
    }
   ],
   "source": [
    "BU_points.columns"
   ]
  },
  {
   "cell_type": "code",
   "execution_count": 236,
   "metadata": {},
   "outputs": [],
   "source": [
    "BU_points_harv_year_no_dups = BU_points_harv_year[['location', 'latitude', 'longitude', 'NSRNAME', 'NSRCODE', 'NRNAME',\n",
    "       'nearest_harv_index', 'distance_nearest_harv', 'distance_1',\n",
    "       'YEAR_nearest_harv', 'geometry', 'buffer', 'harvest_poly_details', 'SurveyYear']].drop_duplicates()"
   ]
  },
  {
   "cell_type": "code",
   "execution_count": 204,
   "metadata": {},
   "outputs": [],
   "source": [
    "# BU_points_harv_year_no_dups = BU_points_harv_year_no_dups.merge(right = BU_public_spring_dawn_points[['location', 'SurveyYear']], how = \"left\", on= 'location')"
   ]
  },
  {
   "cell_type": "code",
   "execution_count": 239,
   "metadata": {},
   "outputs": [],
   "source": [
    "BU_points_harv_year_no_dups['Harvest_dict'] = BU_points_harv_year_no_dups['harvest_poly_details'].apply(lambda x: ast.literal_eval(x) if x else None)"
   ]
  },
  {
   "cell_type": "code",
   "execution_count": 237,
   "metadata": {},
   "outputs": [
    {
     "data": {
      "text/html": [
       "<div>\n",
       "<style scoped>\n",
       "    .dataframe tbody tr th:only-of-type {\n",
       "        vertical-align: middle;\n",
       "    }\n",
       "\n",
       "    .dataframe tbody tr th {\n",
       "        vertical-align: top;\n",
       "    }\n",
       "\n",
       "    .dataframe thead th {\n",
       "        text-align: right;\n",
       "    }\n",
       "</style>\n",
       "<table border=\"1\" class=\"dataframe\">\n",
       "  <thead>\n",
       "    <tr style=\"text-align: right;\">\n",
       "      <th></th>\n",
       "      <th>location</th>\n",
       "      <th>latitude</th>\n",
       "      <th>longitude</th>\n",
       "      <th>NSRNAME</th>\n",
       "      <th>NSRCODE</th>\n",
       "      <th>NRNAME</th>\n",
       "      <th>nearest_harv_index</th>\n",
       "      <th>distance_nearest_harv</th>\n",
       "      <th>distance_1</th>\n",
       "      <th>YEAR_nearest_harv</th>\n",
       "      <th>geometry</th>\n",
       "      <th>buffer</th>\n",
       "      <th>harvest_poly_details</th>\n",
       "      <th>SurveyYear</th>\n",
       "    </tr>\n",
       "  </thead>\n",
       "  <tbody>\n",
       "    <tr>\n",
       "      <th>0</th>\n",
       "      <td>BAM-96</td>\n",
       "      <td>57.127584</td>\n",
       "      <td>-117.766145</td>\n",
       "      <td>Dry Mixedwood</td>\n",
       "      <td>DMW</td>\n",
       "      <td>Boreal</td>\n",
       "      <td>125267.0</td>\n",
       "      <td>232.704974</td>\n",
       "      <td>232.704974</td>\n",
       "      <td>2010.0</td>\n",
       "      <td>POINT (332631.731 6332448.753)</td>\n",
       "      <td>POLYGON ((337296.708 6332653.366, 337296.769 6...</td>\n",
       "      <td>[{'poly_id': 125267, 'distance': 232.704974460...</td>\n",
       "      <td>2020</td>\n",
       "    </tr>\n",
       "    <tr>\n",
       "      <th>10</th>\n",
       "      <td>BAM-97</td>\n",
       "      <td>57.129393</td>\n",
       "      <td>-117.782274</td>\n",
       "      <td>Dry Mixedwood</td>\n",
       "      <td>DMW</td>\n",
       "      <td>Boreal</td>\n",
       "      <td>125137.0</td>\n",
       "      <td>214.962532</td>\n",
       "      <td>214.962532</td>\n",
       "      <td>2001.0</td>\n",
       "      <td>POINT (331664.357 6332689.653)</td>\n",
       "      <td>POLYGON ((336329.334 6332894.266, 336329.395 6...</td>\n",
       "      <td>[{'poly_id': 125137, 'distance': 214.962531838...</td>\n",
       "      <td>2020</td>\n",
       "    </tr>\n",
       "  </tbody>\n",
       "</table>\n",
       "</div>"
      ],
      "text/plain": [
       "   location   latitude   longitude        NSRNAME NSRCODE  NRNAME  \\\n",
       "0    BAM-96  57.127584 -117.766145  Dry Mixedwood     DMW  Boreal   \n",
       "10   BAM-97  57.129393 -117.782274  Dry Mixedwood     DMW  Boreal   \n",
       "\n",
       "    nearest_harv_index  distance_nearest_harv  distance_1  YEAR_nearest_harv  \\\n",
       "0             125267.0             232.704974  232.704974             2010.0   \n",
       "10            125137.0             214.962532  214.962532             2001.0   \n",
       "\n",
       "                          geometry  \\\n",
       "0   POINT (332631.731 6332448.753)   \n",
       "10  POINT (331664.357 6332689.653)   \n",
       "\n",
       "                                               buffer  \\\n",
       "0   POLYGON ((337296.708 6332653.366, 337296.769 6...   \n",
       "10  POLYGON ((336329.334 6332894.266, 336329.395 6...   \n",
       "\n",
       "                                 harvest_poly_details  SurveyYear  \n",
       "0   [{'poly_id': 125267, 'distance': 232.704974460...        2020  \n",
       "10  [{'poly_id': 125137, 'distance': 214.962531838...        2020  "
      ]
     },
     "execution_count": 237,
     "metadata": {},
     "output_type": "execute_result"
    }
   ],
   "source": [
    "BU_points_harv_year_no_dups.head(2)"
   ]
  },
  {
   "cell_type": "code",
   "execution_count": 238,
   "metadata": {},
   "outputs": [
    {
     "name": "stdout",
     "output_type": "stream",
     "text": [
      "(2023, 14)\n"
     ]
    }
   ],
   "source": [
    "# print(BU_points_harv_year.shape)\n",
    "print(BU_points_harv_year_no_dups.shape)"
   ]
  },
  {
   "cell_type": "code",
   "execution_count": 178,
   "metadata": {},
   "outputs": [],
   "source": [
    "BU_points_harv_year = None"
   ]
  },
  {
   "cell_type": "code",
   "execution_count": 193,
   "metadata": {},
   "outputs": [
    {
     "data": {
      "text/plain": [
       "{'poly_id': 125267, 'distance': 232.70497446046176, 'year': 2010}"
      ]
     },
     "execution_count": 193,
     "metadata": {},
     "output_type": "execute_result"
    }
   ],
   "source": [
    "BU_points_harv_year_no_dups[\"Harvest_dict\"][0]"
   ]
  },
  {
   "cell_type": "code",
   "execution_count": 240,
   "metadata": {},
   "outputs": [],
   "source": [
    "def filter_harvest_dicts(row):\n",
    "    # Extract the list of dictionaries from the Harvest_dict column\n",
    "    harvest_dicts_list = row['Harvest_dict']\n",
    "    \n",
    "    # # Filter the list to keep only those dictionaries where 'year' < SurveyYear\n",
    "    # print(type(harvest_dicts['year']))\n",
    "    # print(type(row[\"SurveyYear\"]))\n",
    "    # for d in harvest_dicts_list:\n",
    "    #     print(d)\n",
    "        # if d['year'] < 2020:\n",
    "        #     print(\"yippee\")\n",
    "    filtered_harvests = [d for d in harvest_dicts_list if d['year'] < row['SurveyYear']]\n",
    "    \n",
    "    return filtered_harvests\n",
    "\n",
    "# Apply the function to each row and assign the result to a new column\n",
    "BU_points_harv_year_no_dups['Filtered_Harvest_dict'] = BU_points_harv_year_no_dups.apply(filter_harvest_dicts, axis=1)\n"
   ]
  },
  {
   "cell_type": "code",
   "execution_count": 227,
   "metadata": {},
   "outputs": [
    {
     "data": {
      "text/plain": [
       "2"
      ]
     },
     "execution_count": 227,
     "metadata": {},
     "output_type": "execute_result"
    }
   ],
   "source": [
    "this_list = [{1:2}, {2:2}]\n",
    "len(this_list)"
   ]
  },
  {
   "cell_type": "code",
   "execution_count": 241,
   "metadata": {},
   "outputs": [
    {
     "data": {
      "text/plain": [
       "(2023, 16)"
      ]
     },
     "execution_count": 241,
     "metadata": {},
     "output_type": "execute_result"
    }
   ],
   "source": [
    "BU_points_harv_year_no_dups.shape"
   ]
  },
  {
   "cell_type": "code",
   "execution_count": 243,
   "metadata": {},
   "outputs": [
    {
     "data": {
      "text/html": [
       "<div>\n",
       "<style scoped>\n",
       "    .dataframe tbody tr th:only-of-type {\n",
       "        vertical-align: middle;\n",
       "    }\n",
       "\n",
       "    .dataframe tbody tr th {\n",
       "        vertical-align: top;\n",
       "    }\n",
       "\n",
       "    .dataframe thead th {\n",
       "        text-align: right;\n",
       "    }\n",
       "</style>\n",
       "<table border=\"1\" class=\"dataframe\">\n",
       "  <thead>\n",
       "    <tr style=\"text-align: right;\">\n",
       "      <th></th>\n",
       "      <th>location</th>\n",
       "      <th>latitude</th>\n",
       "      <th>longitude</th>\n",
       "      <th>NSRNAME</th>\n",
       "      <th>NSRCODE</th>\n",
       "      <th>NRNAME</th>\n",
       "      <th>nearest_harv_index</th>\n",
       "      <th>distance_nearest_harv</th>\n",
       "      <th>distance_1</th>\n",
       "      <th>YEAR_nearest_harv</th>\n",
       "      <th>geometry</th>\n",
       "      <th>buffer</th>\n",
       "      <th>harvest_poly_details</th>\n",
       "      <th>SurveyYear</th>\n",
       "      <th>Harvest_dict</th>\n",
       "      <th>Filtered_Harvest_dict</th>\n",
       "      <th>Number_all_harv</th>\n",
       "      <th>Number_older_harv</th>\n",
       "    </tr>\n",
       "  </thead>\n",
       "  <tbody>\n",
       "    <tr>\n",
       "      <th>0</th>\n",
       "      <td>BAM-96</td>\n",
       "      <td>57.127584</td>\n",
       "      <td>-117.766145</td>\n",
       "      <td>Dry Mixedwood</td>\n",
       "      <td>DMW</td>\n",
       "      <td>Boreal</td>\n",
       "      <td>125267.0</td>\n",
       "      <td>232.704974</td>\n",
       "      <td>232.704974</td>\n",
       "      <td>2010.0</td>\n",
       "      <td>POINT (332631.731 6332448.753)</td>\n",
       "      <td>POLYGON ((337296.708 6332653.366, 337296.769 6...</td>\n",
       "      <td>[{'poly_id': 125267, 'distance': 232.704974460...</td>\n",
       "      <td>2020</td>\n",
       "      <td>[{'poly_id': 125267, 'distance': 232.704974460...</td>\n",
       "      <td>[{'poly_id': 125267, 'distance': 232.704974460...</td>\n",
       "      <td>2</td>\n",
       "      <td>2</td>\n",
       "    </tr>\n",
       "    <tr>\n",
       "      <th>10</th>\n",
       "      <td>BAM-97</td>\n",
       "      <td>57.129393</td>\n",
       "      <td>-117.782274</td>\n",
       "      <td>Dry Mixedwood</td>\n",
       "      <td>DMW</td>\n",
       "      <td>Boreal</td>\n",
       "      <td>125137.0</td>\n",
       "      <td>214.962532</td>\n",
       "      <td>214.962532</td>\n",
       "      <td>2001.0</td>\n",
       "      <td>POINT (331664.357 6332689.653)</td>\n",
       "      <td>POLYGON ((336329.334 6332894.266, 336329.395 6...</td>\n",
       "      <td>[{'poly_id': 125137, 'distance': 214.962531838...</td>\n",
       "      <td>2020</td>\n",
       "      <td>[{'poly_id': 125137, 'distance': 214.962531838...</td>\n",
       "      <td>[{'poly_id': 125137, 'distance': 214.962531838...</td>\n",
       "      <td>1</td>\n",
       "      <td>1</td>\n",
       "    </tr>\n",
       "  </tbody>\n",
       "</table>\n",
       "</div>"
      ],
      "text/plain": [
       "   location   latitude   longitude        NSRNAME NSRCODE  NRNAME  \\\n",
       "0    BAM-96  57.127584 -117.766145  Dry Mixedwood     DMW  Boreal   \n",
       "10   BAM-97  57.129393 -117.782274  Dry Mixedwood     DMW  Boreal   \n",
       "\n",
       "    nearest_harv_index  distance_nearest_harv  distance_1  YEAR_nearest_harv  \\\n",
       "0             125267.0             232.704974  232.704974             2010.0   \n",
       "10            125137.0             214.962532  214.962532             2001.0   \n",
       "\n",
       "                          geometry  \\\n",
       "0   POINT (332631.731 6332448.753)   \n",
       "10  POINT (331664.357 6332689.653)   \n",
       "\n",
       "                                               buffer  \\\n",
       "0   POLYGON ((337296.708 6332653.366, 337296.769 6...   \n",
       "10  POLYGON ((336329.334 6332894.266, 336329.395 6...   \n",
       "\n",
       "                                 harvest_poly_details  SurveyYear  \\\n",
       "0   [{'poly_id': 125267, 'distance': 232.704974460...        2020   \n",
       "10  [{'poly_id': 125137, 'distance': 214.962531838...        2020   \n",
       "\n",
       "                                         Harvest_dict  \\\n",
       "0   [{'poly_id': 125267, 'distance': 232.704974460...   \n",
       "10  [{'poly_id': 125137, 'distance': 214.962531838...   \n",
       "\n",
       "                                Filtered_Harvest_dict  Number_all_harv  \\\n",
       "0   [{'poly_id': 125267, 'distance': 232.704974460...                2   \n",
       "10  [{'poly_id': 125137, 'distance': 214.962531838...                1   \n",
       "\n",
       "    Number_older_harv  \n",
       "0                   2  \n",
       "10                  1  "
      ]
     },
     "execution_count": 243,
     "metadata": {},
     "output_type": "execute_result"
    }
   ],
   "source": [
    "BU_points_harv_year_no_dups['Number_all_harv'] = BU_points_harv_year_no_dups['Harvest_dict'].apply(lambda row: len(row))\n",
    "BU_points_harv_year_no_dups['Number_older_harv'] = BU_points_harv_year_no_dups['Filtered_Harvest_dict'].apply(lambda row: len(row))\n",
    "BU_points_harv_year_no_dups.head(2)"
   ]
  },
  {
   "cell_type": "code",
   "execution_count": 244,
   "metadata": {},
   "outputs": [
    {
     "data": {
      "text/plain": [
       "1     527\n",
       "2     447\n",
       "3     318\n",
       "4     220\n",
       "5     148\n",
       "6     108\n",
       "0      65\n",
       "7      58\n",
       "8      46\n",
       "9      27\n",
       "10     23\n",
       "11     20\n",
       "13      5\n",
       "12      4\n",
       "15      3\n",
       "14      2\n",
       "17      1\n",
       "16      1\n",
       "Name: Number_older_harv, dtype: int64"
      ]
     },
     "execution_count": 244,
     "metadata": {},
     "output_type": "execute_result"
    }
   ],
   "source": [
    "BU_points_harv_year_no_dups['Number_older_harv'].value_counts()"
   ]
  },
  {
   "cell_type": "markdown",
   "metadata": {},
   "source": [
    "There are 527 sites with only 1 harvest within 500m!"
   ]
  },
  {
   "cell_type": "code",
   "execution_count": 245,
   "metadata": {},
   "outputs": [
    {
     "data": {
      "text/plain": [
       "Index(['location', 'latitude', 'longitude', 'NSRNAME', 'NSRCODE', 'NRNAME',\n",
       "       'nearest_harv_index', 'distance_nearest_harv', 'distance_1',\n",
       "       'YEAR_nearest_harv', 'geometry', 'buffer', 'harvest_poly_details',\n",
       "       'SurveyYear', 'Harvest_dict', 'Filtered_Harvest_dict',\n",
       "       'Number_all_harv', 'Number_older_harv'],\n",
       "      dtype='object')"
      ]
     },
     "execution_count": 245,
     "metadata": {},
     "output_type": "execute_result"
    }
   ],
   "source": [
    "BU_points_harv_year_no_dups.columns"
   ]
  },
  {
   "cell_type": "code",
   "execution_count": 248,
   "metadata": {},
   "outputs": [
    {
     "name": "stderr",
     "output_type": "stream",
     "text": [
      "C:\\Users\\ilebe\\AppData\\Local\\Temp\\ipykernel_1604\\2428953250.py:1: UserWarning: Column names longer than 10 characters will be truncated when saved to ESRI Shapefile.\n",
      "  BU_points_harv_year_no_dups[['location', 'latitude', 'longitude', 'NSRNAME', 'NSRCODE', 'NRNAME',\n"
     ]
    }
   ],
   "source": [
    "BU_points_harv_year_no_dups[['location', 'latitude', 'longitude', 'NSRNAME', 'NSRCODE', 'NRNAME',\n",
    "       'nearest_harv_index', 'distance_nearest_harv', 'distance_1',\n",
    "       'YEAR_nearest_harv', 'geometry', \n",
    "       'SurveyYear', \n",
    "       'Number_all_harv', 'Number_older_harv']].to_file(os.path.join(processed_path, 'shapefiles', \"BU_points_harv_yeardetails_no_dups_3400.shp\"))"
   ]
  },
  {
   "cell_type": "code",
   "execution_count": null,
   "metadata": {},
   "outputs": [],
   "source": [
    "BU_points_contiguous_forest = BU_points_harv_year_no_dups.loc[BU_points_harv_year_no_dups['Number_older_harv'] == 1]"
   ]
  },
  {
   "cell_type": "code",
   "execution_count": 251,
   "metadata": {},
   "outputs": [
    {
     "name": "stderr",
     "output_type": "stream",
     "text": [
      "c:\\Users\\ilebe\\anaconda3\\lib\\site-packages\\geopandas\\geodataframe.py:1538: SettingWithCopyWarning: \n",
      "A value is trying to be set on a copy of a slice from a DataFrame.\n",
      "Try using .loc[row_indexer,col_indexer] = value instead\n",
      "\n",
      "See the caveats in the documentation: https://pandas.pydata.org/pandas-docs/stable/user_guide/indexing.html#returning-a-view-versus-a-copy\n",
      "  super().__setitem__(key, value)\n"
     ]
    }
   ],
   "source": [
    "BU_points_contiguous_forest['Year_since_harvest'] = BU_points_contiguous_forest['SurveyYear'] - BU_points_contiguous_forest['YEAR_nearest_harv']"
   ]
  },
  {
   "cell_type": "code",
   "execution_count": 7,
   "metadata": {},
   "outputs": [],
   "source": [
    "Interior_points = pd.read_csv(os.path.join(processed_path, \"Valid_BU_interior_points_ageOfHarv.csv\"))"
   ]
  },
  {
   "cell_type": "code",
   "execution_count": 10,
   "metadata": {},
   "outputs": [
    {
     "data": {
      "text/html": [
       "<div>\n",
       "<style scoped>\n",
       "    .dataframe tbody tr th:only-of-type {\n",
       "        vertical-align: middle;\n",
       "    }\n",
       "\n",
       "    .dataframe tbody tr th {\n",
       "        vertical-align: top;\n",
       "    }\n",
       "\n",
       "    .dataframe thead th {\n",
       "        text-align: right;\n",
       "    }\n",
       "</style>\n",
       "<table border=\"1\" class=\"dataframe\">\n",
       "  <thead>\n",
       "    <tr style=\"text-align: right;\">\n",
       "      <th></th>\n",
       "      <th>location</th>\n",
       "      <th>latitude</th>\n",
       "      <th>longitude</th>\n",
       "      <th>NSRNAME</th>\n",
       "      <th>NSRCODE</th>\n",
       "      <th>NRNAME</th>\n",
       "      <th>nearest_harv_index</th>\n",
       "      <th>distance_nearest_harv</th>\n",
       "      <th>YEAR_nearest_harv</th>\n",
       "      <th>SurveyYear</th>\n",
       "      <th>Number_older_harv</th>\n",
       "      <th>Year_since_harvest</th>\n",
       "    </tr>\n",
       "  </thead>\n",
       "  <tbody>\n",
       "    <tr>\n",
       "      <th>0</th>\n",
       "      <td>BAM-97</td>\n",
       "      <td>57.129393</td>\n",
       "      <td>-117.782274</td>\n",
       "      <td>Dry Mixedwood</td>\n",
       "      <td>DMW</td>\n",
       "      <td>Boreal</td>\n",
       "      <td>125137.0</td>\n",
       "      <td>214.962532</td>\n",
       "      <td>2001.0</td>\n",
       "      <td>2020</td>\n",
       "      <td>1</td>\n",
       "      <td>19.0</td>\n",
       "    </tr>\n",
       "    <tr>\n",
       "      <th>1</th>\n",
       "      <td>BG-1-9</td>\n",
       "      <td>56.247926</td>\n",
       "      <td>-110.973615</td>\n",
       "      <td>Central Mixedwood</td>\n",
       "      <td>CM</td>\n",
       "      <td>Boreal</td>\n",
       "      <td>223059.0</td>\n",
       "      <td>428.196015</td>\n",
       "      <td>1994.0</td>\n",
       "      <td>2014</td>\n",
       "      <td>1</td>\n",
       "      <td>20.0</td>\n",
       "    </tr>\n",
       "  </tbody>\n",
       "</table>\n",
       "</div>"
      ],
      "text/plain": [
       "  location   latitude   longitude            NSRNAME NSRCODE  NRNAME  \\\n",
       "0   BAM-97  57.129393 -117.782274      Dry Mixedwood     DMW  Boreal   \n",
       "1   BG-1-9  56.247926 -110.973615  Central Mixedwood      CM  Boreal   \n",
       "\n",
       "   nearest_harv_index  distance_nearest_harv  YEAR_nearest_harv  SurveyYear  \\\n",
       "0            125137.0             214.962532             2001.0        2020   \n",
       "1            223059.0             428.196015             1994.0        2014   \n",
       "\n",
       "   Number_older_harv  Year_since_harvest  \n",
       "0                  1                19.0  \n",
       "1                  1                20.0  "
      ]
     },
     "execution_count": 10,
     "metadata": {},
     "output_type": "execute_result"
    }
   ],
   "source": [
    "Interior_points.head(2)"
   ]
  },
  {
   "cell_type": "code",
   "execution_count": 24,
   "metadata": {},
   "outputs": [
    {
     "data": {
      "text/html": [
       "<div>\n",
       "<style scoped>\n",
       "    .dataframe tbody tr th:only-of-type {\n",
       "        vertical-align: middle;\n",
       "    }\n",
       "\n",
       "    .dataframe tbody tr th {\n",
       "        vertical-align: top;\n",
       "    }\n",
       "\n",
       "    .dataframe thead th {\n",
       "        text-align: right;\n",
       "    }\n",
       "</style>\n",
       "<table border=\"1\" class=\"dataframe\">\n",
       "  <thead>\n",
       "    <tr style=\"text-align: right;\">\n",
       "      <th></th>\n",
       "      <th>location</th>\n",
       "      <th>latitude</th>\n",
       "      <th>longitude</th>\n",
       "      <th>NSRNAME</th>\n",
       "      <th>NSRCODE</th>\n",
       "      <th>NRNAME</th>\n",
       "      <th>nearest_harv_index</th>\n",
       "      <th>distance_nearest_harv</th>\n",
       "      <th>YEAR_nearest_harv</th>\n",
       "      <th>SurveyYear</th>\n",
       "      <th>Number_older_harv</th>\n",
       "      <th>Year_since_harvest</th>\n",
       "      <th>adjusted Year_since_harvest</th>\n",
       "    </tr>\n",
       "  </thead>\n",
       "  <tbody>\n",
       "  </tbody>\n",
       "</table>\n",
       "</div>"
      ],
      "text/plain": [
       "Empty DataFrame\n",
       "Columns: [location, latitude, longitude, NSRNAME, NSRCODE, NRNAME, nearest_harv_index, distance_nearest_harv, YEAR_nearest_harv, SurveyYear, Number_older_harv, Year_since_harvest, adjusted Year_since_harvest]\n",
       "Index: []"
      ]
     },
     "execution_count": 24,
     "metadata": {},
     "output_type": "execute_result"
    }
   ],
   "source": [
    "Interior_points['adjusted Year_since_harvest'] = Interior_points['Year_since_harvest']\n",
    "Interior_points.loc[Interior_points['Year_since_harvest'] <0, 'adjusted Year_since_harvest'] = 1\n",
    "Interior_points[Interior_points['adjusted Year_since_harvest'] < 0]\n"
   ]
  },
  {
   "cell_type": "code",
   "execution_count": 61,
   "metadata": {},
   "outputs": [],
   "source": [
    "Interior_points_250 = Interior_points[Interior_points['distance_nearest_harv'] < 250]"
   ]
  },
  {
   "cell_type": "code",
   "execution_count": 81,
   "metadata": {},
   "outputs": [
    {
     "data": {
      "text/html": [
       "<div>\n",
       "<style scoped>\n",
       "    .dataframe tbody tr th:only-of-type {\n",
       "        vertical-align: middle;\n",
       "    }\n",
       "\n",
       "    .dataframe tbody tr th {\n",
       "        vertical-align: top;\n",
       "    }\n",
       "\n",
       "    .dataframe thead th {\n",
       "        text-align: right;\n",
       "    }\n",
       "</style>\n",
       "<table border=\"1\" class=\"dataframe\">\n",
       "  <thead>\n",
       "    <tr style=\"text-align: right;\">\n",
       "      <th></th>\n",
       "      <th>location</th>\n",
       "      <th>latitude</th>\n",
       "      <th>longitude</th>\n",
       "      <th>NSRNAME</th>\n",
       "      <th>NSRCODE</th>\n",
       "      <th>NRNAME</th>\n",
       "      <th>nearest_harv_index</th>\n",
       "      <th>distance_nearest_harv</th>\n",
       "      <th>YEAR_nearest_harv</th>\n",
       "      <th>SurveyYear</th>\n",
       "      <th>Number_older_harv</th>\n",
       "      <th>Year_since_harvest</th>\n",
       "      <th>adjusted Year_since_harvest</th>\n",
       "      <th>Frequency</th>\n",
       "    </tr>\n",
       "  </thead>\n",
       "  <tbody>\n",
       "  </tbody>\n",
       "</table>\n",
       "</div>"
      ],
      "text/plain": [
       "Empty DataFrame\n",
       "Columns: [location, latitude, longitude, NSRNAME, NSRCODE, NRNAME, nearest_harv_index, distance_nearest_harv, YEAR_nearest_harv, SurveyYear, Number_older_harv, Year_since_harvest, adjusted Year_since_harvest, Frequency]\n",
       "Index: []"
      ]
     },
     "execution_count": 81,
     "metadata": {},
     "output_type": "execute_result"
    }
   ],
   "source": [
    "Interior_points_250.loc[Interior_points['NSRNAME'] == 20]"
   ]
  },
  {
   "cell_type": "code",
   "execution_count": 109,
   "metadata": {},
   "outputs": [
    {
     "data": {
      "image/png": "[encoded data removed]",
      "text/plain": [
       "<Figure size 700x400 with 1 Axes>"
      ]
     },
     "metadata": {},
     "output_type": "display_data"
    }
   ],
   "source": [
    "# Plotting\n",
    "plt.figure(figsize=(7, 4))\n",
    "sns.scatterplot(data=Interior_points_250, x='adjusted Year_since_harvest', y='distance_nearest_harv', hue = \"NSRNAME\", alpha=0.8)\n",
    "# sns.move_legend(scatter, \"upper left\",title='Natural Subregions')\n",
    "plt.title('Distance vs Year Since Harvest')\n",
    "plt.xlabel('Years of regrowth')\n",
    "plt.ylabel('Distance (m)')\n",
    "# plt.show()\n",
    "plt.savefig(os.path.join(output_path, \"distance vs year since harvest.png\"),bbox_inches=\"tight\", dpi=300)\n"
   ]
  },
  {
   "cell_type": "code",
   "execution_count": 53,
   "metadata": {},
   "outputs": [
    {
     "data": {
      "image/png": "[encoded data removed]",
      "text/plain": [
       "<Figure size 400x300 with 1 Axes>"
      ]
     },
     "metadata": {},
     "output_type": "display_data"
    }
   ],
   "source": [
    "# Plotting\n",
    "plt.figure(figsize=(4, 3))\n",
    "\n",
    "# Histogram\n",
    "# plt.subplot(2, 2, 1)\n",
    "sns.histplot(Interior_points[Interior_points['distance_nearest_harv'] < 250]['adjusted Year_since_harvest'], bins=20, kde=False, color = \"gray\")\n",
    "plt.xlabel('Years betwen logging and survey')  # Set x-axis label\n",
    "plt.title('Interior sites within 250 m of harvest')\n",
    "plt.text(-7, -7, 'A', fontsize=20, fontweight='bold', ha='left', va='bottom')\n",
    "plt.savefig(os.path.join(output_path, \"interior BU points and time since harvest within 250 m.png\"), bbox_inches=\"tight\", dpi=300)"
   ]
  },
  {
   "cell_type": "code",
   "execution_count": 57,
   "metadata": {},
   "outputs": [
    {
     "data": {
      "image/png": "[encoded data removed]",
      "text/plain": [
       "<Figure size 400x300 with 1 Axes>"
      ]
     },
     "metadata": {},
     "output_type": "display_data"
    }
   ],
   "source": [
    "# Plotting\n",
    "plt.figure(figsize=(4, 3))\n",
    "\n",
    "# Histogram\n",
    "# plt.subplot(2, 2, 1)\n",
    "sns.histplot(Interior_points[Interior_points['distance_nearest_harv'] < 250]['distance_nearest_harv'], bins=20, kde=False, color = \"gray\")\n",
    "plt.xlabel('Distance nearest harvest (m)')  # Set x-axis label\n",
    "plt.title('Interior sites within 250 m of harvest')\n",
    "plt.text(-40, -5, 'B', fontsize=20, fontweight='bold', ha='left', va='bottom')\n",
    "plt.savefig(os.path.join(output_path, \"interior BU points and distance nearest harvest within 250 m.png\"), bbox_inches=\"tight\", dpi=300)"
   ]
  },
  {
   "cell_type": "code",
   "execution_count": 110,
   "metadata": {},
   "outputs": [
    {
     "data": {
      "text/plain": [
       "(208, 13)"
      ]
     },
     "execution_count": 110,
     "metadata": {},
     "output_type": "execute_result"
    }
   ],
   "source": [
    "Interior_points[Interior_points['distance_nearest_harv'] < 250].shape"
   ]
  },
  {
   "cell_type": "code",
   "execution_count": 255,
   "metadata": {},
   "outputs": [],
   "source": [
    "Valid_interior_sites_list = BU_points_contiguous_forest['location'].to_list()"
   ]
  },
  {
   "cell_type": "code",
   "execution_count": 260,
   "metadata": {},
   "outputs": [
    {
     "data": {
      "text/html": [
       "<div>\n",
       "<style scoped>\n",
       "    .dataframe tbody tr th:only-of-type {\n",
       "        vertical-align: middle;\n",
       "    }\n",
       "\n",
       "    .dataframe tbody tr th {\n",
       "        vertical-align: top;\n",
       "    }\n",
       "\n",
       "    .dataframe thead th {\n",
       "        text-align: right;\n",
       "    }\n",
       "</style>\n",
       "<table border=\"1\" class=\"dataframe\">\n",
       "  <thead>\n",
       "    <tr style=\"text-align: right;\">\n",
       "      <th></th>\n",
       "      <th>location</th>\n",
       "      <th>latitude</th>\n",
       "      <th>longitude</th>\n",
       "      <th>NSRNAME</th>\n",
       "      <th>NSRCODE</th>\n",
       "      <th>NRNAME</th>\n",
       "      <th>nearest_harv_index</th>\n",
       "      <th>distance_nearest_harv</th>\n",
       "      <th>distance_1</th>\n",
       "      <th>YEAR_nearest_harv</th>\n",
       "      <th>geometry</th>\n",
       "      <th>buffer</th>\n",
       "      <th>harvest_poly_details</th>\n",
       "      <th>SurveyYear</th>\n",
       "      <th>Harvest_dict</th>\n",
       "      <th>Filtered_Harvest_dict</th>\n",
       "      <th>Number_all_harv</th>\n",
       "      <th>Number_older_harv</th>\n",
       "      <th>Year_since_harvest</th>\n",
       "    </tr>\n",
       "  </thead>\n",
       "  <tbody>\n",
       "    <tr>\n",
       "      <th>10</th>\n",
       "      <td>BAM-97</td>\n",
       "      <td>57.129393</td>\n",
       "      <td>-117.782274</td>\n",
       "      <td>Dry Mixedwood</td>\n",
       "      <td>DMW</td>\n",
       "      <td>Boreal</td>\n",
       "      <td>125137.0</td>\n",
       "      <td>214.962532</td>\n",
       "      <td>214.962532</td>\n",
       "      <td>2001.0</td>\n",
       "      <td>POINT (331664.357 6332689.653)</td>\n",
       "      <td>POLYGON ((336329.334 6332894.266, 336329.395 6...</td>\n",
       "      <td>[{'poly_id': 125137, 'distance': 214.962531838...</td>\n",
       "      <td>2020</td>\n",
       "      <td>[{'poly_id': 125137, 'distance': 214.962531838...</td>\n",
       "      <td>[{'poly_id': 125137, 'distance': 214.962531838...</td>\n",
       "      <td>1</td>\n",
       "      <td>1</td>\n",
       "      <td>19.0</td>\n",
       "    </tr>\n",
       "    <tr>\n",
       "      <th>170</th>\n",
       "      <td>BG-1-9</td>\n",
       "      <td>56.247926</td>\n",
       "      <td>-110.973615</td>\n",
       "      <td>Central Mixedwood</td>\n",
       "      <td>CM</td>\n",
       "      <td>Boreal</td>\n",
       "      <td>223059.0</td>\n",
       "      <td>428.196015</td>\n",
       "      <td>428.196015</td>\n",
       "      <td>1994.0</td>\n",
       "      <td>POINT (749328.474 6238468.043)</td>\n",
       "      <td>POLYGON ((753993.451 6238672.656, 753993.512 6...</td>\n",
       "      <td>[{'poly_id': 223059, 'distance': 428.196015479...</td>\n",
       "      <td>2014</td>\n",
       "      <td>[{'poly_id': 223059, 'distance': 428.196015479...</td>\n",
       "      <td>[{'poly_id': 223059, 'distance': 428.196015479...</td>\n",
       "      <td>1</td>\n",
       "      <td>1</td>\n",
       "      <td>20.0</td>\n",
       "    </tr>\n",
       "  </tbody>\n",
       "</table>\n",
       "</div>"
      ],
      "text/plain": [
       "    location   latitude   longitude            NSRNAME NSRCODE  NRNAME  \\\n",
       "10    BAM-97  57.129393 -117.782274      Dry Mixedwood     DMW  Boreal   \n",
       "170   BG-1-9  56.247926 -110.973615  Central Mixedwood      CM  Boreal   \n",
       "\n",
       "     nearest_harv_index  distance_nearest_harv  distance_1  YEAR_nearest_harv  \\\n",
       "10             125137.0             214.962532  214.962532             2001.0   \n",
       "170            223059.0             428.196015  428.196015             1994.0   \n",
       "\n",
       "                           geometry  \\\n",
       "10   POINT (331664.357 6332689.653)   \n",
       "170  POINT (749328.474 6238468.043)   \n",
       "\n",
       "                                                buffer  \\\n",
       "10   POLYGON ((336329.334 6332894.266, 336329.395 6...   \n",
       "170  POLYGON ((753993.451 6238672.656, 753993.512 6...   \n",
       "\n",
       "                                  harvest_poly_details  SurveyYear  \\\n",
       "10   [{'poly_id': 125137, 'distance': 214.962531838...        2020   \n",
       "170  [{'poly_id': 223059, 'distance': 428.196015479...        2014   \n",
       "\n",
       "                                          Harvest_dict  \\\n",
       "10   [{'poly_id': 125137, 'distance': 214.962531838...   \n",
       "170  [{'poly_id': 223059, 'distance': 428.196015479...   \n",
       "\n",
       "                                 Filtered_Harvest_dict  Number_all_harv  \\\n",
       "10   [{'poly_id': 125137, 'distance': 214.962531838...                1   \n",
       "170  [{'poly_id': 223059, 'distance': 428.196015479...                1   \n",
       "\n",
       "     Number_older_harv  Year_since_harvest  \n",
       "10                   1                19.0  \n",
       "170                  1                20.0  "
      ]
     },
     "execution_count": 260,
     "metadata": {},
     "output_type": "execute_result"
    }
   ],
   "source": [
    "BU_points_contiguous_forest.head(2)"
   ]
  },
  {
   "cell_type": "code",
   "execution_count": 261,
   "metadata": {},
   "outputs": [],
   "source": [
    "BU_points_contiguous_forest[['location', 'latitude', 'longitude', 'NSRNAME', 'NSRCODE', 'NRNAME',\n",
    "       'nearest_harv_index', 'distance_nearest_harv',\n",
    "       'YEAR_nearest_harv',\n",
    "       'SurveyYear',  'Number_older_harv', 'Year_since_harvest']].to_csv(os.path.join(processed_path, \"Valid_BU_interior_points_ageOfHarv.csv\"), index = False)"
   ]
  },
  {
   "cell_type": "code",
   "execution_count": 197,
   "metadata": {},
   "outputs": [
    {
     "data": {
      "text/plain": [
       "\"{'poly_id': 125267, 'distance': 232.70497446046176, 'year': 2010}, {'poly_id': 125137, 'distance': 245.15823643277795, 'year': 2001}\""
      ]
     },
     "execution_count": 197,
     "metadata": {},
     "output_type": "execute_result"
    }
   ],
   "source": [
    "dict_BAM96 = BU_points[BU_points['location'] == \"BAM-96\"][\"harvest_poly_details\"][0][1:-1]\n",
    "# type(dict_BAM96)\n",
    "dict_BAM96"
   ]
  },
  {
   "cell_type": "markdown",
   "metadata": {},
   "source": [
    "# F. Get the habitat type around each point"
   ]
  },
  {
   "cell_type": "code",
   "execution_count": 270,
   "metadata": {},
   "outputs": [],
   "source": [
    "BU_points_harv_year = None\n",
    "BU_public_spring_dawn_points = None"
   ]
  },
  {
   "cell_type": "code",
   "execution_count": 271,
   "metadata": {},
   "outputs": [],
   "source": [
    "BU_points_contiguous_forest_ready = BU_points_contiguous_forest[['location', 'latitude', 'longitude', 'NSRNAME', 'NSRCODE', 'NRNAME',\n",
    "       'nearest_harv_index', 'distance_nearest_harv',\n",
    "       'YEAR_nearest_harv', 'geometry',\n",
    "       'SurveyYear',  'Number_older_harv', 'Year_since_harvest']]"
   ]
  },
  {
   "cell_type": "code",
   "execution_count": 272,
   "metadata": {},
   "outputs": [
    {
     "data": {
      "text/html": [
       "<div>\n",
       "<style scoped>\n",
       "    .dataframe tbody tr th:only-of-type {\n",
       "        vertical-align: middle;\n",
       "    }\n",
       "\n",
       "    .dataframe tbody tr th {\n",
       "        vertical-align: top;\n",
       "    }\n",
       "\n",
       "    .dataframe thead th {\n",
       "        text-align: right;\n",
       "    }\n",
       "</style>\n",
       "<table border=\"1\" class=\"dataframe\">\n",
       "  <thead>\n",
       "    <tr style=\"text-align: right;\">\n",
       "      <th></th>\n",
       "      <th>location</th>\n",
       "      <th>latitude</th>\n",
       "      <th>longitude</th>\n",
       "      <th>NSRNAME</th>\n",
       "      <th>NSRCODE</th>\n",
       "      <th>NRNAME</th>\n",
       "      <th>nearest_harv_index</th>\n",
       "      <th>distance_nearest_harv</th>\n",
       "      <th>YEAR_nearest_harv</th>\n",
       "      <th>geometry</th>\n",
       "      <th>SurveyYear</th>\n",
       "      <th>Number_older_harv</th>\n",
       "      <th>Year_since_harvest</th>\n",
       "    </tr>\n",
       "  </thead>\n",
       "  <tbody>\n",
       "    <tr>\n",
       "      <th>10</th>\n",
       "      <td>BAM-97</td>\n",
       "      <td>57.129393</td>\n",
       "      <td>-117.782274</td>\n",
       "      <td>Dry Mixedwood</td>\n",
       "      <td>DMW</td>\n",
       "      <td>Boreal</td>\n",
       "      <td>125137.0</td>\n",
       "      <td>214.962532</td>\n",
       "      <td>2001.0</td>\n",
       "      <td>POINT (331664.357 6332689.653)</td>\n",
       "      <td>2020</td>\n",
       "      <td>1</td>\n",
       "      <td>19.0</td>\n",
       "    </tr>\n",
       "  </tbody>\n",
       "</table>\n",
       "</div>"
      ],
      "text/plain": [
       "   location   latitude   longitude        NSRNAME NSRCODE  NRNAME  \\\n",
       "10   BAM-97  57.129393 -117.782274  Dry Mixedwood     DMW  Boreal   \n",
       "\n",
       "    nearest_harv_index  distance_nearest_harv  YEAR_nearest_harv  \\\n",
       "10            125137.0             214.962532             2001.0   \n",
       "\n",
       "                          geometry  SurveyYear  Number_older_harv  \\\n",
       "10  POINT (331664.357 6332689.653)        2020                  1   \n",
       "\n",
       "    Year_since_harvest  \n",
       "10                19.0  "
      ]
     },
     "execution_count": 272,
     "metadata": {},
     "output_type": "execute_result"
    }
   ],
   "source": [
    "BU_points_contiguous_forest_ready.head(1)"
   ]
  },
  {
   "cell_type": "markdown",
   "metadata": {},
   "source": [
    "Intersect the raster with point buffers.\n",
    "1. Clip the raset file to the alberta outline\n",
    "2. Transform the rasters as polygons.\n",
    "3. Interect the buffered points to the tree polygons"
   ]
  },
  {
   "cell_type": "code",
   "execution_count": 273,
   "metadata": {},
   "outputs": [],
   "source": [
    "alberta = gpd.read_file(r\"C:\\Users\\ilebe\\Documents\\!Masters!\\Alberta-GIS-Ecology-Tools-1\\alberta shapefile\\alberta.shp\")"
   ]
  },
  {
   "cell_type": "code",
   "execution_count": 276,
   "metadata": {},
   "outputs": [
    {
     "data": {
      "text/plain": [
       "<Projected CRS: PROJCS[\"PCS_Lambert_Conformal_Conic\",GEOGCS[\"GCS_N ...>\n",
       "Name: PCS_Lambert_Conformal_Conic\n",
       "Axis Info [cartesian]:\n",
       "- [east]: Easting (metre)\n",
       "- [north]: Northing (metre)\n",
       "Area of Use:\n",
       "- undefined\n",
       "Coordinate Operation:\n",
       "- name: unnamed\n",
       "- method: Lambert Conic Conformal (2SP)\n",
       "Datum: North American Datum 1983\n",
       "- Ellipsoid: GRS 1980\n",
       "- Prime Meridian: Greenwich"
      ]
     },
     "execution_count": 276,
     "metadata": {},
     "output_type": "execute_result"
    }
   ],
   "source": [
    "alberta.crs"
   ]
  },
  {
   "cell_type": "code",
   "execution_count": 277,
   "metadata": {},
   "outputs": [],
   "source": [
    "alberta3400 = alberta.to_crs(epsg=3400)"
   ]
  },
  {
   "cell_type": "code",
   "execution_count": 280,
   "metadata": {},
   "outputs": [
    {
     "data": {
      "text/plain": [
       "<AxesSubplot:>"
      ]
     },
     "execution_count": 280,
     "metadata": {},
     "output_type": "execute_result"
    },
    {
     "data": {
      "image/png": "[encoded data removed]",
      "text/plain": [
       "<Figure size 600x400 with 1 Axes>"
      ]
     },
     "metadata": {},
     "output_type": "display_data"
    }
   ],
   "source": [
    "# Plot the data\n",
    "fig, ax = plt.subplots(figsize=(6, 4))\n",
    "\n",
    "alberta3400.plot(ax=ax, facecolor = 'white', edgecolor = 'black')"
   ]
  },
  {
   "cell_type": "code",
   "execution_count": 281,
   "metadata": {},
   "outputs": [],
   "source": [
    "import rasterio\n",
    "from rasterio.plot import show\n",
    "\n",
    "# Replace 'your_raster_file.tif' with the path to your raster file\n",
    "raster_file = lead_tree_raster_path\n",
    "raster = rasterio.open(raster_file)\n"
   ]
  },
  {
   "cell_type": "code",
   "execution_count": 286,
   "metadata": {},
   "outputs": [],
   "source": [
    "from rasterio.warp import calculate_default_transform, reproject, Resampling\n",
    "\n",
    "# Get the CRS of the shapefile\n",
    "shapefile_crs = alberta3400.crs\n",
    "\n",
    "# Open the original raster\n",
    "with rasterio.open(lead_tree_raster_path) as src:\n",
    "    # Calculate the transformation and new dimensions for the target CRS\n",
    "    transform, width, height = calculate_default_transform(\n",
    "        src.crs, shapefile_crs, src.width, src.height, *src.bounds)\n",
    "    \n",
    "    # Update the metadata for the reprojected raster\n",
    "    kwargs = src.meta.copy()\n",
    "    kwargs.update({\n",
    "        'crs': shapefile_crs,\n",
    "        'transform': transform,\n",
    "        'width': width,\n",
    "        'height': height\n",
    "    })\n",
    "\n",
    "    # Reproject and save the raster to a new file\n",
    "    with rasterio.open('LeadTree3400.tif', 'w', **kwargs) as dst:\n",
    "        for i in range(1, src.count + 1):\n",
    "            reproject(\n",
    "                source=rasterio.band(src, i),\n",
    "                destination=rasterio.band(dst, i),\n",
    "                src_transform=src.transform,\n",
    "                src_crs=src.crs,\n",
    "                dst_transform=transform,\n",
    "                dst_crs=shapefile_crs,\n",
    "                resampling=Resampling.nearest)\n"
   ]
  },
  {
   "cell_type": "code",
   "execution_count": 287,
   "metadata": {},
   "outputs": [],
   "source": [
    "LeadTree3400 = rasterio.open('LeadTree3400.tif')\n"
   ]
  },
  {
   "cell_type": "code",
   "execution_count": 288,
   "metadata": {},
   "outputs": [
    {
     "data": {
      "text/plain": [
       "CRS.from_wkt('LOCAL_CS[\"NAD83 / Alberta 10-TM (Forest)\",UNIT[\"metre\",1,AUTHORITY[\"EPSG\",\"9001\"]],AXIS[\"Easting\",EAST],AXIS[\"Northing\",NORTH]]')"
      ]
     },
     "execution_count": 288,
     "metadata": {},
     "output_type": "execute_result"
    }
   ],
   "source": [
    "LeadTree3400.crs"
   ]
  },
  {
   "cell_type": "code",
   "execution_count": 289,
   "metadata": {},
   "outputs": [],
   "source": [
    "from rasterio.mask import mask\n",
    "\n",
    "# Extract the geometry in GeoJSON format\n",
    "geoms = alberta3400.geometry.values  # GeoDataFrame to numpy array\n",
    "geometry = geoms[0]  # Assuming only one geometry (province border)\n",
    "geojson = geometry.__geo_interface__\n",
    "\n",
    "# Clip the raster with the polygon\n",
    "out_image, out_transform = mask(LeadTree3400, [geojson], crop=True)"
   ]
  },
  {
   "cell_type": "code",
   "execution_count": 291,
   "metadata": {},
   "outputs": [
    {
     "data": {
      "image/png": "[encoded data removed]",
      "text/plain": [
       "<Figure size 640x480 with 1 Axes>"
      ]
     },
     "metadata": {},
     "output_type": "display_data"
    },
    {
     "data": {
      "text/plain": [
       "<AxesSubplot:>"
      ]
     },
     "execution_count": 291,
     "metadata": {},
     "output_type": "execute_result"
    }
   ],
   "source": [
    "# Optionally, visualize the clipped raster\n",
    "show(out_image[0], transform=out_transform)"
   ]
  },
  {
   "cell_type": "code",
   "execution_count": 292,
   "metadata": {},
   "outputs": [],
   "source": [
    "# Copy the metadata of the original raster\n",
    "out_meta = raster.meta.copy()\n",
    "\n",
    "# Update the metadata with new dimensions, transform, and CRS\n",
    "out_meta.update({\"driver\": \"GTiff\",\n",
    "                 \"height\": out_image.shape[1],\n",
    "                 \"width\": out_image.shape[2],\n",
    "                 \"transform\": out_transform})\n",
    "\n",
    "# Write the clipped raster to a new file\n",
    "with rasterio.open('AB_clipped_Lead_tree3400.tif', \"w\", **out_meta) as dest:\n",
    "    dest.write(out_image)"
   ]
  },
  {
   "cell_type": "code",
   "execution_count": 294,
   "metadata": {},
   "outputs": [],
   "source": [
    "# Step 1: Read the raster file\n",
    "with rasterio.open('AB_clipped_Lead_tree3400.tif') as src:\n",
    "    # Step 2: Convert the raster to a NumPy array\n",
    "    raster_array = src.read(1)  # Assuming you're interested in the first band\n",
    "    \n",
    "    # Step 3: Generate polygons from the raster\n",
    "    results = (\n",
    "        {'properties': {'raster_val': v}, 'geometry': s}\n",
    "        for i, (s, v) in enumerate(\n",
    "            shapes(raster_array, mask=None, transform=src.transform)))  # Use `masked_array.mask` instead of None if using a mask\n",
    "    \n",
    "    # Step 4: Convert the polygons into a GeoDataFrame\n",
    "    geoms = list(results)\n",
    "    LeadTree_polygons = gpd.GeoDataFrame.from_features(geoms)"
   ]
  },
  {
   "cell_type": "code",
   "execution_count": null,
   "metadata": {},
   "outputs": [],
   "source": [
    "LeadTree_polygons"
   ]
  },
  {
   "cell_type": "code",
   "execution_count": null,
   "metadata": {},
   "outputs": [],
   "source": [
    "\n",
    "# Set the intersected feature class\n",
    "intersected_fc = \"Interior_250_Intersect\"\n",
    "\n",
    "# Retrieve unique polygon IDs and tree species\n",
    "polygon_ids = list(set([row[0] for row in arcpy.da.SearchCursor(intersected_fc, ['location'])]))\n",
    "tree_species = list(set([row[0] for row in arcpy.da.SearchCursor(intersected_fc, ['gridcode'])]))\n",
    "\n",
    "# Initialize an empty DataFrame to store the results\n",
    "results_df = pd.DataFrame(columns=['location', 'Tree_Species', 'Percentage'])\n",
    "\n",
    "# Calculate the area of each tree species within individual polygons\n",
    "for polygon_id in polygon_ids:\n",
    "    total_area = 0\n",
    "    tree_species_areas = {species: 0 for species in tree_species}\n",
    "\n",
    "    with arcpy.da.SearchCursor(intersected_fc, ['location', 'gridcode', 'Shape_Area']) as cursor:\n",
    "        for row in cursor:\n",
    "            if row[0] == polygon_id:\n",
    "                total_area += row[2]\n",
    "                tree_species_areas[row[1]] += row[2]\n",
    "\n",
    "    # Calculate the percentage and append to the results DataFrame\n",
    "    for species, area in tree_species_areas.items():\n",
    "        percentage = (area / total_area) * 100\n",
    "        results_df = results_df.append({'Polygon_ID': polygon_id, 'Tree_Species': species, 'Percentage': percentage}, ignore_index=True)\n",
    "\n",
    "# Print the final results\n",
    "print(results_df)\n"
   ]
  },
  {
   "cell_type": "code",
   "execution_count": 63,
   "metadata": {},
   "outputs": [
    {
     "name": "stderr",
     "output_type": "stream",
     "text": [
      "c:\\Users\\ilebe\\anaconda3\\lib\\site-packages\\geopandas\\geodataframe.py:1538: SettingWithCopyWarning: \n",
      "A value is trying to be set on a copy of a slice from a DataFrame.\n",
      "Try using .loc[row_indexer,col_indexer] = value instead\n",
      "\n",
      "See the caveats in the documentation: https://pandas.pydata.org/pandas-docs/stable/user_guide/indexing.html#returning-a-view-versus-a-copy\n",
      "  super().__setitem__(key, value)\n",
      "c:\\Users\\ilebe\\anaconda3\\lib\\site-packages\\rasterstats\\io.py:328: NodataWarning: Setting nodata to -999; specify nodata explicitly\n",
      "  warnings.warn(\n"
     ]
    }
   ],
   "source": [
    "# Step 1: Create a 150m buffer around each point\n",
    "BU_points_within_500m_post_1980_good_sites['geometry_150m'] = BU_points_within_500m_post_1980_good_sites['geometry'].buffer(150)\n",
    "\n",
    "\n",
    "# Define the area covered by each pixel\n",
    "pixel_area = 30 * 30  # Each pixel is 30m x 30m\n",
    "\n",
    "# The total area of a 150m radius circle\n",
    "total_area = np.pi * (150 ** 2)\n",
    "\n",
    "with rasterio.open(lead_tree_rater_path) as src:\n",
    "    for ji, window in src.block_windows(1):\n",
    "        data = src.read(1, window=window)\n",
    "    affine = src.transform\n",
    "    array = src.read(1) \n",
    "    # Calculate zonal statistics for each buffered point\n",
    "    stats = zonal_stats(BU_points_within_500m_post_1980_good_sites, array, affine=affine, stats=\"count\", categorical=True, nodata=src.nodata)\n",
    "\n",
    "# Convert the stats to proportions of the total area\n",
    "proportions_list = []\n",
    "for stat in stats:\n",
    "    if stat:  # Check if the dictionary is not empty\n",
    "        proportions = {str(k): (v * pixel_area) / total_area for k, v in stat.items()}\n",
    "    else:\n",
    "        proportions = {}\n",
    "    proportions_list.append(proportions)\n",
    "\n",
    "# Convert the list of dictionaries to a DataFrame\n",
    "proportions_df = pd.DataFrame(proportions_list)\n",
    "\n",
    "# Fill NaN values with 0, since no coverage implies 0% proportion\n",
    "proportions_df.fillna(0, inplace=True)\n",
    "\n",
    "# Join the proportions back to the points GeoDataFrame\n",
    "points_gdf = BU_points_within_500m_post_1980_good_sites.join(proportions_df)"
   ]
  }
 ],
 "metadata": {
  "kernelspec": {
   "display_name": "myenv",
   "language": "python",
   "name": "python3"
  },
  "language_info": {
   "codemirror_mode": {
    "name": "ipython",
    "version": 3
   },
   "file_extension": ".py",
   "mimetype": "text/x-python",
   "name": "python",
   "nbconvert_exporter": "python",
   "pygments_lexer": "ipython3",
   "version": "3.8.18"
  }
 },
 "nbformat": 4,
 "nbformat_minor": 2
}
